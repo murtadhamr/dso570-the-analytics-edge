{
 "cells": [
  {
   "cell_type": "markdown",
   "id": "bd9c7dba-2545-4261-8a25-1d1d53adaeaa",
   "metadata": {},
   "source": [
    "# Exercises for Week 3: Algorithmic Thinking"
   ]
  },
  {
   "cell_type": "markdown",
   "id": "8e566eb7-7047-4b7f-b849-293423d8f086",
   "metadata": {},
   "source": [
    "## Grading Scheme:\n",
    "Important: This Jupyter notebook needs to be completed and submitted via Blackboard before the due date to receive a non-zero grade.\n",
    "\n",
    "- 5: Every question is completed and the code returns the correct outputs on all of the sample inputs.\n",
    "- 4: Almost complete, but certain questions are blank, returns clearly incorrect outputs, or the code there does not run at all.\n",
    "- 3: This score will not be assigned, as everyone should strive to get 4 or 5.\n",
    "- 2: Not close to complete, but at least 50% complete.\n",
    "- 1: At least 10% complete, but less than 50% complete\n",
    "- 0: Less than 10% complete, or response is identical to someone else's, indicating plagiarism.\n",
    "\n",
    "A perfect score is 5. Note that your code does not need to be absolutely perfect to receive a 5, but you need to complete every question and ensure that the outputs are correct on all of the sample runs included here. **To ensure that you get 5 out of 5, before you submit, restart the Kernel and run all, and check that all of the outputs are as intended.**\n",
    "\n",
    "These exercises are intended to be completed in 5-7 hours, including class time. You should budget at least this much time before the due date."
   ]
  },
  {
   "cell_type": "markdown",
   "id": "e97919a5-4613-43a8-9d23-ca1c2a3279bf",
   "metadata": {},
   "source": [
    "## Name: Muhammad Murtadha Ramadhan"
   ]
  },
  {
   "cell_type": "markdown",
   "id": "492d967e-40f4-4401-8d54-4ea76a7249f5",
   "metadata": {},
   "source": [
    "## Exercise 3.1: Optimal Pricing\n",
    "\n",
    "Write a function \"optPrice\" with two input arguments:\n",
    "\n",
    "- `priceList`: a list of proposed prices.\n",
    "- `valueList`: a list of numbers. Each number represents the willingness to pay for the product from a particular customer.\n",
    "\n",
    "For a given price, the demand is equal to the number of customers with willingness to pay greater than or equal to the price. The function should iterate through the list of prices, and compute the estimated revenue for each price, which is equal to the price times the demand. \n",
    "\n",
    "The function should return two objects: the first is the best price found. The second object is a dictionary mapping each price to the estimated revenue for that price. \n",
    "\n",
    "**Sample run:**\n",
    "\n",
    "```python\n",
    "priceList=range(0,36,5)\n",
    "valueList=[32,10,15,18,25,40,50,43]\n",
    "bestPrice,revenueDict=optPrice(priceList,valueList)\n",
    "print('Best price:',bestPrice)\n",
    "print('Revenue dictionary:',revenueDict)\n",
    "```\n",
    "\n",
    "**Correct output:**\n",
    "\n",
    "```\n",
    "Best price: 25\n",
    "Revenue dictionary: {0: 0, 5: 40, 10: 80, 15: 105, 20: 100, 25: 125, 30: 120, 35: 105}\n",
    "```\n",
    "\n",
    "**Solve this problem by applying the four steps of algorithmic thinking.**"
   ]
  },
  {
   "cell_type": "markdown",
   "id": "37bc98ac-5955-46a7-9682-ced03d422122",
   "metadata": {},
   "source": [
    "**Step 1. Understand** (Write your summary in this Markdown cell)\n",
    "- Calculate the revenue for each price and find the price with the highest revenue\n",
    "\n",
    "\n"
   ]
  },
  {
   "cell_type": "markdown",
   "id": "2364dd94-9b58-47f4-a020-86faeb90178a",
   "metadata": {},
   "source": [
    "**Step 2. Decompose** (Write your instructions in this Markdown cell)\n",
    "- Filter the value list which has value greater or equal to price list and count how many customers qualified on the conditions\n",
    "- Revenue = count customers * price\n",
    "\n",
    "\n"
   ]
  },
  {
   "cell_type": "markdown",
   "id": "891762d4-3e7d-4bde-89d0-29e8b557fdcb",
   "metadata": {},
   "source": [
    "**Step 3. Analyze** (Write code fragments in separate code cells to implement the trickiest steps, as in the in-class demonstration)"
   ]
  },
  {
   "cell_type": "code",
   "execution_count": 1,
   "id": "96d25308-ec9f-4f20-bb7a-d3bfd90fa99d",
   "metadata": {
    "tags": []
   },
   "outputs": [
    {
     "name": "stdout",
     "output_type": "stream",
     "text": [
      "Customer: [32, 25, 40, 50, 43]\n",
      "Revenue: 100\n"
     ]
    }
   ],
   "source": [
    "priceList=list(range(0,36,5))\n",
    "valueList=[32,10,15,18,25,40,50,43]\n",
    "\n",
    "i = 4\n",
    "customers = [x for x in valueList if x >= priceList[i]]\n",
    "count_customers = len(customers)\n",
    "rev = count_customers * priceList[i]\n",
    "\n",
    "print(f'Customer: {customers}')\n",
    "print(f'Revenue: {rev}')"
   ]
  },
  {
   "cell_type": "markdown",
   "id": "a4cc82df-84c3-4d20-a037-b91e63e8848f",
   "metadata": {},
   "source": [
    "**Step 4. Synthesis** \n"
   ]
  },
  {
   "cell_type": "code",
   "execution_count": 2,
   "id": "a0896727-c795-4916-9681-c85bb887157e",
   "metadata": {
    "tags": []
   },
   "outputs": [
    {
     "name": "stdout",
     "output_type": "stream",
     "text": [
      "Price\tCustomers\tRevenue\tMax_Revenue\tBest_Price\n",
      "0\t8\t\t0\t0\t\t0\n",
      "5\t8\t\t40\t40\t\t5\n",
      "10\t8\t\t80\t80\t\t10\n",
      "15\t7\t\t105\t105\t\t15\n",
      "20\t5\t\t100\t105\t\t15\n",
      "25\t5\t\t125\t125\t\t25\n",
      "30\t4\t\t120\t125\t\t25\n",
      "35\t3\t\t105\t125\t\t25\n"
     ]
    }
   ],
   "source": [
    "# Version for debugging: with intermediate printing and no function encapsulation\n",
    "priceList=range(0,36,5)\n",
    "valueList=[32,10,15,18,25,40,50,43]\n",
    "max_revenue = 0\n",
    "best_price = 0\n",
    "\n",
    "print(f'Price\\tCustomers\\tRevenue\\tMax_Revenue\\tBest_Price')\n",
    "\n",
    "for price in priceList:\n",
    "    cnt_customers = len([x for x in valueList if x >= price])\n",
    "    revenue = cnt_customers * price\n",
    "    if revenue > max_revenue:\n",
    "        max_revenue = revenue\n",
    "        best_price = price\n",
    "        \n",
    "    print(f'{price}\\t{cnt_customers}\\t\\t{revenue}\\t{max_revenue}\\t\\t{best_price}')"
   ]
  },
  {
   "cell_type": "code",
   "execution_count": 3,
   "id": "56bee91d-7c86-4a21-8ad3-8772ec64a781",
   "metadata": {
    "tags": []
   },
   "outputs": [],
   "source": [
    "# Final code \n",
    "def optPrice(priceList, valueList):\n",
    "    revenueDict = {}\n",
    "    max_revenue = 0\n",
    "    best_price = 0\n",
    "    \n",
    "    for price in priceList:\n",
    "        cnt_customers = len([x for x in valueList if x >= price])\n",
    "        revenue = cnt_customers * price\n",
    "        if revenue > max_revenue:\n",
    "            max_revenue = revenue\n",
    "            best_price = price\n",
    "        revenueDict[price] = revenue\n",
    "        \n",
    "    return best_price, revenueDict"
   ]
  },
  {
   "cell_type": "code",
   "execution_count": 4,
   "id": "ddaf0655-f555-43c8-befd-471f9db40ea8",
   "metadata": {
    "tags": []
   },
   "outputs": [
    {
     "name": "stdout",
     "output_type": "stream",
     "text": [
      "Best price: 25\n",
      "Revenue dictionary: {0: 0, 5: 40, 10: 80, 15: 105, 20: 100, 25: 125, 30: 120, 35: 105}\n"
     ]
    }
   ],
   "source": [
    "# Test code 1\n",
    "priceList=range(0,40,5)\n",
    "valueList=[32,10,15,18,25,40,50,43]\n",
    "bestPrice,revenueDict=optPrice(priceList,valueList)\n",
    "print('Best price:',bestPrice)\n",
    "print('Revenue dictionary:',revenueDict)"
   ]
  },
  {
   "cell_type": "code",
   "execution_count": 5,
   "id": "318f5c98-a1d4-4122-8edf-e50172b9f40d",
   "metadata": {
    "tags": []
   },
   "outputs": [
    {
     "data": {
      "image/png": "[encoded data removed]",
      "text/plain": [
       "<Figure size 640x480 with 1 Axes>"
      ]
     },
     "metadata": {},
     "output_type": "display_data"
    }
   ],
   "source": [
    "# Graphical display\n",
    "priceList=range(0,40,5)\n",
    "valueList=[32,10,15,18,25,40,50,43]\n",
    "bestPrice,revenueDict=optPrice(priceList,valueList)\n",
    "\n",
    "import matplotlib.pyplot as plt\n",
    "revenueList=[revenueDict[price] for price in priceList]\n",
    "plt.plot(priceList,revenueList)\n",
    "plt.plot([bestPrice],[revenueDict[bestPrice]],'ro')\n",
    "plt.xlabel('Price')\n",
    "plt.ylabel('Revenue')\n",
    "plt.title(f'Optimal price is \\${bestPrice} with revenue \\${revenueDict[bestPrice]}')\n",
    "plt.show()"
   ]
  },
  {
   "cell_type": "code",
   "execution_count": 6,
   "id": "2a055dcc-1862-40e3-a889-ca847ded7385",
   "metadata": {
    "tags": []
   },
   "outputs": [
    {
     "data": {
      "image/png": "[encoded data removed]",
      "text/plain": [
       "<Figure size 640x480 with 1 Axes>"
      ]
     },
     "metadata": {},
     "output_type": "display_data"
    }
   ],
   "source": [
    "# Test code 2\n",
    "bestPrice,revenueDict=optPrice(range(0,50),[10,15,12,30,42,50,18,13,15,5,3,10,35,33,10])\n",
    "import matplotlib.pyplot as plt\n",
    "import pandas as pd\n",
    "pd.Series(revenueDict).plot()\n",
    "plt.plot([bestPrice],[revenueDict[bestPrice]],'ro')\n",
    "plt.xlabel('Price')\n",
    "plt.ylabel('Revenue')\n",
    "plt.title(f'Optimal price is \\${bestPrice} with revenue \\${revenueDict[bestPrice]}')\n",
    "plt.show()"
   ]
  },
  {
   "cell_type": "markdown",
   "id": "abe21d9d-2f24-4ddc-b59f-44450625d54f",
   "metadata": {},
   "source": [
    "## Exercise 3.2: Optimal Stocking Level\n",
    "\n",
    "Write a function named `optBaseStock` with four input arguments:\n",
    "\n",
    "- `levelList`: a list of possible stocking levels to optimize over.\n",
    "- `demandList`: a list of demand scenarios. \n",
    "- `underage`: the unit cost of having too little inventory to meet demand.\n",
    "- `overage`: the unit cost of having too much inventory.\n",
    "\n",
    "For each possible stocking level, the function should compute the average inventory cost, which is defined as the average over all demand scenarios of the total underage cost plus the total overage cost. For example, if the stocking level is 10, the demand scenarios are `[6,12,14]`, the underage cost is 9 and the overage is 5, then\n",
    "\n",
    "- The inventory cost for the scenario `demand=6` is $(10-6)\\times 5=20$, because the stocking level is 4 units too high. (The overage cost of 5/unit is applied when the inventory is too high.)\n",
    "- The inventory cost for the scenario `demand=12` is $(12-10)\\times 9=18$, because the stocking level is 2 units too low. (The underage cost of 9/unit is applied when the inventory is too low.) \n",
    "- The inventory cost for the scenario `demand=14` is $(14-10)\\times 9=36$, because the stocking level is 4 units too low. \n",
    "\n",
    "The average inventory cost for stocking level 10 is $(20+18+36)/3=74/3\\approx 24.67$.  \n",
    "\n",
    "The function should return two objects:\n",
    "\n",
    "- `bestLevel`: the stocking level in `levelList` that achieves the minimum average inventory cost (if there is a tie, return the smallest stocking level that yields the minimum cost).\n",
    "- `avCost`: a dictionary that maps each stocking level to the corresponding average inventory cost.\n",
    "\n",
    "**Sample run:**\n",
    "\n",
    "```python\n",
    "demandList=[10,18,5,20,16,30,15,3,5,10]\n",
    "levelList=range(0,30,5)\n",
    "underage=10\n",
    "overage=3\n",
    "bestLevel,avCost=optBaseStock(levelList,demandList,underage,overage)\n",
    "print('bestLevel:',bestLevel)\n",
    "print('avCost:',avCost)\n",
    "```\n",
    "\n",
    "**Correct output:**\n",
    "\n",
    "```\n",
    "bestLevel 20\n",
    "avCost {0: 132.0, 5: 84.6, 10: 54.1, 15: 36.6, 20: 33.4, 25: 41.9}\n",
    "```\n",
    "\n",
    "**Solve this problem by applying the four steps of algorithmic thinking.**"
   ]
  },
  {
   "cell_type": "markdown",
   "id": "d6ab0a13-7dcb-4145-a87e-d1c38c62454f",
   "metadata": {},
   "source": [
    "**Step 1. Understand** (Write your summary of the task in this cell:)\n",
    "- Finding the best level of stock with minimum cost among others and calculate average of cost from each stocking level\n",
    "\n",
    "\n"
   ]
  },
  {
   "cell_type": "markdown",
   "id": "a69943d7-0d73-4a27-9a21-d08f8f2434d1",
   "metadata": {},
   "source": [
    "**Step 2. Decompose** (Write your instructions in this Markdown cell)\n",
    "- Classify value from demand list whether the value is below or above stocking level\n",
    "- If the demand value is below stocking level, calculate the gap between both with stocking level - demand value and sum all the gap value gained. Then multiply the total gap value with overage value\n",
    "- If the demand value is above stocking level, calculate the gap between both with demand value - stocking level and sum all the gap value gained. Then multiply the total gap value with underage value\n",
    "- Sum both above to get overall cost\n",
    "- Divide overall cost by total item in demand list to get average cost\n",
    "- Compare average cost among stock level list to obtain best stock level\n",
    "\n",
    "\n",
    "\n"
   ]
  },
  {
   "cell_type": "markdown",
   "id": "9d999a14-8b71-45cc-ba4a-1009b6befbc6",
   "metadata": {},
   "source": [
    "**Step 3. Analyze** (Write code fragments in separate code cells to implement the trickiest steps)"
   ]
  },
  {
   "cell_type": "code",
   "execution_count": 7,
   "id": "3e3e6595-52ca-44b0-9c96-e55fc8443669",
   "metadata": {
    "tags": []
   },
   "outputs": [],
   "source": [
    "demandList=[10,18,5,20,16,30,15,3,5,10]\n",
    "levelList=range(0,30,5)\n",
    "underage=10\n",
    "overage=3"
   ]
  },
  {
   "cell_type": "code",
   "execution_count": 8,
   "id": "8549a9a8-9047-47b1-9f3d-387a13b104e1",
   "metadata": {
    "tags": []
   },
   "outputs": [
    {
     "data": {
      "text/plain": [
       "41.9"
      ]
     },
     "execution_count": 8,
     "metadata": {},
     "output_type": "execute_result"
    }
   ],
   "source": [
    "#if stocking level = 0\n",
    "# print(sum(demandList)/len(demandList)*10)\n",
    "\n",
    "#if stocking level = 5\n",
    "stocking_level = 25\n",
    "x = [stocking_level - value for value in demandList if value < stocking_level]\n",
    "y = [value - stocking_level for value in demandList if value > stocking_level]\n",
    "\n",
    "final = (sum(x)*overage+sum(y)*underage)/len(demandList)\n",
    "final"
   ]
  },
  {
   "cell_type": "markdown",
   "id": "f70dd920-bbf1-4510-a9ea-e79cff6a9d54",
   "metadata": {},
   "source": [
    "**Step 4. Synthesize** (Combine your code fragments from Step 3, but do so in an incremental fashion and print intermediate results)"
   ]
  },
  {
   "cell_type": "code",
   "execution_count": 9,
   "id": "a7e65546-8967-49f0-a8b6-a81a59f740d1",
   "metadata": {
    "tags": []
   },
   "outputs": [
    {
     "name": "stdout",
     "output_type": "stream",
     "text": [
      "Level\tAvg Cost\tBest Level\tMin Cost\n",
      "0\t132.0\t\t0\t\t132.0\n",
      "5\t84.6\t\t5\t\t84.6\n",
      "10\t54.1\t\t10\t\t54.1\n",
      "15\t36.6\t\t15\t\t36.6\n",
      "20\t33.4\t\t20\t\t33.4\n",
      "25\t41.9\t\t20\t\t33.4\n"
     ]
    }
   ],
   "source": [
    "# Version for debugging: with intermediate printing and no function encapsulation\n",
    "avg_cost = {}\n",
    "min_cost = 99999\n",
    "best_level = 0\n",
    "   \n",
    "column = ['Level', 'Avg Cost', 'Best Level', 'Min Cost']\n",
    "print(f'{column[0]}\\t{column[1]}\\t{column[2]}\\t{column[3]}')\n",
    "\n",
    "for level in levelList:\n",
    "    overage_list = [level - demand for demand in demandList if demand < level]\n",
    "    underage_list = [demand - level for demand in demandList if demand > level]\n",
    "    cost = (sum(overage_list)*overage+sum(underage_list)*underage)/len(demandList)\n",
    "        \n",
    "    if cost < min_cost:\n",
    "        min_cost = cost\n",
    "        best_level = level\n",
    "            \n",
    "    avg_cost[level] = cost\n",
    "    \n",
    "    print(f'{level}\\t{cost}\\t\\t{best_level}\\t\\t{min_cost}')"
   ]
  },
  {
   "cell_type": "code",
   "execution_count": 10,
   "id": "61cadd58-155e-4282-bd17-015dc1003037",
   "metadata": {
    "tags": []
   },
   "outputs": [],
   "source": [
    "# Final code: removing intermediate printing and encapuslating in a function\n",
    "# Sample run\n",
    "def optBaseStock(levelList,demandList,underage,overage):\n",
    "    avg_cost = {}\n",
    "    min_cost = 99999\n",
    "    best_level = 0\n",
    "    \n",
    "    for level in levelList:\n",
    "        overage_list = [level - demand for demand in demandList if demand < level]\n",
    "        underage_list = [demand - level for demand in demandList if demand > level]\n",
    "        cost = (sum(overage_list)*overage+sum(underage_list)*underage)/len(demandList)\n",
    "        \n",
    "        if cost < min_cost:\n",
    "            min_cost = cost\n",
    "            best_level = level\n",
    "            \n",
    "        avg_cost[level] = cost\n",
    "        \n",
    "    return best_level, avg_cost\n"
   ]
  },
  {
   "cell_type": "code",
   "execution_count": 11,
   "id": "16213a9e-ad7c-430c-9d7a-ca03d43d1075",
   "metadata": {
    "tags": []
   },
   "outputs": [
    {
     "name": "stdout",
     "output_type": "stream",
     "text": [
      "bestLevel: 20\n",
      "avCost: {0: 132.0, 5: 84.6, 10: 54.1, 15: 36.6, 20: 33.4, 25: 41.9}\n"
     ]
    }
   ],
   "source": [
    "# Sample run\n",
    "demandList=[10,18,5,20,16,30,15,3,5,10]\n",
    "levelList=range(0,30,5)\n",
    "underage=10\n",
    "overage=3\n",
    "bestLevel,avCost=optBaseStock(levelList,demandList,underage,overage)\n",
    "print('bestLevel:',bestLevel)\n",
    "print('avCost:',avCost)"
   ]
  },
  {
   "cell_type": "markdown",
   "id": "6dbdd5f2-5041-4927-8f29-8ac65ed2fe83",
   "metadata": {},
   "source": [
    "The following code illustrates how the results might be graphed as in Exercise 3.1"
   ]
  },
  {
   "cell_type": "code",
   "execution_count": 12,
   "id": "ba2ac42f-3f66-4ea6-9cd0-03e5036284d1",
   "metadata": {
    "tags": []
   },
   "outputs": [
    {
     "data": {
      "image/png": "[encoded data removed]",
      "text/plain": [
       "<Figure size 640x480 with 1 Axes>"
      ]
     },
     "metadata": {},
     "output_type": "display_data"
    }
   ],
   "source": [
    "demandList=[10,18,5,20,16,30,15,3,5,10]\n",
    "levelList=range(0,30,5)\n",
    "underage=10\n",
    "overage=3\n",
    "bestLevel,cost=optBaseStock(levelList,demandList,underage,overage)\n",
    "\n",
    "import matplotlib.pyplot as plt\n",
    "levelList=sorted(levelList)\n",
    "costList=[cost[level] for level in levelList]\n",
    "plt.plot(levelList,costList)\n",
    "plt.plot([bestLevel],[cost[bestLevel]],'ro')\n",
    "plt.title(f'Optimal stocking level is {bestLevel} with cost {round(cost[bestLevel],2)}')\n",
    "plt.xlabel('Stocking level')\n",
    "plt.ylabel('Average inventory cost')\n",
    "plt.ylim(bottom=0)\n",
    "plt.show()"
   ]
  },
  {
   "cell_type": "code",
   "execution_count": 13,
   "id": "1f6420b3-1205-4df5-86ba-7f4cfb497c92",
   "metadata": {
    "tags": []
   },
   "outputs": [
    {
     "data": {
      "image/png": "[encoded data removed]",
      "text/plain": [
       "<Figure size 640x480 with 1 Axes>"
      ]
     },
     "metadata": {},
     "output_type": "display_data"
    }
   ],
   "source": [
    "#Sample run 2\n",
    "demandList=[10,18,5,16,30,15,3,5,10,60,50,30,40,20,30,20,50,80,30,60,80]\n",
    "levelList=range(0,50,5)\n",
    "underage=9\n",
    "overage=6\n",
    "bestLevel,cost=optBaseStock(levelList,demandList,underage,overage)\n",
    "\n",
    "import matplotlib.pyplot as plt\n",
    "levelList=sorted(levelList)\n",
    "costList=[cost[level] for level in levelList]\n",
    "plt.plot(levelList,costList)\n",
    "plt.plot([bestLevel],[cost[bestLevel]],'ro')\n",
    "plt.title(f'Optimal stocking level is {bestLevel} with cost {round(cost[bestLevel],2)}')\n",
    "plt.xlabel('Stocking level')\n",
    "plt.ylabel('Average inventory cost')\n",
    "plt.ylim(bottom=0)\n",
    "plt.show()"
   ]
  },
  {
   "cell_type": "markdown",
   "id": "fd65fe02-d3e5-4f17-bd5c-8066b2686dd7",
   "metadata": {},
   "source": [
    "## Exercise 3.3: Demand Estimation for Substitutable Products\n",
    "\n",
    "Write a function named \"demand\" with two input arguments:\n",
    "\n",
    "- `priceVector`: a list of length 2 containing two positive numbers, corresponding to the proposed prices for the two products.\n",
    "- `values`: a list in which each element is a list of length 2, corresponding to the valuation of a customer for the two products.\n",
    "\n",
    "\n",
    "The function should return a list of two numbers, representing the number of customers purchasing each product. Assume the same customer behavior as in the paper coding exercise.\n",
    "\n",
    "\n",
    "**Sample run:** \n",
    "\n",
    "```python\n",
    "values=[[25,15],[18,18],[30,20],[30,30]]\n",
    "priceVector=[25,20]\n",
    "demand(priceVector,values)\n",
    "```\n",
    "\n",
    "**Correct result:**\n",
    "\n",
    "```\n",
    "[2, 1]\n",
    "```\n",
    "\n",
    "**Solve this problem by applying the four steps of algorithmic thinking.**"
   ]
  },
  {
   "cell_type": "markdown",
   "id": "d8f08b60-bae0-4a57-a9df-28e8c22212fd",
   "metadata": {},
   "source": [
    "\n",
    "**Step 1. Understand:** Summarize the task in your own words and verify your understanding by manually computing the results for a few inputs. \n",
    "- Obtain the total number of purchases for each product given the purchase conditions\n",
    "\n"
   ]
  },
  {
   "cell_type": "markdown",
   "id": "dfd6db16-6279-47ff-b807-fec21f29362a",
   "metadata": {},
   "source": [
    "**Step 2. Decompose:** Write clear and precise instructions for another human being to manually compute the appropriate results for any possible input, imagining that the person does not have access to the problem description but only has your instructions to go on. \n",
    "- Calculate the gap between each value from customer valuation for the two products against proposed price of the two products\n",
    "- If both gap value retrieve value below zero, do nothing\n",
    "- If gap value of product 0 >= gap value of product 1, then add 1 purchase for product 0\n",
    "- If gap of product 0 < gap value of product 1, then add 1 purchase for product 1\n"
   ]
  },
  {
   "cell_type": "markdown",
   "id": "946d7881-f85e-404d-951e-e9753d8c2442",
   "metadata": {},
   "source": [
    "**Step 3. Analyze:** For each part of the instructions above, plan how you would implement it using computer code. For the trickest parts, write code fragments and create intermediate inputs to test each fragment by itself."
   ]
  },
  {
   "cell_type": "code",
   "execution_count": 14,
   "id": "bace6856-73c4-4b4e-8fd7-8ed14d1182d1",
   "metadata": {
    "tags": []
   },
   "outputs": [
    {
     "name": "stdout",
     "output_type": "stream",
     "text": [
      "Purchase Price: [30, 20]\n",
      "Proposed Price: [25, 20]\n",
      "\n",
      "Demand Values\tPurchase of Product 0\tPurchase of Product 1\n",
      "5\t0\t1\t\t\t0\n"
     ]
    }
   ],
   "source": [
    "values=[[25,15],[18,18],[30,20],[30,30]]\n",
    "priceVector=[25,20]\n",
    "\n",
    "product_0 = 0\n",
    "product_1 = 0\n",
    "\n",
    "i = 2\n",
    "\n",
    "print(f'Purchase Price: {values[i]}')\n",
    "print(f'Proposed Price: {priceVector}\\n')\n",
    "print(f'Demand Values\\tPurchase of Product 0\\tPurchase of Product 1')\n",
    "\n",
    "temp_0 = values[i][0] - priceVector[0]\n",
    "temp_1 = values[i][1] - priceVector[1]\n",
    "if temp_0 < 0 and temp_1 < 0:\n",
    "    print(f'{temp_0}\\t{temp_1}\\t{product_0}\\t\\t\\t{product_1}')\n",
    "elif temp_0 >= temp_1:\n",
    "    product_0 += 1\n",
    "    print(f'{temp_0}\\t{temp_1}\\t{product_0}\\t\\t\\t{product_1}')\n",
    "elif temp_0 < temp_1:\n",
    "    product_1 += 1\n",
    "    print(f'{temp_0}\\t{temp_1}\\t{product_0}\\t\\t\\t{product_1}')\n",
    "        "
   ]
  },
  {
   "cell_type": "markdown",
   "id": "d8c487f9-29f4-4887-a573-9b9690c8996b",
   "metadata": {},
   "source": [
    "**Step 4. Synthesize:** Using the results of Steps 1 and 2, put the code fragments from Step 3 together to create a complete solution. You should do this in an incremental fashion and print intermediate outputs as you go to make sure that each part of the code matches your expectations."
   ]
  },
  {
   "cell_type": "code",
   "execution_count": 15,
   "id": "7accbcce-623a-4a33-a27e-958f953c8a6c",
   "metadata": {
    "tags": []
   },
   "outputs": [
    {
     "name": "stdout",
     "output_type": "stream",
     "text": [
      "Demand Values\tPurchase of Product 0\tPurchase of Product 1\n",
      "[25, 15]\t1\t\t\t0\n",
      "[18, 18]\t1\t\t\t0\n",
      "[18, 18]\t1\t\t\t0\n",
      "[30, 20]\t2\t\t\t0\n",
      "[30, 30]\t2\t\t\t1\n"
     ]
    }
   ],
   "source": [
    "# Version for debugging: with intermediate printing and no function encapsulation\n",
    "\n",
    "values=[[25,15],[18,18],[30,20],[30,30]]\n",
    "priceVector=[25,20]\n",
    "\n",
    "product_0 = 0\n",
    "product_1 = 0\n",
    "\n",
    "print(f'Demand Values\\tPurchase of Product 0\\tPurchase of Product 1')\n",
    "\n",
    "for i in range(len(values)):   \n",
    "    temp_0 = values[i][0] - priceVector[0]\n",
    "    temp_1 = values[i][1] - priceVector[1]\n",
    "    if temp_0 < 0 and temp_1 < 0:\n",
    "        print(f'{values[i]}\\t{product_0}\\t\\t\\t{product_1}')\n",
    "    elif temp_0 >= temp_1:\n",
    "        product_0 += 1\n",
    "    else:\n",
    "        product_1 += 1\n",
    "        \n",
    "    print(f'{values[i]}\\t{product_0}\\t\\t\\t{product_1}')\n",
    "    # print(temp_0, temp_1)"
   ]
  },
  {
   "cell_type": "code",
   "execution_count": 16,
   "id": "6c749f1b-2515-4c08-99e3-38529092d674",
   "metadata": {
    "tags": []
   },
   "outputs": [],
   "source": [
    "# Final code (modify the above after it already works)\n",
    "def demand(priceVector, values):\n",
    "    product_0 = 0\n",
    "    product_1 = 0\n",
    "    \n",
    "    for i in range(len(values)):   \n",
    "        temp_0 = values[i][0] - priceVector[0]\n",
    "        temp_1 = values[i][1] - priceVector[1]\n",
    "        if temp_0 < 0 and temp_1 < 0:\n",
    "            continue\n",
    "        elif temp_0 >= temp_1:\n",
    "            product_0 += 1\n",
    "        else:\n",
    "            product_1 += 1\n",
    "            \n",
    "    return [product_0, product_1]"
   ]
  },
  {
   "cell_type": "code",
   "execution_count": 17,
   "id": "f929bde7-ed5d-48d3-8238-3dfecedd6f9a",
   "metadata": {
    "tags": []
   },
   "outputs": [
    {
     "data": {
      "text/plain": [
       "[2, 1]"
      ]
     },
     "execution_count": 17,
     "metadata": {},
     "output_type": "execute_result"
    }
   ],
   "source": [
    "# Test code\n",
    "values=[[25,15],[18,18],[30,20],[30,30]]\n",
    "priceVector=[25,20]\n",
    "demand(priceVector,values)"
   ]
  },
  {
   "cell_type": "code",
   "execution_count": 18,
   "id": "05b4b021-30ad-4d7f-b51b-043b4662cd40",
   "metadata": {
    "tags": []
   },
   "outputs": [
    {
     "data": {
      "text/plain": [
       "[2, 3]"
      ]
     },
     "execution_count": 18,
     "metadata": {},
     "output_type": "execute_result"
    }
   ],
   "source": [
    "# Test code 2\n",
    "values=[[25,15],[18,18],[30,20],[30,30],[20,10],[60,30],[0,20],[30,21]]\n",
    "priceVector=[30,20]\n",
    "demand(priceVector,values)"
   ]
  },
  {
   "cell_type": "markdown",
   "id": "d50d5d3f-d61e-4735-a569-ca90d44024bc",
   "metadata": {},
   "source": [
    "**For Exercise 3.4 and 3.5, you do not have to write out the four steps, but you are encouraged to code on paper first before typing.**\n",
    "\n",
    "## Exercise 3.4: Airline Revenue Management\n",
    "\n",
    "The question asks you to simulate the performance of a common revenue management strategy practiced by airlines for selling seats on a given flight. \n",
    "\n",
    "**Write a function called \"simulateRevenue\" with five input arguments:**\n",
    "\n",
    "- `valueList`: a list of numbers, with each number representing a customer's maximum willingness to pay for a seat in the given flight. The list is ordered according to the sequence in which customers make purchase decisions, with the earlier entries corresponding to customers who try to make purchases earlier than others. \n",
    "- `inventory`: a positive number representing the total number of seats that can be sold on the given flight.\n",
    "- `threshold`: a non-negative number such that as soon as the number of remaining seats is less than or equal to this threshold, then the price changes. \n",
    "- `price1`: the initial price for each seat before the price change described above.\n",
    "- `price2`: the updated price for each seat after the price change.\n",
    "\n",
    "Assume that each customer goes online to purchase the seat in the order as they appear in the list, and each customer buys whenever his/her willingness to pay is greater than or equal to the current price, which is equal to `price1` if the number of unsold tickets is strictly greater than `threshold` and is equal to `price2` if the number of unsold tickets is less than or equal to `threshold`. (The number of unsold tickets is initially equal to `inventory`, before any customer makes a purchase.) **The function should return (not print) the total revenue corresponding to the given parameters.**\n",
    "\n",
    "For example, if `valueList=[50,60,100,20,80,90,80,200,250,100]`, then\n",
    "\n",
    "- `simulateRevenue(valueList, 3, 0, 60, 1)` should return `180` because all 3 tickets are sold at the initial price of 60, since the price change never happens as threshold=0.\n",
    "- `simulateRevenue(valueList, 3, 0, 200, 1)` should return `400` because only 2 people are willing to pay the initial price of 200.\n",
    "- `simulateRevenue(valueList, 3, 1, 60, 200)` should return `320` because seats are sold at 60 each to the customer in position 1 (with willingness to pay 60) and to the customer in position 2 (with willingness to pay 100). At this point, only 1 seat is left, and the price is increased to 200. The next person who buys the last seat is the one in position 7 (with willingness to pay 200). \n",
    "- `simulateRevenue(valueList, 3, 1, 60, 251)` should return `120` because after two seats are sold at price 60, the price increases to 251, and none of the later customers are willing to pay this much. \n",
    "- `simulateRevenue(valueList, 3, 1, 200, 110)` should return `400` because only two customers are willing to pay the initial price of 200. \n",
    "- `simulateRevenue(valueList, 3, 2, 95, 200)` should return `495` because after selling an initial ticket at 95 to the customer in position 2 (with willingness to pay 100), the price becomes 200 and the customers in positions 7 and 8 buy (with willness to pay 200 and 250).\n"
   ]
  },
  {
   "cell_type": "code",
   "execution_count": 19,
   "id": "aaa3dd32-bf8a-4dc4-8fd8-6ad94e1bfdda",
   "metadata": {
    "tags": []
   },
   "outputs": [
    {
     "name": "stdout",
     "output_type": "stream",
     "text": [
      "400\n"
     ]
    }
   ],
   "source": [
    "valueList=[50,60,100,20,80,90,80,200,250,100]\n",
    "inventory = 3\n",
    "threshold = 1\n",
    "price1 = 200\n",
    "price2 = 110\n",
    "\n",
    "revenue = 0\n",
    "\n",
    "for value in valueList:\n",
    "    if inventory > threshold:\n",
    "        if value >= price1:\n",
    "            revenue += price1\n",
    "            inventory -= 1\n",
    "    else:\n",
    "        if value >= price2:\n",
    "            revenue += price2\n",
    "            inventory -= 1\n",
    "            \n",
    "    if inventory == 0:\n",
    "        break\n",
    "        \n",
    "print(revenue)"
   ]
  },
  {
   "cell_type": "code",
   "execution_count": 20,
   "id": "d43f1df0-149a-40b7-af88-87036bc0cc9a",
   "metadata": {
    "tags": []
   },
   "outputs": [],
   "source": [
    "# Write your function here\n",
    "def simulateRevenue(valueList, inventory, threshold, price1, price2):\n",
    "    revenue = 0\n",
    "\n",
    "    for value in valueList:\n",
    "        if inventory > threshold:\n",
    "            if value >= price1:\n",
    "                revenue += price1\n",
    "                inventory -= 1\n",
    "        else:\n",
    "            if value >= price2:\n",
    "                revenue += price2\n",
    "                inventory -= 1\n",
    "    \n",
    "        if inventory == 0:\n",
    "            break\n",
    "            \n",
    "    return revenue"
   ]
  },
  {
   "cell_type": "code",
   "execution_count": 21,
   "id": "5e92b46e-1be0-402b-915a-346dc58969dc",
   "metadata": {
    "tags": []
   },
   "outputs": [
    {
     "data": {
      "text/plain": [
       "180"
      ]
     },
     "execution_count": 21,
     "metadata": {},
     "output_type": "execute_result"
    }
   ],
   "source": [
    "# Sample runs\n",
    "valueList=[50,60,100,20,80,90,80,200,250,100]\n",
    "simulateRevenue(valueList, 3, 0, 60, 1)"
   ]
  },
  {
   "cell_type": "code",
   "execution_count": 22,
   "id": "679e60bc-5aa1-4bf1-a1ba-931f5860a5aa",
   "metadata": {
    "tags": []
   },
   "outputs": [
    {
     "data": {
      "text/plain": [
       "400"
      ]
     },
     "execution_count": 22,
     "metadata": {},
     "output_type": "execute_result"
    }
   ],
   "source": [
    "simulateRevenue(valueList, 3, 0, 200, 1)"
   ]
  },
  {
   "cell_type": "code",
   "execution_count": 23,
   "id": "b30c2913-b0c7-4b0c-b608-df447ae72bb7",
   "metadata": {
    "tags": []
   },
   "outputs": [
    {
     "data": {
      "text/plain": [
       "320"
      ]
     },
     "execution_count": 23,
     "metadata": {},
     "output_type": "execute_result"
    }
   ],
   "source": [
    "simulateRevenue(valueList, 3, 1, 60, 200)"
   ]
  },
  {
   "cell_type": "code",
   "execution_count": 24,
   "id": "46cc835c-4788-4a97-ac41-60ee98127f33",
   "metadata": {
    "tags": []
   },
   "outputs": [
    {
     "data": {
      "text/plain": [
       "120"
      ]
     },
     "execution_count": 24,
     "metadata": {},
     "output_type": "execute_result"
    }
   ],
   "source": [
    "simulateRevenue(valueList, 3, 1, 60, 251)"
   ]
  },
  {
   "cell_type": "code",
   "execution_count": 25,
   "id": "4c0a4e7e-dea0-46e8-8303-2412c62af75b",
   "metadata": {
    "tags": []
   },
   "outputs": [
    {
     "data": {
      "text/plain": [
       "400"
      ]
     },
     "execution_count": 25,
     "metadata": {},
     "output_type": "execute_result"
    }
   ],
   "source": [
    "simulateRevenue(valueList, 3, 1, 200, 110)"
   ]
  },
  {
   "cell_type": "code",
   "execution_count": 26,
   "id": "bb2039d3-c2c2-4197-a172-54de4c75637f",
   "metadata": {
    "tags": []
   },
   "outputs": [
    {
     "name": "stdout",
     "output_type": "stream",
     "text": [
      "495\n"
     ]
    }
   ],
   "source": [
    "print(simulateRevenue(valueList, 3, 2, 95, 200))"
   ]
  },
  {
   "cell_type": "markdown",
   "id": "88844081-a790-4795-b4ef-deb772261f29",
   "metadata": {},
   "source": [
    "## Exercise 3.5: Simulating Hospital Diversions\n",
    "\n",
    "Suppose that the hospital has a limited number of ICU beds for Critical patients and regular beds for Non-Critical patients. When not enough ICU beds are available to accommodate all Critical patients, then Critical patients are diverted to regular beds. (Here, diversion means that the patient who was supposed to be assigned to an ICU bed is now assigned to a regular bed.) When not enough regular beds are available, some patients may need to be diverted to facilities outside the hospital. A Non-Critical patient is NOT allowed to occupy an ICU bed, even if there are spare ICU beds but no regular beds available. \n",
    "\n",
    "For simplicity, assume that the diversions in a given week do not affect the number of Critical and Non-Critical patients in later weeks. Moreover, when not enough regular beds are available, Critical patients have priority over Non-Critical patients. \n",
    "\n",
    "**Write a function called \"simulateDiversions\" with four input parameters:**\n",
    "\n",
    "- **critical**: a list corresponding to the number of patients each week exhibiting Critical symptoms.\n",
    "- **nonCritical**: a list corresponding to the number of patients each week exhibiting Non-Critical symptoms.\n",
    "- **ICU**: a positive integer representing the number of ICU beds at the hospital.\n",
    "- **regular**: a positive integer representing the number of regular beds at the hospital.\n",
    "\n",
    "The function should return two numbers: \n",
    "\n",
    "- the average number of patients diverted from ICU beds each week. (These are Critical patients needing an ICU bed but could not get one. This includes Critical patients diverted to regular beds as well as to facilities outside the hospital.)\n",
    "- the average number of patients diverted from regular beds each week. (These are patients who are forced to be transferred to facilities outside the hospital, and may include both Critical and non-Critical patients.)\n",
    "\n",
    "See the following example with 3 ICU beds and 20 regular beds and five weeks of data:\n",
    "\n",
    "| Critical | Non-Critical | ICU Diversions | Regular Diversions |\n",
    "|--|--|--|--|\n",
    "|2|23 |0 | 3|\n",
    "|4|19 | 1 | 0 |\n",
    "|5| 20 |2 | 2 |\n",
    "|1| 24| 0 | 4 |\n",
    "|6| 18| 3 | 1 |\n",
    "\n",
    "In the example, the two numbers returned should be $(0+1+2+0+3)/5=1.2$ and $(3+0+2+4+1)/5=2$. After writing your function, an user should be able to run the following test code without any error."
   ]
  },
  {
   "cell_type": "code",
   "execution_count": 34,
   "id": "6fea507d-f8e3-462b-bd19-b3ac2cb5b7d8",
   "metadata": {
    "tags": []
   },
   "outputs": [
    {
     "name": "stdout",
     "output_type": "stream",
     "text": [
      "Critical\tNon Critical\tICU Diversions\tRegular Diversions\n",
      "2\t\t23\t\t0\t\t3\n",
      "4\t\t19\t\t1\t\t0\n",
      "5\t\t20\t\t2\t\t2\n",
      "1\t\t24\t\t0\t\t4\n",
      "6\t\t18\t\t3\t\t1\n"
     ]
    }
   ],
   "source": [
    "critical=[2,4,5,1,6]\n",
    "nonCritical=[23,19,20,24,18]\n",
    "icu_capacity = 3\n",
    "regular_capacity = 20\n",
    "\n",
    "icu_diversion = 0\n",
    "regular_diversion = 0\n",
    "\n",
    "###\n",
    "print(f'Critical\\tNon Critical\\tICU Diversions\\tRegular Diversions')\n",
    "for i in range(len(critical)):\n",
    "    icu_diversion = 0\n",
    "    regular_diversion = 0\n",
    "    icu_capacity = 3\n",
    "    regular_capacity = 20\n",
    "    \n",
    "    icu_diversion = max(critical[i] - icu_capacity, 0)\n",
    "\n",
    "    if icu_diversion > 0:\n",
    "        regular_capacity -= icu_diversion\n",
    "\n",
    "    regular_diversion = nonCritical[i] - regular_capacity\n",
    "    \n",
    "    print(f'{critical[i]}\\t\\t{nonCritical[i]}\\t\\t{icu_diversion}\\t\\t{regular_diversion}')"
   ]
  },
  {
   "cell_type": "code",
   "execution_count": 35,
   "id": "52fd4fa0-ace1-49ef-8ded-954da1f16f76",
   "metadata": {
    "tags": []
   },
   "outputs": [],
   "source": [
    "# Write your code below\n",
    "def simulateDiversions(critical, nonCritical, icu, regular):\n",
    "    i = 0\n",
    "    icu_diversion_list = []\n",
    "    regular_diversion_list = []\n",
    "    \n",
    "    for i in range(len(critical)): \n",
    "        icu_capacity = icu\n",
    "        regular_capacity = regular\n",
    "        \n",
    "        icu_diversion = 0\n",
    "        regular_diversion = 0\n",
    "\n",
    "        icu_diversion = max(critical[i] - icu_capacity, 0)\n",
    "\n",
    "        if icu_diversion > 0:\n",
    "            regular_capacity -= icu_diversion\n",
    "\n",
    "        regular_diversion = max(nonCritical[i] - regular_capacity, 0)\n",
    "        \n",
    "        icu_diversion_list.append(icu_diversion)\n",
    "        regular_diversion_list.append(regular_diversion)\n",
    "        \n",
    "    \n",
    "    return sum(icu_diversion_list)/len(icu_diversion_list), sum(regular_diversion_list)/len(regular_diversion_list) "
   ]
  },
  {
   "cell_type": "code",
   "execution_count": 36,
   "id": "d17cc8ae-8c9d-4438-8ea8-8808e22f3113",
   "metadata": {},
   "outputs": [
    {
     "name": "stdout",
     "output_type": "stream",
     "text": [
      "The average number of ICU vDiversions is 1.2.\n",
      "The average number of Regular Diversions is 2.0.\n"
     ]
    }
   ],
   "source": [
    "critical=[2,4,5,1,6]\n",
    "nonCritical=[23,19,20,24,18]\n",
    "avICUDiv,avRegularDiv=simulateDiversions(critical,nonCritical,3,20)\n",
    "print(f'The average number of ICU vDiversions is {avICUDiv}.')\n",
    "print(f'The average number of Regular Diversions is {avRegularDiv}.')"
   ]
  },
  {
   "cell_type": "code",
   "execution_count": 37,
   "id": "6d57e87f-7f7b-4df8-88c0-b6714ca079fe",
   "metadata": {
    "tags": []
   },
   "outputs": [
    {
     "name": "stdout",
     "output_type": "stream",
     "text": [
      "The average number of ICU vDiversions is 0.25.\n",
      "The average number of Regular Diversions is 0.75.\n"
     ]
    }
   ],
   "source": [
    "avICUDiv,avRegularDiv=simulateDiversions([3,0,0,1,2,3,1,0],[0,5,3,6,0,0,10,2],2,5)\n",
    "print(f'The average number of ICU vDiversions is {avICUDiv}.')\n",
    "print(f'The average number of Regular Diversions is {avRegularDiv}.')"
   ]
  },
  {
   "cell_type": "code",
   "execution_count": 38,
   "id": "57776e92-7d14-4221-b80b-62c15fe87795",
   "metadata": {
    "tags": []
   },
   "outputs": [
    {
     "name": "stdout",
     "output_type": "stream",
     "text": [
      "The average number of ICU vDiversions is 0.25.\n",
      "The average number of Regular Diversions is 0.5.\n"
     ]
    }
   ],
   "source": [
    "avICUDiv,avRegularDiv=simulateDiversions([3,0,0,1,2,3,1,0],[0,5,3,6,0,0,10,2],2,6)\n",
    "print(f'The average number of ICU vDiversions is {avICUDiv}.')\n",
    "print(f'The average number of Regular Diversions is {avRegularDiv}.')"
   ]
  },
  {
   "cell_type": "code",
   "execution_count": 39,
   "id": "bf8d2522-b264-4544-a5e7-28a5f7c6dd17",
   "metadata": {
    "tags": []
   },
   "outputs": [
    {
     "name": "stdout",
     "output_type": "stream",
     "text": [
      "The average number of ICU vDiversions is 0.625.\n",
      "The average number of Regular Diversions is 1.125.\n"
     ]
    }
   ],
   "source": [
    "avICUDiv,avRegularDiv=simulateDiversions([3,0,0,1,2,3,1,0],[0,5,3,6,0,0,10,2],1,4)\n",
    "print(f'The average number of ICU vDiversions is {avICUDiv}.')\n",
    "print(f'The average number of Regular Diversions is {avRegularDiv}.')"
   ]
  }
 ],
 "metadata": {
  "kernelspec": {
   "display_name": "Python 3 (ipykernel)",
   "language": "python",
   "name": "python3"
  },
  "language_info": {
   "codemirror_mode": {
    "name": "ipython",
    "version": 3
   },
   "file_extension": ".py",
   "mimetype": "text/x-python",
   "name": "python",
   "nbconvert_exporter": "python",
   "pygments_lexer": "ipython3",
   "version": "3.11.4"
  }
 },
 "nbformat": 4,
 "nbformat_minor": 5
}
