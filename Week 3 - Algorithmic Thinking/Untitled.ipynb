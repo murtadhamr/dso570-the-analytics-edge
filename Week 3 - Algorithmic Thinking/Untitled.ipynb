{
 "cells": [
  {
   "cell_type": "code",
   "execution_count": 6,
   "id": "66c878da-e5fc-49f3-8679-e7919a30903b",
   "metadata": {
    "tags": []
   },
   "outputs": [],
   "source": [
    "arrivals = [5, 8, 3, 10, 7, 4, 9 ,5, 8]\n",
    "max_demand = 0"
   ]
  },
  {
   "cell_type": "code",
   "execution_count": 7,
   "id": "84204328-6fce-4c7a-a636-5a7e4653f555",
   "metadata": {
    "tags": []
   },
   "outputs": [
    {
     "name": "stdout",
     "output_type": "stream",
     "text": [
      "0\t5\t5\t5\n",
      "1\t8\t13\t13\n",
      "2\t3\t16\t16\n",
      "3\t10\t21\t21\n",
      "4\t7\t20\t21\n",
      "5\t4\t21\t21\n",
      "6\t9\t20\t21\n",
      "7\t5\t18\t21\n",
      "8\t8\t22\t22\n"
     ]
    }
   ],
   "source": [
    "for week in range(len(arrivals)):\n",
    "    demand = sum(arrivals[max(0, week-2):week+1])\n",
    "    if demand > max_demand:\n",
    "        max_demand = demand\n",
    "    print(f'{week}\\t{arrivals[week]}\\t{demand}\\t{max_demand}')\n",
    "    "
   ]
  },
  {
   "cell_type": "code",
   "execution_count": 2,
   "id": "6a84aee0-b520-46bd-9682-307409786903",
   "metadata": {
    "tags": []
   },
   "outputs": [
    {
     "data": {
      "text/plain": [
       "'ab'"
      ]
     },
     "execution_count": 2,
     "metadata": {},
     "output_type": "execute_result"
    }
   ],
   "source": [
    "x = 'abcdef'\n",
    "x[0:2]"
   ]
  },
  {
   "cell_type": "code",
   "execution_count": 14,
   "id": "72227c7c-b250-46f6-bab4-76512e232c6e",
   "metadata": {
    "tags": []
   },
   "outputs": [],
   "source": [
    "haystack = 'hello'\n",
    "needle = 'll'"
   ]
  },
  {
   "cell_type": "code",
   "execution_count": 19,
   "id": "594bd089-80e1-405d-bee3-76243d798d3b",
   "metadata": {
    "tags": []
   },
   "outputs": [
    {
     "name": "stdout",
     "output_type": "stream",
     "text": [
      "he\t ll\n",
      "e\t ll\n",
      "\t ll\n",
      "2\n"
     ]
    }
   ],
   "source": [
    "len_needle = len(needle)\n",
    "index = -1\n",
    "for i in range(len(haystack)):\n",
    "    print(f'{haystack[i:len_needle]}\\t {needle}')\n",
    "    if needle == haystack[i:len_needle+i]:\n",
    "        index = i\n",
    "        break\n",
    "    # len_needle += 1\n",
    "        \n",
    "print(index)"
   ]
  },
  {
   "cell_type": "code",
   "execution_count": 20,
   "id": "fb2b9425-e19e-48a7-b30a-8c7599d71abe",
   "metadata": {
    "tags": []
   },
   "outputs": [
    {
     "name": "stdout",
     "output_type": "stream",
     "text": [
      "GameOfThrones\n"
     ]
    }
   ],
   "source": [
    "Tv = {'BreakingBad':100, 'GameOfThrones':1292, 'TMKUC' : 88}\n",
    " \n",
    "Keymax = max(zip(Tv.values(), Tv.keys()))[1]\n",
    "print(Keymax)"
   ]
  },
  {
   "cell_type": "code",
   "execution_count": 47,
   "id": "98ddfd0a-363c-44ae-8920-2083bd3f2fdf",
   "metadata": {
    "tags": []
   },
   "outputs": [
    {
     "name": "stdout",
     "output_type": "stream",
     "text": [
      "{3: 2, 2: 1}\n",
      "[]\n"
     ]
    }
   ],
   "source": [
    "dict_nums = {}\n",
    "nums = [3, 2, 3]\n",
    "dict_nums[3] = nums.count(3)\n",
    "nums = [value for value in nums if value != 3]\n",
    "dict_nums[2] = nums.count(2)\n",
    "nums = [value for value in nums if value != 2]\n",
    "\n",
    "print(dict_nums)\n",
    "print(nums)"
   ]
  },
  {
   "cell_type": "code",
   "execution_count": 81,
   "id": "9883355f-f0dd-4ef5-a7be-63b33ee24fe1",
   "metadata": {
    "tags": []
   },
   "outputs": [
    {
     "name": "stdout",
     "output_type": "stream",
     "text": [
      "[3]\t [2]\n",
      "[3, 2]\t [2, 1]\n",
      "{3: 2, 2: 1}\n",
      "3\n"
     ]
    }
   ],
   "source": [
    "nums = [3, 2, 3]\n",
    "dict_nums = {}\n",
    "list_num = []\n",
    "list_cnt = []\n",
    "i = 0\n",
    "\n",
    "while nums != []:\n",
    "    # temp = nums.count(i)\n",
    "    # dict_nums[i] = temp\n",
    "    list_num.append(nums[i])\n",
    "    list_cnt.append(nums.count(nums[i]))\n",
    "    nums = [value for value in nums if value != nums[i]]\n",
    "    print(f'{list_num}\\t {list_cnt}')\n",
    "    \n",
    "    # if nums == []:\n",
    "    #     break\n",
    "        \n",
    "dict_nums = dict(map(lambda i,j : (i,j) , list_num,list_cnt))\n",
    "        \n",
    "Keymax = max(zip(dict_nums.values(), dict_nums.keys()))[1]\n",
    "\n",
    "print(dict_nums)\n",
    "print(Keymax)"
   ]
  },
  {
   "cell_type": "code",
   "execution_count": 58,
   "id": "185d25a1-dce1-40e8-9d3b-78e5d0f45c79",
   "metadata": {
    "tags": []
   },
   "outputs": [
    {
     "data": {
      "text/plain": [
       "[1, 1, 1]"
      ]
     },
     "execution_count": 58,
     "metadata": {},
     "output_type": "execute_result"
    }
   ],
   "source": [
    "nums = [2,2,1,1,1,2,2]\n",
    "nums = [value for value in nums if value != 2]\n",
    "nums"
   ]
  },
  {
   "cell_type": "code",
   "execution_count": 91,
   "id": "1d04d51c-7659-4096-b866-6c1d2001b5de",
   "metadata": {
    "tags": []
   },
   "outputs": [
    {
     "name": "stdout",
     "output_type": "stream",
     "text": [
      "x [3, 2, 2, 1]\n"
     ]
    }
   ],
   "source": [
    "list1 = [1, 2]\n",
    "list2 = [3, 2]\n",
    "list3 = list1 + list2\n",
    "print('x', sorted(list3, reverse = True))\n",
    "        \n"
   ]
  },
  {
   "cell_type": "code",
   "execution_count": 106,
   "id": "9272bfbb-6a93-4ddb-b121-a2faca6276fc",
   "metadata": {
    "tags": []
   },
   "outputs": [
    {
     "data": {
      "text/plain": [
       "[0, 1, 1, 2, 1, 2]"
      ]
     },
     "execution_count": 106,
     "metadata": {},
     "output_type": "execute_result"
    }
   ],
   "source": [
    "n = 5\n",
    "\n",
    "final_list = []\n",
    "for i in range(0, n+1):\n",
    "    bin_num = bin(i)[2:]\n",
    "    bin_list = [int(x) for x in str(bin_num)]\n",
    "    final_list.append(sum(bin_list))\n",
    "        \n",
    "final_list"
   ]
  },
  {
   "cell_type": "code",
   "execution_count": 108,
   "id": "a441a227-cefc-4dce-919d-261572b1308b",
   "metadata": {
    "tags": []
   },
   "outputs": [
    {
     "data": {
      "text/plain": [
       "['1', '1', '1', '1']"
      ]
     },
     "execution_count": 108,
     "metadata": {},
     "output_type": "execute_result"
    }
   ],
   "source": [
    "list(str(1111))"
   ]
  },
  {
   "cell_type": "code",
   "execution_count": 124,
   "id": "ca6134e5-7c96-4ad0-b17b-cddfdb0843a7",
   "metadata": {
    "tags": []
   },
   "outputs": [
    {
     "name": "stdout",
     "output_type": "stream",
     "text": [
      "1, 1\n",
      "2, 2\n",
      "3, 3\n"
     ]
    },
    {
     "ename": "SyntaxError",
     "evalue": "'return' outside function (1430728553.py, line 14)",
     "output_type": "error",
     "traceback": [
      "\u001b[0;36m  Cell \u001b[0;32mIn[124], line 14\u001b[0;36m\u001b[0m\n\u001b[0;31m    return True\u001b[0m\n\u001b[0m    ^\u001b[0m\n\u001b[0;31mSyntaxError\u001b[0m\u001b[0;31m:\u001b[0m 'return' outside function\n"
     ]
    }
   ],
   "source": [
    "x = 123321\n",
    "x_list = list(str(x))\n",
    "palindrome_check = 0\n",
    "len_x = len(x_list)\n",
    "\n",
    "\n",
    "for i in range(int(len(x_list)/2)):\n",
    "    if x_list[i] == x_list[len_x-1]:\n",
    "        palindrome_check += 1\n",
    "    print(f'{x_list[i]}, {x_list[len_x-1]}')\n",
    "    len_x -= 1\n",
    "    \n",
    "if palindrome_check == int(len(x_list)/2):\n",
    "    return True\n",
    "else:\n",
    "    return False\n",
    "\n",
    "    "
   ]
  },
  {
   "cell_type": "code",
   "execution_count": 134,
   "id": "1193c0b3-14e5-42d8-9d45-0f4351a889e7",
   "metadata": {
    "tags": []
   },
   "outputs": [
    {
     "data": {
      "text/plain": [
       "[1, 2, 3, 2, 5, 6]"
      ]
     },
     "execution_count": 134,
     "metadata": {},
     "output_type": "execute_result"
    }
   ],
   "source": [
    "nums1 = [1,2,3,0,0,0]\n",
    "m = 3\n",
    "nums2 = [2,5,6]\n",
    "n = 3\n",
    "\n",
    "x = nums1[:m]\n",
    "y = nums2[:n]\n",
    "nums1 = x+y\n",
    "nums1"
   ]
  },
  {
   "cell_type": "code",
   "execution_count": 131,
   "id": "350cd58f-c87c-4f08-8b84-b42b5632e20b",
   "metadata": {
    "tags": []
   },
   "outputs": [
    {
     "data": {
      "text/plain": [
       "[2, 5, 6]"
      ]
     },
     "execution_count": 131,
     "metadata": {},
     "output_type": "execute_result"
    }
   ],
   "source": [
    "nums1[:m]+nums2[:n]"
   ]
  },
  {
   "cell_type": "code",
   "execution_count": 154,
   "id": "9a0a6d90-b5e4-4194-86f0-81f89459ce12",
   "metadata": {
    "tags": []
   },
   "outputs": [
    {
     "name": "stdout",
     "output_type": "stream",
     "text": [
      "0\n"
     ]
    },
    {
     "data": {
      "text/plain": [
       "'0'"
      ]
     },
     "execution_count": 154,
     "metadata": {},
     "output_type": "execute_result"
    }
   ],
   "source": [
    "a = \"0\"\n",
    "b = \"0\"\n",
    "\n",
    "len_max = max(len(a), len(b))\n",
    "\n",
    "if len(a) != len_max:\n",
    "    a = \"0\"*(len_max - len(a))+a\n",
    "if len(b) != len_max:\n",
    "    b = \"0\"*(len_max - len(b))+b\n",
    "    \n",
    "list_a = list(a)\n",
    "list_b = list(b)\n",
    "\n",
    "final = ''\n",
    "temp = 0\n",
    "i = len_max - 1\n",
    "\n",
    "while(i >= 0):\n",
    "# for i in range(len_max, -1, -1):\n",
    "    calc = 0\n",
    "    calc = int(list_a[i-1]) + int(list_b[i-1]) + temp\n",
    "    if calc == 2:\n",
    "        final = '0'+final\n",
    "        temp = 1\n",
    "    elif calc == 1:\n",
    "        final = '1'+final\n",
    "        temp = 0\n",
    "    else:\n",
    "        final = '0'+final\n",
    "        temp = 0\n",
    "    print(final)\n",
    "    i -= 1\n",
    "\n",
    "if temp == 1:\n",
    "    final = str(temp) + final\n",
    "    \n",
    "final"
   ]
  },
  {
   "cell_type": "code",
   "execution_count": 139,
   "id": "f24f9be9-0412-4de3-a940-89119fc2d2da",
   "metadata": {
    "tags": []
   },
   "outputs": [
    {
     "data": {
      "text/plain": [
       "[4, 3, 2, 1]"
      ]
     },
     "execution_count": 139,
     "metadata": {},
     "output_type": "execute_result"
    }
   ],
   "source": [
    "list(range(len_max, 0, -1))"
   ]
  },
  {
   "cell_type": "code",
   "execution_count": 177,
   "id": "5f45a7cc-fc93-4208-8f2b-97cddadee309",
   "metadata": {
    "tags": []
   },
   "outputs": [
    {
     "data": {
      "text/plain": [
       "[1, 2, 3, 5]"
      ]
     },
     "execution_count": 177,
     "metadata": {},
     "output_type": "execute_result"
    }
   ],
   "source": [
    "digits = [1, 2, 3, 4]\n",
    "\n",
    "\n",
    "str_digits =  [int(x) for x in str(int(''.join([str(x) for x in digits]))+1)]\n",
    "\n",
    "str_digits"
   ]
  },
  {
   "cell_type": "code",
   "execution_count": 160,
   "id": "9191a765-9be8-4680-a793-ca4241eb83fe",
   "metadata": {
    "tags": []
   },
   "outputs": [],
   "source": [
    "def plusOne(self, digits): return [int(x) for x in str(int(''.join([str(x) for x in digits])) + 1)]"
   ]
  },
  {
   "cell_type": "code",
   "execution_count": 161,
   "id": "44ef5edd-1ace-4d5b-8928-d7cf8d7c61ce",
   "metadata": {
    "tags": []
   },
   "outputs": [
    {
     "data": {
      "text/plain": [
       "['1', '2', '3', '5']"
      ]
     },
     "execution_count": 161,
     "metadata": {},
     "output_type": "execute_result"
    }
   ],
   "source": [
    "plusOne(digits)"
   ]
  },
  {
   "cell_type": "code",
   "execution_count": 178,
   "id": "b97de4f5-faff-4f97-8344-de5edf2fdcca",
   "metadata": {
    "tags": []
   },
   "outputs": [
    {
     "data": {
      "text/plain": [
       "['a', 'b', 'c']"
      ]
     },
     "execution_count": 178,
     "metadata": {},
     "output_type": "execute_result"
    }
   ],
   "source": [
    "word1 = 'abc'\n",
    "word2 = 'def'\n",
    "x = []\n",
    "\n",
    "# list(word1)\n",
    "for i in len(range(len(word1)*2)):\n",
    "    if i % 2 == 0:\n",
    "        x.append()"
   ]
  },
  {
   "cell_type": "code",
   "execution_count": 193,
   "id": "0a20b2ca-a8e9-40d7-bd1a-b4a7d3c0040f",
   "metadata": {
    "tags": []
   },
   "outputs": [
    {
     "name": "stdout",
     "output_type": "stream",
     "text": [
      "Diff 0\tDiff 1\tPurchase of Product 0\tPurchase of Product 1\n",
      "-1\t-2\t0\t\t\t0\n"
     ]
    }
   ],
   "source": [
    "# result = [2, 1]\n",
    "\n",
    "values=[9, 8]\n",
    "priceVector=[10, 10]\n",
    "\n",
    "product_0 = 0\n",
    "product_1 = 0\n",
    "\n",
    "# print(f'Proposed Price: {priceVector}\\n')\n",
    "print(f'Diff 0\\tDiff 1\\tPurchase of Product 0\\tPurchase of Product 1')\n",
    "\n",
    "\n",
    "temp_0 = values[0] - priceVector[0]\n",
    "temp_1 = values[1] - priceVector[1]\n",
    "if temp_0 < 0 and temp_1 < 0:\n",
    "    print(f'{temp_0}\\t{temp_1}\\t{product_0}\\t\\t\\t{product_1}')\n",
    "elif temp_0 >= temp_1:\n",
    "    product_0 += 1\n",
    "    print(f'{temp_0}\\t{temp_1}\\t{product_0}\\t\\t\\t{product_1}')\n",
    "elif temp_0 < temp_1:\n",
    "    product_1 += 1\n",
    "    print(f'{temp_0}\\t{temp_1}\\t{product_0}\\t\\t\\t{product_1}')\n",
    "        \n",
    "# print(f'{values[i]}\\t{product_0}\\t\\t\\t{product_1}')\n",
    "    \n",
    "    "
   ]
  },
  {
   "cell_type": "code",
   "execution_count": 9,
   "id": "5e34555f-ec73-4a00-aaaf-c649c5cc7eed",
   "metadata": {
    "tags": []
   },
   "outputs": [
    {
     "data": {
      "text/plain": [
       "4"
      ]
     },
     "execution_count": 9,
     "metadata": {},
     "output_type": "execute_result"
    }
   ],
   "source": [
    "len([x for x in \"   fly me   to   the moon  \".split(' ') if x != ''][-1])"
   ]
  },
  {
   "cell_type": "code",
   "execution_count": 11,
   "id": "922c5f3a-bf28-4efd-b1f0-5a4b558f7da4",
   "metadata": {
    "tags": []
   },
   "outputs": [
    {
     "data": {
      "text/plain": [
       "['(', ')', '{', '}', '[', ']']"
      ]
     },
     "execution_count": 11,
     "metadata": {},
     "output_type": "execute_result"
    }
   ],
   "source": [
    "symbols = ['(', ')', '{', '}', '[', ']']\n",
    "symbols"
   ]
  },
  {
   "cell_type": "code",
   "execution_count": 1,
   "id": "9c460db6-9b27-4d38-bbf0-7fa849bb814a",
   "metadata": {
    "tags": []
   },
   "outputs": [],
   "source": [
    "roman_dict = {\n",
    "            'I': 1\n",
    "            , 'V': 5\n",
    "            , 'X': 10\n",
    "            , 'L': 50\n",
    "            , 'C': 100\n",
    "            , 'D': 500\n",
    "            , 'M': 1000\n",
    "        }"
   ]
  },
  {
   "cell_type": "code",
   "execution_count": 2,
   "id": "e4e53786-244a-4640-ba67-438a176cdf29",
   "metadata": {
    "tags": []
   },
   "outputs": [
    {
     "data": {
      "text/plain": [
       "{'I': 1, 'V': 5, 'X': 10, 'L': 50, 'C': 100, 'D': 500, 'M': 1000}"
      ]
     },
     "execution_count": 2,
     "metadata": {},
     "output_type": "execute_result"
    }
   ],
   "source": [
    "roman_dict"
   ]
  },
  {
   "cell_type": "code",
   "execution_count": 15,
   "id": "a17a5f69-11f3-4f58-bf6c-d32281f24c8d",
   "metadata": {
    "tags": []
   },
   "outputs": [],
   "source": []
  },
  {
   "cell_type": "code",
   "execution_count": 26,
   "id": "a129d61e-809e-4130-9243-ba7ac806ef59",
   "metadata": {
    "tags": []
   },
   "outputs": [
    {
     "data": {
      "text/plain": [
       "1994"
      ]
     },
     "execution_count": 26,
     "metadata": {},
     "output_type": "execute_result"
    }
   ],
   "source": [
    "roman = 'MCMXCIV'\n",
    "total = 0\n",
    "\n",
    "i = 0\n",
    "\n",
    "while i <len(roman):\n",
    "    if roman[i] == 'I':\n",
    "        if i < len(roman)-1 and (roman[i+1] == 'V' or roman[i+1] == 'X'):\n",
    "            total+= roman_dict[roman[i+1]] - roman_dict[roman[i]]\n",
    "            i+=2\n",
    "        else:\n",
    "            total+= roman_dict[roman[i]]\n",
    "            i+=1\n",
    "        \n",
    "    elif roman[i] == 'X':\n",
    "        if i < len(roman)-1 and (roman[i+1] == 'L' or roman[i+1] == 'C'):\n",
    "            total+= roman_dict[roman[i+1]] - roman_dict[roman[i]]\n",
    "            i+=2\n",
    "        else:\n",
    "            total+= roman_dict[roman[i]]\n",
    "            i+=1\n",
    "        \n",
    "    elif roman[i] == 'C':\n",
    "        if i < len(roman)-1 and (roman[i+1] == 'D' or roman[i+1] == 'M'):\n",
    "            total+= roman_dict[roman[i+1]] - roman_dict[roman[i]]\n",
    "            i+=2\n",
    "        else:\n",
    "            total+= roman_dict[roman[i]]\n",
    "            i+=1\n",
    "        \n",
    "    else:\n",
    "        total+= roman_dict[roman[i]]\n",
    "        i+=1\n",
    "    \n",
    "total\n",
    "       \n"
   ]
  },
  {
   "cell_type": "code",
   "execution_count": 5,
   "id": "f58096b7-5943-4d20-a920-f6ae0374f2c0",
   "metadata": {
    "tags": []
   },
   "outputs": [
    {
     "data": {
      "text/plain": [
       "5"
      ]
     },
     "execution_count": 5,
     "metadata": {},
     "output_type": "execute_result"
    }
   ],
   "source": [
    "roman_dict[roman[0]]"
   ]
  },
  {
   "cell_type": "code",
   "execution_count": 27,
   "id": "d3d0ae84-57f0-4d51-bc52-13e944ae4059",
   "metadata": {
    "tags": []
   },
   "outputs": [],
   "source": [
    "integer_value = 1994"
   ]
  },
  {
   "cell_type": "code",
   "execution_count": 43,
   "id": "ce7caef3-ca60-4775-b706-3ca69c255ac3",
   "metadata": {
    "tags": []
   },
   "outputs": [
    {
     "data": {
      "text/plain": [
       "1"
      ]
     },
     "execution_count": 43,
     "metadata": {},
     "output_type": "execute_result"
    }
   ],
   "source": [
    "int(5/5)"
   ]
  },
  {
   "cell_type": "code",
   "execution_count": 42,
   "id": "1a06869b-1cdc-408c-b179-7b1ffcb66fcd",
   "metadata": {
    "tags": []
   },
   "outputs": [
    {
     "data": {
      "text/plain": [
       "True"
      ]
     },
     "execution_count": 42,
     "metadata": {},
     "output_type": "execute_result"
    }
   ],
   "source": [
    "int(5/5) > 0"
   ]
  },
  {
   "cell_type": "code",
   "execution_count": 40,
   "id": "de7dd6d3-1376-47c2-b27f-b64049eab684",
   "metadata": {
    "tags": []
   },
   "outputs": [
    {
     "name": "stdout",
     "output_type": "stream",
     "text": [
      "994\n",
      "94\n",
      "4\n",
      "0\n"
     ]
    },
    {
     "data": {
      "text/plain": [
       "'MCMXCIV'"
      ]
     },
     "execution_count": 40,
     "metadata": {},
     "output_type": "execute_result"
    }
   ],
   "source": [
    "integer_value = 1994\n",
    "roman_string = ''\n",
    "\n",
    "while integer_value > 0:\n",
    "    if int(integer_value/1000) > 0:\n",
    "        roman_string = roman_string + 'M'*int(integer_value/1000)\n",
    "        integer_value -= 1000*int(integer_value/1000)\n",
    "        \n",
    "    elif int(integer_value/100) > 0:\n",
    "        if int(integer_value/100) == 9:\n",
    "            roman_string = roman_string + 'CM'\n",
    "            integer_value -= 100*int(integer_value/100)\n",
    "        elif int(integer_value/100) == 4:\n",
    "            roman_string = roman_string + 'CD'\n",
    "            integer_value -= 100*int(integer_value/100)\n",
    "        elif int(integer_value/100) == 5:\n",
    "            roman_string = roman_string + 'D'\n",
    "            integer_value -= 100*int(integer_value/100)\n",
    "        else:\n",
    "            roman_string = roman_string + 'C'*int(integer_value/100)\n",
    "            integer_value -= 100*int(integer_value/100)\n",
    "    \n",
    "    elif int(integer_value/10) > 0:\n",
    "        if int(integer_value/10) == 9:\n",
    "            roman_string = roman_string + 'XC'\n",
    "            integer_value -= 10*int(integer_value/10)\n",
    "        elif int(integer_value/10) == 4:\n",
    "            roman_string = roman_string + 'XL'\n",
    "            integer_value -= 10*int(integer_value/10)\n",
    "        elif int(integer_value/10) == 5:\n",
    "            roman_string = roman_string + 'L'\n",
    "            integer_value -= 10*int(integer_value/10)\n",
    "        else:\n",
    "            roman_string = roman_string + 'X'*int(integer_value/10)\n",
    "            integer_value -= 10*int(integer_value/10)\n",
    "    \n",
    "    elif integer_value > 0:\n",
    "        if integer_value == 9:\n",
    "            roman_string = roman_string + 'IX'\n",
    "            integer_value -= integer_value\n",
    "        elif integer_value == 4:\n",
    "            roman_string = roman_string + 'IV'\n",
    "            integer_value -= integer_value\n",
    "        elif iinteger_value == 5:\n",
    "            roman_string = roman_string + 'V'\n",
    "            integer_value -= integer_value\n",
    "        else:\n",
    "            roman_string = roman_string + 'I'*integer_value\n",
    "            integer_value -= integer_value\n",
    "    print(integer_value)\n",
    "\n",
    "roman_string"
   ]
  },
  {
   "cell_type": "code",
   "execution_count": 39,
   "id": "a2940c20-e84c-43dd-9f7a-673f05efeb69",
   "metadata": {
    "tags": []
   },
   "outputs": [
    {
     "data": {
      "text/plain": [
       "4"
      ]
     },
     "execution_count": 39,
     "metadata": {},
     "output_type": "execute_result"
    }
   ],
   "source": [
    "4 % 10"
   ]
  },
  {
   "cell_type": "code",
   "execution_count": 50,
   "id": "5259eec1-1379-4e78-bb67-10ead92d5300",
   "metadata": {
    "tags": []
   },
   "outputs": [
    {
     "ename": "TypeError",
     "evalue": "'int' object is not iterable",
     "output_type": "error",
     "traceback": [
      "\u001b[0;31m---------------------------------------------------------------------------\u001b[0m",
      "\u001b[0;31mTypeError\u001b[0m                                 Traceback (most recent call last)",
      "Cell \u001b[0;32mIn[50], line 1\u001b[0m\n\u001b[0;32m----> 1\u001b[0m [\u001b[38;5;28mmax\u001b[39m(x) \u001b[38;5;28;01mfor\u001b[39;00m x \u001b[38;5;129;01min\u001b[39;00m [\u001b[38;5;241m2\u001b[39m,\u001b[38;5;241m3\u001b[39m,\u001b[38;5;241m4\u001b[39m,\u001b[38;5;241m5\u001b[39m,\u001b[38;5;241m18\u001b[39m,\u001b[38;5;241m17\u001b[39m,\u001b[38;5;241m6\u001b[39m]]\n",
      "Cell \u001b[0;32mIn[50], line 1\u001b[0m, in \u001b[0;36m<listcomp>\u001b[0;34m(.0)\u001b[0m\n\u001b[0;32m----> 1\u001b[0m [\u001b[38;5;28mmax\u001b[39m(x) \u001b[38;5;28;01mfor\u001b[39;00m x \u001b[38;5;129;01min\u001b[39;00m [\u001b[38;5;241m2\u001b[39m,\u001b[38;5;241m3\u001b[39m,\u001b[38;5;241m4\u001b[39m,\u001b[38;5;241m5\u001b[39m,\u001b[38;5;241m18\u001b[39m,\u001b[38;5;241m17\u001b[39m,\u001b[38;5;241m6\u001b[39m]]\n",
      "\u001b[0;31mTypeError\u001b[0m: 'int' object is not iterable"
     ]
    }
   ],
   "source": [
    "[max(x) for x in [2,3,4,5,18,17,6]]"
   ]
  },
  {
   "cell_type": "code",
   "execution_count": 48,
   "id": "81fe24a5-bc49-4f30-b853-25d731018db2",
   "metadata": {
    "tags": []
   },
   "outputs": [
    {
     "name": "stdout",
     "output_type": "stream",
     "text": [
      " i:0, j:1, height_area:2, width_area:1, max:2\n",
      " i:0, j:2, height_area:2, width_area:2, max:4\n",
      " i:0, j:3, height_area:2, width_area:3, max:6\n",
      " i:0, j:4, height_area:2, width_area:4, max:8\n",
      " i:0, j:5, height_area:2, width_area:5, max:10\n",
      " i:0, j:6, height_area:2, width_area:6, max:12\n",
      " i:1, j:2, height_area:3, width_area:1, max:3\n",
      " i:1, j:3, height_area:3, width_area:2, max:6\n",
      " i:1, j:4, height_area:3, width_area:3, max:9\n",
      " i:1, j:5, height_area:3, width_area:4, max:12\n",
      " i:1, j:6, height_area:3, width_area:5, max:15\n",
      " i:2, j:3, height_area:4, width_area:1, max:4\n",
      " i:2, j:4, height_area:4, width_area:2, max:8\n",
      " i:2, j:5, height_area:4, width_area:3, max:12\n",
      " i:2, j:6, height_area:4, width_area:4, max:16\n",
      " i:3, j:4, height_area:5, width_area:1, max:5\n",
      " i:3, j:5, height_area:5, width_area:2, max:10\n",
      " i:3, j:6, height_area:5, width_area:3, max:15\n",
      " i:4, j:5, height_area:17, width_area:1, max:17\n",
      " i:4, j:6, height_area:6, width_area:2, max:12\n",
      " i:5, j:6, height_area:6, width_area:1, max:6\n"
     ]
    },
    {
     "data": {
      "text/plain": [
       "17"
      ]
     },
     "execution_count": 48,
     "metadata": {},
     "output_type": "execute_result"
    }
   ],
   "source": [
    "max_value = 0\n",
    "height = [2,3,4,5,18,17,6]\n",
    "\n",
    "for i in range(len(height)):\n",
    "    for j in range(i+1, len(height)):\n",
    "        height_area = min(height[i], height[j])\n",
    "        width_area = j - i\n",
    "        area = height_area * width_area\n",
    "\n",
    "        if area > max_value:\n",
    "            max_value = area\n",
    "        \n",
    "        print(f' i:{i}, j:{j}, height_area:{height_area}, width_area:{width_area}, max:{area}')\n",
    "max_value"
   ]
  },
  {
   "cell_type": "code",
   "execution_count": 14,
   "id": "69f1c334-d4df-464e-9832-8c95db1b1cbd",
   "metadata": {
    "tags": []
   },
   "outputs": [],
   "source": [
    "a = 10\n",
    "b = -2\n",
    "output = 0"
   ]
  },
  {
   "cell_type": "code",
   "execution_count": 21,
   "id": "f441883d-a4e0-4c52-9ce9-9201eb61008b",
   "metadata": {
    "tags": []
   },
   "outputs": [
    {
     "name": "stdout",
     "output_type": "stream",
     "text": [
      "1\n",
      "2\n",
      "3\n"
     ]
    },
    {
     "data": {
      "text/plain": [
       "-3"
      ]
     },
     "execution_count": 21,
     "metadata": {},
     "output_type": "execute_result"
    }
   ],
   "source": [
    "a = 10\n",
    "b = -3\n",
    "output = 0\n",
    "\n",
    "x = abs(a)\n",
    "y = abs(b)\n",
    "\n",
    "while x != 0:\n",
    "    if (x-y) < 0:\n",
    "        break\n",
    "    else:\n",
    "        x = x - y\n",
    "        output += 1\n",
    "        print(output)\n",
    "\n",
    "if (a > 0 and b < 0) or (a < 0 and b > 0):\n",
    "    final = - output\n",
    "else:\n",
    "    final = output\n",
    "\n",
    "final"
   ]
  }
 ],
 "metadata": {
  "kernelspec": {
   "display_name": "Python 3 (ipykernel)",
   "language": "python",
   "name": "python3"
  },
  "language_info": {
   "codemirror_mode": {
    "name": "ipython",
    "version": 3
   },
   "file_extension": ".py",
   "mimetype": "text/x-python",
   "name": "python",
   "nbconvert_exporter": "python",
   "pygments_lexer": "ipython3",
   "version": "3.11.4"
  }
 },
 "nbformat": 4,
 "nbformat_minor": 5
}
