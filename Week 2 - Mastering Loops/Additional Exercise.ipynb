{
 "cells": [
  {
   "cell_type": "code",
   "execution_count": 13,
   "id": "66b7333e-6697-480c-be1f-538d9365a6da",
   "metadata": {
    "tags": []
   },
   "outputs": [
    {
     "name": "stdout",
     "output_type": "stream",
     "text": [
      "Month\tBuyers\n",
      "0\t1\n",
      "1\t1\n",
      "2\t2\n",
      "3\t3\n",
      "4\t5\n",
      "5\t8\n",
      "6\t13\n",
      "7\t21\n",
      "8\t34\n",
      "9\t55\n",
      "10\t89\n",
      "11\t144\n",
      "12\t233\n"
     ]
    }
   ],
   "source": [
    "print('Month\\tBuyers')\n",
    "print('0\\t1')\n",
    "print('1\\t1')\n",
    "\n",
    "buyer = [1, 1]\n",
    "\n",
    "for month in range(2, 13):\n",
    "    total_buyer = buyer[month-1]+buyer[month-2]\n",
    "    print(f'{month}\\t{total_buyer}')\n",
    "    buyer.append(total_buyer)\n",
    "    "
   ]
  }
 ],
 "metadata": {
  "kernelspec": {
   "display_name": "Python 3 (ipykernel)",
   "language": "python",
   "name": "python3"
  },
  "language_info": {
   "codemirror_mode": {
    "name": "ipython",
    "version": 3
   },
   "file_extension": ".py",
   "mimetype": "text/x-python",
   "name": "python",
   "nbconvert_exporter": "python",
   "pygments_lexer": "ipython3",
   "version": "3.11.4"
  }
 },
 "nbformat": 4,
 "nbformat_minor": 5
}
