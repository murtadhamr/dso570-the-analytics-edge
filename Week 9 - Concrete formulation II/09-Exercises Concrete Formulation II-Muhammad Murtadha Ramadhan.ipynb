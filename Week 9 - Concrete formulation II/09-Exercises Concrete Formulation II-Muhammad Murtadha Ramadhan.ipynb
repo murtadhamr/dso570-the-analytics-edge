{
 "cells": [
  {
   "cell_type": "markdown",
   "id": "5407494b-3cca-4d34-a029-6c82215ad663",
   "metadata": {},
   "source": [
    "# Exercises for Week 9: Concrete Formulation II\n",
    "\n",
    "\n"
   ]
  },
  {
   "cell_type": "markdown",
   "id": "384717a1-667d-436c-8abc-7f7ac0b0867c",
   "metadata": {
    "jp-MarkdownHeadingCollapsed": true,
    "tags": []
   },
   "source": [
    "## Grading Scheme:\n",
    "Important: This Jupyter notebook needs to be completed and submitted via Blackboard before the due date to receive a non-zero grade.\n",
    "\n",
    "- 5: Every question is completed and the solution is essentially correct. This means that the math formulation correctly models the given problem.\n",
    "- 4: Almost complete, but certain questions are blank, or the math formulation is seriously flawed. \n",
    "- 3: This score will not be assigned, as everyone should strive to get 4 or 5.\n",
    "- 2: Not close to complete, but at least 50% complete.\n",
    "- 1: At least 10% complete, but less than 50% complete\n",
    "- 0: Less than 10% complete, or response is identical to someone else's, indicating plagiarism.\n",
    "\n",
    "A perfect score is 5. Before submitting, you should double check that your math formulations make sense, by plugging in concrete numbers and verifying that the constraints are satisfied. \n",
    "\n",
    "These exercises are intended to be completed in 6-8 hours, including the individual-work time in class. You should budget at least this much time before the due date."
   ]
  },
  {
   "cell_type": "markdown",
   "id": "68078ac2-a08a-48bd-86da-ae73aa894abb",
   "metadata": {},
   "source": [
    "## Name: Muhammad Murtadha Ramadhan"
   ]
  },
  {
   "cell_type": "markdown",
   "id": "6e8df9f2-6463-4a57-ae90-f0d28ea8fc90",
   "metadata": {},
   "source": [
    "## Exercise 9.1: Investment Planning\n",
    "\n",
    "Finco Investment Corporation wishes to determine an investment strategy for the firm for the next 3 years. At present (Year 0), $100,000$ is available for investment. The goal is to maximize the cash on hand at the end of Year 3. \n",
    "\n",
    "There are five investment options, each of which allows you to put in an arbitrary amount of principal at a given time, and will payoff a certain percentage of the principal at a later time. (The payoff includes all of the money you will get back; you won't get back the principal at a later time.) The five options are summarized below:\n",
    "\n",
    "|Investment option | Time of investment | Payoff schedule |\n",
    "|--|--|--|\n",
    "|A | Year 0 | 50\\% in Year 1 and 100\\% in Year 2 |\n",
    "|B | Year 1 | 50\\% in Year 2 and 100\\% in Year 3 |\n",
    "|C|  Year 0 | 120\\% in Year 1  |\n",
    "|D| Year 0 | 190\\% in Year 3 |\n",
    "|E| Year 2 | 150\\% in Year 3 |\n",
    "\n",
    "To ensure that the company’s portfolio is diversified, Finco required that at most \\$75,000 be placed in any single investment option. Payoffs happen at the beginning of the year, so can be reinvested in the same year. For example, the positive cash flow received from Option C in Year 1 can be reinvested immediately in Option B. However, Finco cannot borrow funds, so net cash on hand must be non-negative in all years. Formulate this as a linear optimization problem."
   ]
  },
  {
   "cell_type": "markdown",
   "id": "f69ab8dd-d556-401b-ab9b-c04922a1d380",
   "metadata": {},
   "source": [
    "###  English Description\n",
    "\n",
    "**Decision:** \n",
    "- How much money to put in each investment option? (continous)\n",
    "- How much cash at the end of each year? (continous)\n",
    "\n",
    "**Objective:**\n",
    "- Maximize the cash on hand at the end of year 3\n",
    "\n",
    "**Constraints:**\n",
    "- Money invested in any option is at most 75,000\n",
    "- Non-negative cash on hand and investment amount\n",
    "- Cash in year Y is equal to cash in year Y-1 plus payoffs minus invested amount\n"
   ]
  },
  {
   "cell_type": "markdown",
   "id": "0784024f-6f4b-4aaa-bbe4-7482f81bed62",
   "metadata": {},
   "source": [
    "### Concrete Formulation\n",
    "\n",
    "**Decision Variables:**\n",
    "- $A, B, C, D, E$ : $\\text{how much to invest in each investment option (continous)}$\n",
    "- $Y_{0}, Y_{1}, Y_{2}, Y_{3}$ : $\\text{how much cash on hand each year (continous)}$\n",
    "\n",
    "**Objective:**\n",
    "$$\\text{Maximize:} \\qquad Y_{3} $$ \n",
    "\n",
    "\n",
    "**Constraints:**\n",
    "$$\\begin{aligned}\n",
    "\\text{(Cash in year 0)} && Y_{0} & = 100000 - A - C - D && \\\\\n",
    "\\text{(Cash in year 1)} && Y_{1} & = Y_{0} - B - 0.5A + 1.2C && \\\\\n",
    "\\text{(Cash in year 2)} && Y_{2} & = Y_{1} - E + A + 0.5B && \\\\\n",
    "\\text{(Cash in year 3)} && Y_{3} & = Y_{2} + B + 1.9D + 1.5E && \\\\\n",
    "\\text{(Limit on investment in each option)} && A,B,C,D,E & \\le 75000 && \\\\\n",
    "\\text{(Non-negativity on invested amount in each year)} && A,B,C,D,E & \\ge 0 && \\\\\n",
    "\\text{(Non-negativity on cash in each year)} && Y_{0},Y_{1},Y_{2},Y_{3} & \\ge 0 && \\\\\n",
    "\\end{aligned}$$\n",
    "\n"
   ]
  },
  {
   "cell_type": "markdown",
   "id": "e52ba2d5-28a9-4613-abc6-cb0eb0dbfa19",
   "metadata": {},
   "source": [
    "## Exercise 9.2: Nurse Scheduling Revisited\n",
    "\n",
    "This question modifies the nurse-scheduling probelm from last week by incorporating multiple shift lengths. \n",
    "\n",
    "Hospital administrators must schedule nurses so that the hospital’s patients are provided with adequate care. At the same time, in the face of tighter competition in the health care industry, they must pay careful attention to keeping costs down. \n",
    "\n",
    "From historical records, administrators estimated the minimum number of nurses to have on hand for the various times of the day, as shown in the following table. \n",
    "\n",
    "| Shift | Time | Minimum number of nurses needed |\n",
    "|--|--|--|\n",
    "| 1 | Midnight-4am | 5 |\n",
    "| 2 | 4am-8am | 12 |\n",
    "| 3 | 8am-noon | 14 |\n",
    "| 4 | noon-4pm | 8 |\n",
    "| 5 | 4pm-8pm | 14 |\n",
    "| 6 | 8pm-Midnight | 10 |\n",
    "\n",
    "**In a given day, a nurse can either work for one shift, or for two consecutive shifts. The hourly pay for a four hour shift is 60 dollars/hour, while the hourly pay for an eight hour shift (two consecutive shifts) is 50 dollars/hour.** As a result, in each shift, there are two types of nurses: those working for two shifts that started in the previous shift (and are now working their second shift), and those that just started in this shift (some of whom may be working in the next shift as well). Note that a nurse working two shifts who starts at the 8pm-Midnight shift would finish work after the next day's Midnight-4am shift.\n",
    "\n",
    "Formulate a linear optimization problem to **minimize the total cost per day for hiring nurses** subject to being able to fulfill all business constraints. (For this problem, you only need to submit the concrete formulation, but don't need to submit the English description.)"
   ]
  },
  {
   "cell_type": "markdown",
   "id": "f08650f7-16bd-4b24-8ea1-378af351b255",
   "metadata": {},
   "source": [
    "**Decision variable:** \n",
    "- $X_{1}, X_{2}, ... , X_{6}$ : $\\text{the number of nurses allocated for working in 2 consecutive shift scheme and start working at shift ${i}$ (integer)}$\n",
    "- $Y_{1}, Y_{2}, ... , Y_{6}$ : $\\text{the number of nurses allocated for working in 1 shift only scheme and start working at shift ${i}$ (integer)}$\n",
    "\n",
    "**Objective**\n",
    "$$\\text{Minimize:} \\qquad 50\\times8\\times(X_{1}+X_{2}+X_{3}+X_{4}+X_{5}+X_{6})+60\\times4\\times(Y_{1}+Y_{2}+Y_{3}+Y_{4}+Y_{5}+Y_{6}) $$ \n",
    "\n",
    "**Constraints:**\n",
    "$$\\begin{aligned}\n",
    "\\text{(Shift 1)} && X_{1}+X_{6}+Y_{1} & \\ge 5 && \\\\\n",
    "\\text{(Shift 2)} && X_{1}+X_{2}+Y_{2} & \\ge 12 && \\\\\n",
    "\\text{(Shift 3)} && X_{2}+X_{3}+Y_{3} & \\ge 14 && \\\\\n",
    "\\text{(Shift 4)} && X_{3}+X_{4}+Y_{4} & \\ge 8 && \\\\\n",
    "\\text{(Shift 5)} && X_{4}+X_{5}+Y_{5} & \\ge 14 && \\\\\n",
    "\\text{(Shift 6)} && X_{5}+X_{6}+Y_{6} & \\ge 10 && \\\\\n",
    "\\text{(Non-negativity)} && X_{1},X_{2},...,X_{6} & \\ge 0 && \\\\\n",
    "\\text{(Non-negativity)} && Y_{1},Y_{2},...,Y_{6} & \\ge 0 && \\\\\n",
    "\\end{aligned}$$\n",
    "\n"
   ]
  },
  {
   "cell_type": "markdown",
   "id": "58a7336d-0e0e-494a-aa1f-5b91c89e5410",
   "metadata": {},
   "source": [
    "## Exercise 9.3: Optimal Box Selection\n",
    "\n",
    "A company sells items of various sizes and ships them to customers using special boxes. While the sizes of the items are fixed, the company can decide what sized boxes to use for shipping. The following table lists the types of items, along with the minimum box size needed for each item, as well as the number of each item that needs to be shipped. \n",
    "\n",
    "| Item type | 1 | 2 | 3 | \n",
    "|--|--|--|--|\n",
    "| Minimum box size (in cubit feet) | 1.5 | 1.7 | 2.0 |\n",
    "| Demand | 400 | 500 | 200 |\n",
    "\n",
    "For simplicity, the company limits the set of possible box sizes to be exactly the sizes listed in the table above. In order to satisfy demand, the company can always use a larger box to ship a smaller item. For example, a type-1 item can be shipped with a box of size 1.5, but can also be shipped using boxes of sizes 1.7 or 2.0. \n",
    "\n",
    "While larger boxes are more flexible, they are also more expensive to make: **the variable cost** (in dollars) of making each box is exactly equal to the box size. However, the higher variable cost might be worth it since to produce a box of a certain size, the company needs to pay a **fixed cost** of 1000 to create the mold. So using larger boxes might allow the company to make do with fewer box types, which would lower the total fixed cost. For example, using boxes of all three types would incur a fixed cost of 3000, while using only boxes of size 2.0 would incur a fixed cost of 1000. \n",
    "\n",
    "Write a linear optimization formulation to help the company determine which box types to produce, as well as how many boxes of each size to produce, in order to minimize the total cost while satisfying all demand. (The total cost is the sum of the total variable cost and the total fixed cost. )"
   ]
  },
  {
   "cell_type": "markdown",
   "id": "4f585602-58f2-4976-bc55-9cd400cbb2f0",
   "metadata": {},
   "source": [
    "### English Description\n",
    "\n",
    "**Decision:**\n",
    "- How many boxes to produce for each of the three sizes (integer)\n",
    "- Whether to make the mold for each size (binary)\n",
    "\n",
    "**Objective:** \n",
    "- Minimize the total fixed cost and and the total variable cost\n",
    "\n",
    "**Constraints:**\n",
    "- The number of boxes available to pack each item must be at least equal to demand (Assume that we first pack size 3 items using large boxes. The pack type 2 items using the medium boxes and left over large boxes. Then pack size 2 items using remaining boxes.)\n",
    "- For each box size, we cannot use such boxes unless we make the mold for this size.\n",
    "\n"
   ]
  },
  {
   "cell_type": "markdown",
   "id": "e29aaf47-12a0-44d4-bb06-371df8eefa21",
   "metadata": {},
   "source": [
    "### Concrete Formulation\n",
    "\n",
    "**Decision Variables:**\n",
    "- $X_{S}, X_{M}, X_{L}$ : $\\text{how many boxes to make of each of the 3 possible sizes (integer)}$\n",
    "- $Y_{S}, Y_{M}, Y_{L}$ : $\\text{whether to make the mold for each box size (binary)}$\n",
    "\n",
    "**Objective:**\n",
    "$$\\text{Minimize:} \\qquad 1.5Y_{S}+1.7Y_{M}+2.0Y_{L}+1000(Z_{S}+Z_{M}+Z_{L}) $$ \n",
    "\n",
    "**Constraints:**\n",
    "$$\\begin{aligned}\n",
    "\\text{(Demand 3)} && Y_{L} & \\ge 200 && \\\\\n",
    "\\text{(Demand 2)} && Y_{M} + (Y_{L}-200) & \\ge 500 && \\\\\n",
    "\\text{(Demand 3)} && Y_{S} + (Y_{M}+Y_{L}-700) & \\ge 400 && \\\\\n",
    "\\text{(S boxes on/off)} && Y_{S} & \\ge 99999Z_{S} && \\\\\n",
    "\\text{(M boxes on/off)} && Y_{M} & \\ge 99999Z_{M} && \\\\\n",
    "\\text{(L boxes on/off)} && Y_{L} & \\ge 99999Z_{L} && \\\\\n",
    "\\text{(Non-negativity)} && Y_{S},Y_{M},Y_{L} & \\ge 0 && \\\\\n",
    "\\end{aligned}$$\n",
    "\n"
   ]
  },
  {
   "cell_type": "markdown",
   "id": "658e644b-604c-4d88-a6b4-b8ae0de8a66a",
   "metadata": {},
   "source": [
    "## Exercise 9.4: Course Selection \n",
    "\n",
    "Aithne is currently enrolled in a Masters program at USC and is planning her courses for the next 2 semesters. There are five elective courses she would like to take, which we refer to as Courses A, B, C, D, and E. Based on her conversations with past students and prospective employers, she has estimated an \"importance score\" for each course, as well as the \"workload\" in terms of hours of work needed per week. Moreover, the schedules for the next two semesters have already been published, and this gives her information about scheduling conflicts as well as how much time she can afford to spend on these electives after accounting for her mandatory courses and other responsibilities. **Each course is a single semester long and can be taken only once, but the same course may be offered in both semesters, so she can choose when to take each course as well as whether to take it.** These information are summarized in the three tables below.\n",
    "\n",
    "| Course | **A** | **B** | **C** | **D** | **E** |\n",
    "|--|--|--|--|--|--|\n",
    "|Importance Score |5 | 3 | 2 |4 |5|\n",
    "| Workload (hours/week) | 15 | 10 | 10 | 5| 10\n",
    "\n",
    "| Schedule | Semester 1 | Semester 2 |\n",
    "|--|--|--|\n",
    "|**A**| Tue/Thu 11-12:20 |  Mon/Wed 12:30-13:50 |\n",
    "|**B**| Tue 9-12:00 | Tue 9:00-12:00 |\n",
    "|**C**| Mon/Wed 12:30-13:50 | Not offered |\n",
    "|**D**| Mon 12:00-15:00 | Tue/Thu 11:00-12:20 |\n",
    "|**E**| Mon/Wed 14:00-15:50 | Tue/Thu 11:00-12:20 | \n",
    "|Total time she can afford to spend | 20 hours/week | 15 hours/week |\n",
    "\n",
    "Furthermore, **Course A is a pre-requisite of Course D**, which means that if Aithne wishes to take Course D, she must take it in Semester 2 after taking Course A in Semester 1. Moreover, **Course A is a co-requisite of Course E**, which means that if she takes Course E in a semester, she must either be concurrently taking Course A or has already completed the course in a previous semester. (However, Course A can be taken by itself, without concurrently taking Course E.)\n",
    "\n",
    "Aithne would like to plan a schedule that maximizes the total importance score of courses she takes. For example, if she takes only courses A and B in the two semesters, the total importance score would be $5+3=8$. **Write a concrete formulation of a linear optimization model to help Aithne plan her course selection for the two semesters. The objective and all constraints must be linear.** (For this problem, you only need to submit the concrete formulation, but don't need to submit the English description.)"
   ]
  },
  {
   "cell_type": "markdown",
   "id": "88d37c78-9f2b-4ae8-b211-5c1d92247604",
   "metadata": {},
   "source": [
    "**Decision Variables:** \n",
    "- $X_{ij}$ : $\\text{whether to take course ${i}$ in semester ${j}$ for ${i}$ $\\in$ {A, B, C, D, E} and ${j}$ $\\in$ {1, 2} (binary)} $\n",
    "\n",
    "**Objective:** \n",
    "$$\\text{Maximize:} \\qquad 5(X_{A1}+X_{A2})+3(X_{B1}+X_{B2})+2(X_{C1}+X_{C2})+4(X_{D1}+X_{D2})+5(X_{E1}+X_{E2}) $$ \n",
    "\n",
    "\n",
    "**Constraints:**\n",
    "$$\\begin{aligned}\n",
    "\\text{(Course C not offered in semester 2)} && X_{C2} & = 0 && \\\\\n",
    "\\text{(Course A can only be taken once)} && X_{A1}+X_{A2} & \\le 1 && \\\\\n",
    "\\text{(Course B can only be taken once)} && X_{B1}+X_{B2} & \\le 1 && \\\\\n",
    "\\text{(Course C can only be taken once)} && X_{C1}+X_{C2} & \\le 1 && \\\\\n",
    "\\text{(Course D can only be taken once)} && X_{D1}+X_{D2} & \\le 1 && \\\\\n",
    "\\text{(Course E can only be taken once)} && X_{E1}+X_{E2} & \\le 1 && \\\\\n",
    "\\text{(Time capacity semester 1)} && 15X_{A1}+10X_{B1}+10X_{C1}+5X_{D1}+10X_{E1} & \\le 20 && \\\\\n",
    "\\text{(Time capacity semester 2)} && 15X_{A2}+10X_{B2}+10X_{C2}+5X_{D2}+10X_{E2} & \\le 15 && \\\\\n",
    "\\text{(Schedule course A-B semester 1 conflict prevention)} && X_{A1}+X_{B1} & \\le 1 && \\\\\n",
    "\\text{(Schedule course C-D semester 1 conflict prevention)} && X_{C1}+X_{D1} & \\le 1 && \\\\\n",
    "\\text{(Schedule course D-E semester 1 conflict prevention)} && X_{D1}+X_{E1} & \\le 1 && \\\\\n",
    "\\text{(Schedule course B-D semester 2 conflict prevention)} && X_{B2}+X_{D2} & \\le 1 && \\\\\n",
    "\\text{(Schedule course B-E semester 2 conflict prevention)} && X_{B2}+X_{E2} & \\le 1 && \\\\\n",
    "\\text{(Schedule course D-E semester 2 conflict prevention)} && X_{D2}+X_{E2} & \\le 1 && \\\\\n",
    "\\text{(Course A is pre-requisite course D)} && X_{A1} & \\ge X_{D2} && \\\\\n",
    "\\text{(Course A is co-requisite course E)} && X_{A1} & \\ge X_{E1} && \\\\\n",
    "\\text{(Course A is co-requisite course E)} && X_{A1}+X_{A2} & \\ge X_{E2} && \\\\\n",
    "\\end{aligned}$$\n",
    "\n",
    "\n"
   ]
  }
 ],
 "metadata": {
  "kernelspec": {
   "display_name": "Python 3 (ipykernel)",
   "language": "python",
   "name": "python3"
  },
  "language_info": {
   "codemirror_mode": {
    "name": "ipython",
    "version": 3
   },
   "file_extension": ".py",
   "mimetype": "text/x-python",
   "name": "python",
   "nbconvert_exporter": "python",
   "pygments_lexer": "ipython3",
   "version": "3.11.4"
  }
 },
 "nbformat": 4,
 "nbformat_minor": 5
}
