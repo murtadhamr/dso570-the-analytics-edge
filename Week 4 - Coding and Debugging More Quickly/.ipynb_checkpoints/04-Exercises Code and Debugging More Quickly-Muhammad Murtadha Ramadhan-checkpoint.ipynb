{
 "cells": [
  {
   "cell_type": "markdown",
   "id": "55ebc4d3-fe4a-4011-815b-f3006cf2ad98",
   "metadata": {},
   "source": [
    "# Exercises for Week 4: Coding and Debugging More Quickly"
   ]
  },
  {
   "cell_type": "markdown",
   "id": "b115c7b1-e070-4b0d-8665-845d2f2421d5",
   "metadata": {},
   "source": [
    "## Grading Scheme:\n",
    "Important: This Jupyter notebook needs to be completed and submitted via Blackboard before the due date to receive a non-zero grade.\n",
    "\n",
    "- 5: Every question is completed and the code returns the correct outputs on all of the sample inputs.\n",
    "- 4: Almost complete, but certain questions are blank, returns clearly incorrect outputs, or the code there does not run at all.\n",
    "- 3: This score will not be assigned, as everyone should strive to get 4 or 5.\n",
    "- 2: Not close to complete, but at least 50% complete.\n",
    "- 1: At least 10% complete, but less than 50% complete\n",
    "- 0: Less than 10% complete, or response is identical to someone else's, indicating plagiarism.\n",
    "\n",
    "A perfect score is 5. Note that your code does not need to be absolutely perfect to receive a 5, but you need to complete every question and ensure that the outputs are correct on all of the sample runs included here. **To ensure that you get 5 out of 5, before you submit, restart the Kernel and run all, and check that all of the outputs are as intended.**\n",
    "\n",
    "These exercises are intended to be completed in 5-7 hours, including class time. You should budget at least this much time before the due date."
   ]
  },
  {
   "cell_type": "markdown",
   "id": "5b561892-2107-462e-86fb-e50fc2411d15",
   "metadata": {},
   "source": [
    "## Name: Muhammad Murtadha Ramadhan"
   ]
  },
  {
   "cell_type": "markdown",
   "id": "89decb34-88d0-459a-a68c-306b79fb9d3a",
   "metadata": {},
   "source": [
    "## Exercise 4.1: Practicing Debugging\n",
    "\n",
    "**In the following, you should try to make the code correct using as few changes as possible, after figuring out the errors using code dissection and print debugging.** Do not rewrite the code from scratch or copy/paste a correct solution. Refer to previous weeks' handouts for the instructions to these exercises.\n"
   ]
  },
  {
   "cell_type": "markdown",
   "id": "e11fcaf6-7a10-435b-ae3a-8255d1cb282c",
   "metadata": {},
   "source": [
    "### a) Attempt for the \"Referral Marketing\" Example from Week 2"
   ]
  },
  {
   "cell_type": "code",
   "execution_count": 1,
   "id": "8ccbf347-b060-4fdb-b5b0-40a4b6b4ffd1",
   "metadata": {
    "tags": []
   },
   "outputs": [],
   "source": [
    "# Code to debug\n",
    "def buyer(nmonths):\n",
    "    \n",
    "    buyers=[1]\n",
    "    for n in nmonths:\n",
    "        buyers = buyers[-1]+buyers[-2]\n",
    "    return buyers[-1]"
   ]
  },
  {
   "cell_type": "code",
   "execution_count": 2,
   "id": "01fe8596-f0bf-4927-9949-2732bf2ff73a",
   "metadata": {
    "tags": []
   },
   "outputs": [],
   "source": [
    "# nmonths = 12\n",
    "# buyers=[1]\n",
    "# for n in nmonths:\n",
    "#     buyers = buyers[-1]+buyers[-2]\n",
    "# print(buyers[-1])"
   ]
  },
  {
   "cell_type": "code",
   "execution_count": 3,
   "id": "7f13a9ff-3d5d-4632-a4cf-69c7ba8a7662",
   "metadata": {
    "tags": []
   },
   "outputs": [],
   "source": [
    "# iteration 1 of fixing\n",
    "# cast range to nnonths in the looping where the error is identified\n",
    "\n",
    "# nmonths = 12\n",
    "# buyers=[1]\n",
    "# for n in range(nmonths):\n",
    "#     buyers = buyers[-1]+buyers[-2]\n",
    "# print(buyers[-1])"
   ]
  },
  {
   "cell_type": "code",
   "execution_count": 4,
   "id": "90c5a5e9-1e94-48d4-8164-6807daceb966",
   "metadata": {
    "tags": []
   },
   "outputs": [
    {
     "name": "stdout",
     "output_type": "stream",
     "text": [
      "n: 0, list_buyers: [0, 1, 1], buyers: 1\n",
      "n: 1, list_buyers: [0, 1, 1, 2], buyers: 2\n",
      "n: 2, list_buyers: [0, 1, 1, 2, 3], buyers: 3\n",
      "n: 3, list_buyers: [0, 1, 1, 2, 3, 5], buyers: 5\n",
      "n: 4, list_buyers: [0, 1, 1, 2, 3, 5, 8], buyers: 8\n",
      "n: 5, list_buyers: [0, 1, 1, 2, 3, 5, 8, 13], buyers: 13\n",
      "n: 6, list_buyers: [0, 1, 1, 2, 3, 5, 8, 13, 21], buyers: 21\n",
      "n: 7, list_buyers: [0, 1, 1, 2, 3, 5, 8, 13, 21, 34], buyers: 34\n",
      "n: 8, list_buyers: [0, 1, 1, 2, 3, 5, 8, 13, 21, 34, 55], buyers: 55\n",
      "n: 9, list_buyers: [0, 1, 1, 2, 3, 5, 8, 13, 21, 34, 55, 89], buyers: 89\n",
      "n: 10, list_buyers: [0, 1, 1, 2, 3, 5, 8, 13, 21, 34, 55, 89, 144], buyers: 144\n",
      "n: 11, list_buyers: [0, 1, 1, 2, 3, 5, 8, 13, 21, 34, 55, 89, 144, 233], buyers: 233\n"
     ]
    }
   ],
   "source": [
    "# iteration 2 of fixing\n",
    "# implement conditions since there is scenario in the beginning that buyers list has only 1 item\n",
    "# to do backward calculation of 2 last items, it is required to store the generated number in the list of buyers\n",
    "# try to print result of every loop attempt\n",
    "\n",
    "nmonths = 12\n",
    "buyers=[0, 1]\n",
    "for n in range(nmonths): \n",
    "    buyers.append(buyers[-1]+buyers[-2])\n",
    "        \n",
    "    print(f'n: {n}, list_buyers: {buyers}, buyers: {buyers[-1]}')"
   ]
  },
  {
   "cell_type": "code",
   "execution_count": 5,
   "id": "0ab6f8f0-8837-4528-ba74-7ae2320451d3",
   "metadata": {
    "tags": []
   },
   "outputs": [
    {
     "name": "stdout",
     "output_type": "stream",
     "text": [
      "233\n"
     ]
    }
   ],
   "source": [
    "# finalizing code without assigning to function\n",
    "buyers=[0, 1]\n",
    "nmonths = 12\n",
    "for n in range(nmonths):\n",
    "    buyers.append(buyers[-1]+buyers[-2])\n",
    "    \n",
    "print(buyers[-1])"
   ]
  },
  {
   "cell_type": "code",
   "execution_count": 6,
   "id": "34b368aa-ef90-48b0-a221-dcfe79711283",
   "metadata": {
    "tags": []
   },
   "outputs": [],
   "source": [
    "# Corrected code\n",
    "def buyer(nmonths):  \n",
    "    buyers=[0, 1]\n",
    "    \n",
    "    for n in range(nmonths):\n",
    "        buyers.append(buyers[-1]+buyers[-2])\n",
    "            \n",
    "    return buyers[-1]"
   ]
  },
  {
   "cell_type": "code",
   "execution_count": 7,
   "id": "b9cb7c0e-3819-4586-9f0e-7076b1bf8c07",
   "metadata": {
    "tags": []
   },
   "outputs": [
    {
     "data": {
      "text/plain": [
       "233"
      ]
     },
     "execution_count": 7,
     "metadata": {},
     "output_type": "execute_result"
    }
   ],
   "source": [
    "# Test code\n",
    "buyer(12)"
   ]
  },
  {
   "cell_type": "markdown",
   "id": "7f8c985d-f1ce-4ecf-8d93-b5502b9c75a0",
   "metadata": {},
   "source": [
    "### b) Attempt for the \"Epidemic Capacity Planning\" Example from Week 3"
   ]
  },
  {
   "cell_type": "code",
   "execution_count": 8,
   "id": "aa6ff75d-f8da-44dd-9cb8-ad148749498b",
   "metadata": {
    "tags": []
   },
   "outputs": [],
   "source": [
    "# Code to debug\n",
    "def capacityNeeded(arrivals):\n",
    "    maxdemand=[arrivals[0]]\n",
    "    week=0\n",
    "    for i in range(0,(len(arrivals))):\n",
    "        week+=1\n",
    "        if i>=2:\n",
    "            demand=arrivals[i]+arrivals[i-1]+arrivals[i-2]\n",
    "        if i>=1:\n",
    "            demand=arrivals[i]+arrivals[i-1]\n",
    "     #   else:\n",
    "    #      demand=arrivals[i]\n",
    "        if maxdemand<demand:\n",
    "            maxdemand=demand\n",
    "    print(maxdemand)"
   ]
  },
  {
   "cell_type": "code",
   "execution_count": 9,
   "id": "310fa92b-0523-48a3-87f2-8484b21e218c",
   "metadata": {
    "tags": []
   },
   "outputs": [],
   "source": [
    "# arrivals = [5,8,3,10,7,4,9,5,8]\n",
    "\n",
    "# maxdemand=[arrivals[0]]\n",
    "# week=0\n",
    "# for i in range(0,(len(arrivals))):\n",
    "#     week+=1\n",
    "#     if i>=2:\n",
    "#         demand=arrivals[i]+arrivals[i-1]+arrivals[i-2]\n",
    "#     if i>=1:\n",
    "#         demand=arrivals[i]+arrivals[i-1]\n",
    "#  #   else:\n",
    "# #      demand=arrivals[i]\n",
    "#     if maxdemand<demand:\n",
    "#         maxdemand=demand\n",
    "        \n",
    "# print(maxdemand)"
   ]
  },
  {
   "cell_type": "code",
   "execution_count": 10,
   "id": "999d4f26-bf0d-4e6f-9daa-2f24e53542a4",
   "metadata": {
    "tags": []
   },
   "outputs": [
    {
     "name": "stdout",
     "output_type": "stream",
     "text": [
      "17\n"
     ]
    }
   ],
   "source": [
    "# iteration 1 of fixing\n",
    "# remove list cast in the maxdemand variable\n",
    "\n",
    "arrivals = [5,8,3,10,7,4,9,5,8]\n",
    "demand = 0\n",
    "maxdemand=arrivals[0]\n",
    "week=0\n",
    "for i in range(0,(len(arrivals))):\n",
    "    week+=1\n",
    "    if i>=2:\n",
    "        demand=arrivals[i]+arrivals[i-1]+arrivals[i-2]\n",
    "    if i>=1:\n",
    "        demand=arrivals[i]+arrivals[i-1]\n",
    " #   else:\n",
    "#      demand=arrivals[i]\n",
    "    if maxdemand<demand:\n",
    "        maxdemand=demand\n",
    "        \n",
    "print(maxdemand)"
   ]
  },
  {
   "cell_type": "code",
   "execution_count": 11,
   "id": "b6fa5bae-3640-47a6-a898-c489844da5f9",
   "metadata": {
    "tags": []
   },
   "outputs": [
    {
     "name": "stdout",
     "output_type": "stream",
     "text": [
      "5\n",
      "13\n",
      "16\n",
      "21\n",
      "21\n",
      "21\n",
      "21\n",
      "21\n",
      "22\n"
     ]
    }
   ],
   "source": [
    "# iteration 2 of fixing\n",
    "# since there is logic error, retrive all result of each looping attempt\n",
    "\n",
    "arrivals = [5,8,3,10,7,4,9,5,8]\n",
    "demand = 0\n",
    "maxdemand=arrivals[0]\n",
    "week=0\n",
    "for i in range(0,(len(arrivals))):\n",
    "    week+=1\n",
    "    if i>=2:\n",
    "        demand=arrivals[i]+arrivals[i-1]+arrivals[i-2]\n",
    "    elif i>=1:\n",
    "        demand=arrivals[i]+arrivals[i-1]\n",
    "    else:\n",
    "        demand=arrivals[i]\n",
    "    if maxdemand<demand:\n",
    "        maxdemand=demand\n",
    "        \n",
    "    print(maxdemand)"
   ]
  },
  {
   "cell_type": "code",
   "execution_count": 12,
   "id": "adb95b09-9481-4219-8e74-216194418008",
   "metadata": {
    "tags": []
   },
   "outputs": [
    {
     "name": "stdout",
     "output_type": "stream",
     "text": [
      "22\n"
     ]
    }
   ],
   "source": [
    "# Corrected code with intermediate printing, as in the outputs below.\n",
    "arrivals = [5,8,3,10,7,4,9,5,8]\n",
    "maxdemand=arrivals[0]\n",
    "week=0\n",
    "for i in range(0,(len(arrivals))):\n",
    "    week+=1\n",
    "    if i>=2:\n",
    "        demand=arrivals[i]+arrivals[i-1]+arrivals[i-2]\n",
    "    elif i>=1:\n",
    "        demand=arrivals[i]+arrivals[i-1]\n",
    "    else:\n",
    "         demand=arrivals[i]\n",
    "            \n",
    "    if maxdemand<demand:\n",
    "        maxdemand=demand\n",
    "        \n",
    "print(maxdemand)"
   ]
  },
  {
   "cell_type": "code",
   "execution_count": 13,
   "id": "4dbdf1c4-bebf-47c7-b212-ea840c4635e8",
   "metadata": {
    "tags": []
   },
   "outputs": [],
   "source": [
    "# Final function\n",
    "def capacityNeeded(arrivals):\n",
    "    maxdemand=arrivals[0]\n",
    "    week=0\n",
    "    print(f'Week\\tArrival\\tDemand\\tMax Demand')\n",
    "    for i in range(0,(len(arrivals))):\n",
    "        week+=1\n",
    "        if i>=2:\n",
    "            demand=arrivals[i]+arrivals[i-1]+arrivals[i-2]\n",
    "        elif i>=1:\n",
    "            demand=arrivals[i]+arrivals[i-1]\n",
    "        else:\n",
    "             demand=arrivals[i]\n",
    "\n",
    "        if maxdemand<demand:\n",
    "            maxdemand=demand\n",
    "        \n",
    "        print(f'{week}\\t{arrivals[i]}\\t{demand}\\t{maxdemand}')\n",
    "    \n",
    "    return maxdemand\n"
   ]
  },
  {
   "cell_type": "code",
   "execution_count": 14,
   "id": "3ced9e4e-217b-4396-a7de-ce4ff5202e98",
   "metadata": {
    "tags": []
   },
   "outputs": [
    {
     "name": "stdout",
     "output_type": "stream",
     "text": [
      "Week\tArrival\tDemand\tMax Demand\n",
      "1\t5\t5\t5\n",
      "2\t8\t13\t13\n",
      "3\t3\t16\t16\n",
      "4\t10\t21\t21\n",
      "5\t7\t20\t21\n",
      "6\t4\t21\t21\n",
      "7\t9\t20\t21\n",
      "8\t5\t18\t21\n",
      "9\t8\t22\t22\n",
      "Capacity Needed: 22\n"
     ]
    }
   ],
   "source": [
    "# Test code 1\n",
    "arrivals=[5,8,3,10,7,4,9,5,8]\n",
    "print('Capacity Needed:',capacityNeeded(arrivals))"
   ]
  },
  {
   "cell_type": "code",
   "execution_count": 15,
   "id": "61cd3ac2-d255-41c3-ab2c-ff37d75a291c",
   "metadata": {
    "tags": []
   },
   "outputs": [
    {
     "name": "stdout",
     "output_type": "stream",
     "text": [
      "Week\tArrival\tDemand\tMax Demand\n",
      "1\t5\t5\t5\n",
      "2\t8\t13\t13\n",
      "3\t3\t16\t16\n",
      "4\t10\t21\t21\n",
      "5\t6\t19\t21\n",
      "6\t11\t27\t27\n",
      "7\t9\t26\t27\n",
      "8\t12\t32\t32\n",
      "9\t15\t36\t36\n",
      "10\t9\t36\t36\n",
      "11\t5\t29\t36\n",
      "12\t7\t21\t36\n"
     ]
    },
    {
     "data": {
      "text/plain": [
       "36"
      ]
     },
     "execution_count": 15,
     "metadata": {},
     "output_type": "execute_result"
    }
   ],
   "source": [
    "# Test code 2\n",
    "capacityNeeded([5,8,3,10,6,11,9,12,15,9,5,7])"
   ]
  },
  {
   "cell_type": "markdown",
   "id": "12e65391-76fc-4282-ba13-b21dab73df02",
   "metadata": {},
   "source": [
    "### c) Attempt for Exercise 3.2: Demand Estimation for Substitutable Products"
   ]
  },
  {
   "cell_type": "code",
   "execution_count": 16,
   "id": "0396d62e-0246-487d-9979-4edc2380698d",
   "metadata": {},
   "outputs": [],
   "source": [
    "def demand(priceVector,values):\n",
    "    for i in values:\n",
    "        product1=[]\n",
    "        product2=[]\n",
    "        diff0=values[0]-priceVector[0]\n",
    "        diff1=values[1]-priceVector[1]\n",
    "        if diff0<0 and diff1<0:\n",
    "            continue\n",
    "        elif diff0>=diff1:\n",
    "            product1.append(1)\n",
    "        else:\n",
    "            product2.append(1)\n",
    "        totalproduct=product1+product2\n",
    "        return totalproduct"
   ]
  },
  {
   "cell_type": "code",
   "execution_count": 17,
   "id": "ad5b6eb6-82e2-4005-bb4b-a83c9bb4f92c",
   "metadata": {
    "tags": []
   },
   "outputs": [],
   "source": [
    "# values=[[25,15],[18,18],[30,20],[30,30]]\n",
    "# priceVector=[25,20]\n",
    "\n",
    "# for i in values:\n",
    "#     product1=[]\n",
    "#     product2=[]\n",
    "#     diff0=values[0]-priceVector[0]\n",
    "#     diff1=values[1]-priceVector[1]\n",
    "#     if diff0<0 and diff1<0:\n",
    "#         continue\n",
    "#     elif diff0>=diff1:\n",
    "#         product1.append(1)\n",
    "#     else:\n",
    "#         product2.append(1)\n",
    "#     totalproduct=product1+product2\n",
    "#     print(totalproduct)"
   ]
  },
  {
   "cell_type": "code",
   "execution_count": 18,
   "id": "ef96f7c4-a2fd-4554-8f7d-5a0647dfde81",
   "metadata": {
    "tags": []
   },
   "outputs": [
    {
     "name": "stdout",
     "output_type": "stream",
     "text": [
      "[1]\n"
     ]
    }
   ],
   "source": [
    "# Iteration 1 of fixing\n",
    "# adjust values in looping to range(len(values))\n",
    "# adjust indexing values by putting i\n",
    "# adjust indentation of totalproduct printing\n",
    "\n",
    "values=[[25,15],[18,18],[30,20],[30,30]]\n",
    "priceVector=[25,20]\n",
    "\n",
    "for i in range(len(values)):\n",
    "    product1=[]\n",
    "    product2=[]\n",
    "    diff0=values[i][0]-priceVector[0]\n",
    "    diff1=values[i][1]-priceVector[1]\n",
    "    if diff0<0 and diff1<0:\n",
    "        continue\n",
    "    elif diff0>=diff1:\n",
    "        product1.append(1)\n",
    "    else:\n",
    "        product2.append(1)\n",
    "        \n",
    "    totalproduct=product1+product2\n",
    "    \n",
    "print(totalproduct)"
   ]
  },
  {
   "cell_type": "code",
   "execution_count": 19,
   "id": "edd54873-7b20-482c-b85b-7bfc4ed3514c",
   "metadata": {
    "tags": []
   },
   "outputs": [
    {
     "name": "stdout",
     "output_type": "stream",
     "text": [
      "[1, 0]\n",
      "[2, 0]\n",
      "[2, 1]\n"
     ]
    }
   ],
   "source": [
    "# Iteration 2 of fixing\n",
    "# there seems a logic error since the result is not as expected\n",
    "# convert product1 and product2 into int number starting from zero\n",
    "# adjust the append attempt in the looping into product + = 1\n",
    "# adjust totalproduct to store list of total purchase of product1 and product2\n",
    "\n",
    "\n",
    "values=[[25,15],[18,18],[30,20],[30,30]]\n",
    "priceVector=[25,20]\n",
    "product1=0\n",
    "product2=0\n",
    "\n",
    "for i in range(len(values)):\n",
    "    \n",
    "    diff0=values[i][0]-priceVector[0]\n",
    "    diff1=values[i][1]-priceVector[1]\n",
    "    if diff0<0 and diff1<0:\n",
    "        continue\n",
    "    elif diff0>=diff1:\n",
    "        product1 += 1\n",
    "    else:\n",
    "        product2 += 1\n",
    "        \n",
    "    totalproduct=[product1, product2]\n",
    "    \n",
    "    print(totalproduct)"
   ]
  },
  {
   "cell_type": "code",
   "execution_count": 20,
   "id": "0acd1be2-add3-4985-a5c9-5acbcf0928b8",
   "metadata": {
    "tags": []
   },
   "outputs": [],
   "source": [
    "# Corrected code\n",
    "def demand(priceVector, values):\n",
    "    product1=0\n",
    "    product2=0\n",
    "\n",
    "    for i in range(len(values)):\n",
    "\n",
    "        diff0=values[i][0]-priceVector[0]\n",
    "        diff1=values[i][1]-priceVector[1]\n",
    "        if diff0<0 and diff1<0:\n",
    "            continue\n",
    "        elif diff0>=diff1:\n",
    "            product1 += 1\n",
    "        else:\n",
    "            product2 += 1\n",
    "\n",
    "        totalproduct=[product1, product2]\n",
    "\n",
    "    return totalproduct"
   ]
  },
  {
   "cell_type": "code",
   "execution_count": 21,
   "id": "f94132a9-a0f0-4818-b853-bd5dd4251d02",
   "metadata": {
    "tags": []
   },
   "outputs": [
    {
     "data": {
      "text/plain": [
       "[2, 1]"
      ]
     },
     "execution_count": 21,
     "metadata": {},
     "output_type": "execute_result"
    }
   ],
   "source": [
    "# Test code 1\n",
    "values=[[25,15],[18,18],[30,20],[30,30]]\n",
    "priceVector=[25,20]\n",
    "demand(priceVector,values)"
   ]
  },
  {
   "cell_type": "code",
   "execution_count": 22,
   "id": "f0fe5ae9-9055-416a-84aa-088f9fc7d86d",
   "metadata": {
    "tags": []
   },
   "outputs": [
    {
     "data": {
      "text/plain": [
       "[3, 2]"
      ]
     },
     "execution_count": 22,
     "metadata": {},
     "output_type": "execute_result"
    }
   ],
   "source": [
    "# Test code 2\n",
    "values=[[25,15],[18,18],[25,20],[25,35],[18,20],[26,21]]\n",
    "priceVector=[25,20]\n",
    "demand(priceVector,values)"
   ]
  },
  {
   "cell_type": "markdown",
   "id": "3e3b1b4e-281f-402d-a335-162d9b6dd2b9",
   "metadata": {},
   "source": [
    "## Exercise 4.2: Grocery Store Restocking\n",
    "\n",
    "This question asks you to make a tool that helps a grocery store to analyze their policy for restocking shelves for a certain non-perishable item. Write a function called `analyzeScenario` with three input parameters:\n",
    "\n",
    "- `demandList`: a non-empty list of non-negative integers representing the forecasted daily demand for the item, corresponding to a period of consecutive days. The number of days is `len(demandList)`.\n",
    "- `stockingLevel`: a positive integer representing the maximum number of units that the store will stock on its shelves at any time.\n",
    "- `minimumLevel`: a non-negative integer representing the minimum number of units on the shelves that the store can tolerate without restocking. \n",
    "\n",
    "Assume that the store makes its stocking decision at the end of each day after closing. If the leftover inventory on the shelf at the end of a day is strictly below the \"minimumLevel\", then the store will restock to a full shelf, and the inventory at the beginning of the next day will be equal to \"stockingLevel\". If the leftover inventory at the end of a day is greater than or equal to \"minimumLevel\", then the store will not add anything to the shelf, and the inventory at the beginning of the next day will be the same as the leftover inventory. On the first day, the shelf is full, so the inventory level is equal to \"stockingLevel\".\n",
    "\n",
    "Your function should print (not return) the number of times it would decide to restock during the period represented by the input data. \n",
    "\n",
    "For example, the sample run\n",
    "```python\n",
    "analyzeScenario([3,4,2,5,15,3,9,3,1,3,9],10,3)\n",
    "```\n",
    "should result in exactly the following message printed to screen.\n",
    "```\n",
    "The store needs to restock 4 times.\n",
    "```\n",
    "The following table illustrates the inventory dynamics.\n",
    "\n",
    "| Beginning Inventory | Demand |   Leftover Inventory | Restock? |\n",
    "|--|--|--|--|\n",
    "|10|3 |7 |No |\n",
    "|7 |4 |3 |No |\n",
    "|3 |2 |1 | Yes |\n",
    "|10|5 |5 | No |\n",
    "| 5|15|0 |Yes |\n",
    "|10|3|7 | No|\n",
    "|7|9 | 0 | Yes |\n",
    "|10|3| 7 | No |\n",
    "|7 |1 | 6 | No |\n",
    "|6 | 3|  3 | No |\n",
    "|3 | 9 |  0 | Yes |\n",
    "|**# of times to restock:**|` `|` `| **4**|\n",
    "\n",
    "Note that if demand is greater than the beginning inventory, the leftover inventory is zero. Otherwise, the leftover inventory is equal to the beginning inventory minus the demand. The final answer (the number of times to restock) is equal to the number of Yes's in the last column of the table.\n",
    "\n",
    "**Sample run 2:**\n",
    "```python\n",
    "analyzeScenario([3,4,2,5,15,3,9,3,1,3,9],9,3)\n",
    "```\n",
    "\n",
    "The printed message should be exactly as below:\n",
    "```\n",
    "The store needs to restock 6 times.\n",
    "\n",
    "```\n",
    "\n",
    "**Sample run 3:**\n",
    "```python\n",
    "analyzeScenario([8,3,2,6,9,3,5,2,9,10],9,5)\n",
    "```\n",
    "\n",
    "The printed message should be exactly as below:\n",
    "\n",
    "```\n",
    "The store needs to restock 7 times.\n",
    "\n",
    "```\n",
    "\n",
    "**Solve this problem by applying the four steps of algorithmic thinking.**"
   ]
  },
  {
   "cell_type": "markdown",
   "id": "4877534b-3cef-40c4-ac11-39b65e9a70dd",
   "metadata": {},
   "source": [
    "**Step 1. Understand**\n",
    "- The objective of the function is to calculate the total attempts of restocking with given conditions\n",
    "\n"
   ]
  },
  {
   "cell_type": "markdown",
   "id": "012d1ec5-ddb7-4e38-9696-5a0d0b3787c4",
   "metadata": {},
   "source": [
    "**Step 2. Decompose** \n",
    "- beginning inventory starts with the number equal to stocking level\n",
    "- first step is that it is required to check the restock remarks: \n",
    "- when the restock = 'No' -> beginning invetory = leftover\n",
    "- when the restock = 'Yes' -> beginning inventory = stocking level\n",
    "- then, checking whether lefotver < minimum level of stock\n",
    "- if leftover < minimum level -> restock = 'Yes' and add restock time by 1\n",
    "- else set the restock = 'No'\n",
    "- finally, if leftover in the condition of <0, set it to 0"
   ]
  },
  {
   "cell_type": "markdown",
   "id": "8a500fad-a93e-41c2-8381-de84f40e1a5f",
   "metadata": {},
   "source": [
    "**Step 3. Analyze** (Write code fragments in separate code cells to implement the trickiest steps)"
   ]
  },
  {
   "cell_type": "code",
   "execution_count": 23,
   "id": "85741234-8799-40b6-bc6d-f749cc4ad817",
   "metadata": {
    "tags": []
   },
   "outputs": [
    {
     "name": "stdout",
     "output_type": "stream",
     "text": [
      "Beginning Inventory\tDemand\tLeftover Inventory\tRestock?\n",
      "10\t\t\t3\t7\t\t\tNo\n"
     ]
    }
   ],
   "source": [
    "# trying with only 1 value\n",
    "\n",
    "demandList = [3,4]\n",
    "stockingLevel = 10\n",
    "minimumLevel = 3\n",
    "restock = 'Yes'\n",
    "restock_time = 0\n",
    "leftover = 0\n",
    "\n",
    "print(f'Beginning Inventory\\tDemand\\tLeftover Inventory\\tRestock?')\n",
    "\n",
    "if restock == 'No':\n",
    "    beginning_inventory = leftover\n",
    "else:\n",
    "    beginning_inventory = stockingLevel\n",
    "\n",
    "leftover = beginning_inventory - demandList[0]\n",
    "\n",
    "if leftover < minimumLevel:\n",
    "    restock = 'Yes'\n",
    "    restock_time +=1\n",
    "else:\n",
    "    restock = 'No'\n",
    "\n",
    "if leftover < 0:\n",
    "    leftover = max(0, leftover)\n",
    "\n",
    "print(f'{beginning_inventory}\\t\\t\\t{demandList[0]}\\t{leftover}\\t\\t\\t{restock}')\n"
   ]
  },
  {
   "cell_type": "code",
   "execution_count": 24,
   "id": "49b93003-21c8-42ec-9fd2-cc069dac4482",
   "metadata": {
    "tags": []
   },
   "outputs": [
    {
     "name": "stdout",
     "output_type": "stream",
     "text": [
      "Beginning Inventory\tDemand\tLeftover Inventory\tRestock?\n",
      "10\t\t\t3\t7\t\t\tNo\n",
      "7\t\t\t4\t3\t\t\tNo\n"
     ]
    }
   ],
   "source": [
    "# trying with 2 values\n",
    "\n",
    "demandList = [3,4]\n",
    "stockingLevel = 10\n",
    "minimumLevel = 3\n",
    "restock = ''\n",
    "restock_time = 0\n",
    "leftover = 0\n",
    "\n",
    "beginning_inventory = stockingLevel\n",
    "\n",
    "print(f'Beginning Inventory\\tDemand\\tLeftover Inventory\\tRestock?')\n",
    "for demand in demandList:\n",
    "    if restock == 'No':\n",
    "        beginning_inventory = leftover\n",
    "    else:\n",
    "        beginning_inventory = stockingLevel\n",
    "        \n",
    "    leftover = beginning_inventory - demand\n",
    "    \n",
    "    if leftover < minimumLevel:\n",
    "        restock = 'Yes'\n",
    "        restock_time +=1\n",
    "    else:\n",
    "        restock = 'No'\n",
    "    \n",
    "    if leftover < 0:\n",
    "        leftover = max(0, leftover)\n",
    "    \n",
    "    print(f'{beginning_inventory}\\t\\t\\t{demand}\\t{leftover}\\t\\t\\t{restock}')"
   ]
  },
  {
   "cell_type": "code",
   "execution_count": 25,
   "id": "e8af97de-baba-49fd-8ad7-c68bb2f5f2fc",
   "metadata": {
    "tags": []
   },
   "outputs": [
    {
     "name": "stdout",
     "output_type": "stream",
     "text": [
      "Beginning Inventory\tDemand\tLeftover Inventory\tRestock?\n",
      "10\t\t\t3\t7\t\t\tNo\n",
      "7\t\t\t4\t3\t\t\tNo\n",
      "3\t\t\t2\t1\t\t\tYes\n",
      "10\t\t\t5\t5\t\t\tNo\n",
      "5\t\t\t15\t0\t\t\tYes\n"
     ]
    }
   ],
   "source": [
    "# trying with 5 values\n",
    "\n",
    "demandList = [3,4,2,5,15]\n",
    "stockingLevel = 10\n",
    "minimumLevel = 3\n",
    "restock = ''\n",
    "restock_time = 0\n",
    "leftover = 0\n",
    "\n",
    "beginning_inventory = stockingLevel\n",
    "\n",
    "print(f'Beginning Inventory\\tDemand\\tLeftover Inventory\\tRestock?')\n",
    "for demand in demandList:\n",
    "    if restock == 'No':\n",
    "        beginning_inventory = leftover\n",
    "    else:\n",
    "        beginning_inventory = stockingLevel\n",
    "        \n",
    "    leftover = beginning_inventory - demand\n",
    "    \n",
    "    if leftover < minimumLevel:\n",
    "        restock = 'Yes'\n",
    "        restock_time +=1\n",
    "    else:\n",
    "        restock = 'No'\n",
    "    \n",
    "    if leftover < 0:\n",
    "        leftover = max(0, leftover)\n",
    "    \n",
    "    print(f'{beginning_inventory}\\t\\t\\t{demand}\\t{leftover}\\t\\t\\t{restock}')"
   ]
  },
  {
   "cell_type": "markdown",
   "id": "544fefdc-c7e6-4f57-add1-95d75b23877e",
   "metadata": {},
   "source": [
    "**Step 4. Synthesize** (Combine your code fragments from Step 3, but do so in an incremental fashion and print intermediate results)"
   ]
  },
  {
   "cell_type": "code",
   "execution_count": 26,
   "id": "1e3c7940-e1c7-4155-810a-b6bb6dcdb559",
   "metadata": {
    "tags": []
   },
   "outputs": [
    {
     "name": "stdout",
     "output_type": "stream",
     "text": [
      "Beginning Inventory\tDemand\tLeftover Inventory\tRestock?\n",
      "10\t\t\t3\t7\t\t\tNo\n",
      "7\t\t\t4\t3\t\t\tNo\n",
      "3\t\t\t2\t1\t\t\tYes\n",
      "10\t\t\t5\t5\t\t\tNo\n",
      "5\t\t\t15\t0\t\t\tYes\n",
      "10\t\t\t3\t7\t\t\tNo\n",
      "7\t\t\t9\t0\t\t\tYes\n",
      "10\t\t\t3\t7\t\t\tNo\n",
      "7\t\t\t1\t6\t\t\tNo\n",
      "6\t\t\t3\t3\t\t\tNo\n",
      "3\t\t\t9\t0\t\t\tYes\n",
      "# of times to restock:\t\t\t\t\t4\n"
     ]
    }
   ],
   "source": [
    "# Code with intermediate printing\n",
    "demandList = [3,4,2,5,15,3,9,3,1,3,9]\n",
    "stockingLevel = 10\n",
    "minimumLevel = 3\n",
    "restock = ''\n",
    "restock_time = 0\n",
    "leftover = 0\n",
    "\n",
    "beginning_inventory = stockingLevel\n",
    "\n",
    "print(f'Beginning Inventory\\tDemand\\tLeftover Inventory\\tRestock?')\n",
    "for demand in demandList:\n",
    "    if restock == 'No':\n",
    "        beginning_inventory = leftover\n",
    "    else:\n",
    "        beginning_inventory = stockingLevel\n",
    "        \n",
    "    leftover = beginning_inventory - demand\n",
    "    \n",
    "    if leftover < minimumLevel:\n",
    "        restock = 'Yes'\n",
    "        restock_time +=1\n",
    "    else:\n",
    "        restock = 'No'\n",
    "    \n",
    "    if leftover < 0:\n",
    "        leftover = max(0, leftover)\n",
    "    \n",
    "    print(f'{beginning_inventory}\\t\\t\\t{demand}\\t{leftover}\\t\\t\\t{restock}')\n",
    "\n",
    "print(f'# of times to restock:\\t\\t\\t\\t\\t{restock_time}')"
   ]
  },
  {
   "cell_type": "code",
   "execution_count": 27,
   "id": "68d1aaed-0f3e-42cd-9d46-c9baa91c6808",
   "metadata": {
    "tags": []
   },
   "outputs": [],
   "source": [
    "# Final code\n",
    "def analyzeScenario(demandList, stockingLevel, minimumLevel):\n",
    "    restock = ''\n",
    "    restock_time = 0\n",
    "    leftover = 0\n",
    "\n",
    "    beginning_inventory = stockingLevel\n",
    "\n",
    "    # print(f'Beginning Inventory\\tDemand\\tLeftover Inventory\\tRestock?')\n",
    "    \n",
    "    for demand in demandList:\n",
    "        if restock == 'No':\n",
    "            beginning_inventory = leftover\n",
    "        else:\n",
    "            beginning_inventory = stockingLevel\n",
    "        \n",
    "        leftover = beginning_inventory - demand\n",
    "    \n",
    "        if leftover < minimumLevel:\n",
    "            restock = 'Yes'\n",
    "            restock_time +=1\n",
    "        else:\n",
    "            restock = 'No'\n",
    "    \n",
    "        if leftover < 0:\n",
    "            leftover = max(0, leftover)\n",
    "    \n",
    "        # print(f'{beginning_inventory}\\t\\t\\t{demand}\\t{leftover}\\t\\t\\t{restock}')\n",
    "\n",
    "    # print(f'# of times to restock:\\t\\t\\t\\t\\t{restock_time}')\n",
    "    \n",
    "    print(f'The store needs to restock {restock_time} times.')"
   ]
  },
  {
   "cell_type": "code",
   "execution_count": 28,
   "id": "8cec1fcf-8db2-4988-8f68-29e26a35ece1",
   "metadata": {
    "tags": []
   },
   "outputs": [
    {
     "name": "stdout",
     "output_type": "stream",
     "text": [
      "The store needs to restock 4 times.\n"
     ]
    }
   ],
   "source": [
    "# Sample run 1\n",
    "analyzeScenario([3,4,2,5,15,3,9,3,1,3,9],10,3)"
   ]
  },
  {
   "cell_type": "code",
   "execution_count": 29,
   "id": "eb20686e-5fe8-48c9-9db7-eceb91aa0581",
   "metadata": {
    "tags": []
   },
   "outputs": [
    {
     "name": "stdout",
     "output_type": "stream",
     "text": [
      "The store needs to restock 6 times.\n"
     ]
    }
   ],
   "source": [
    "# Sample run 2\n",
    "analyzeScenario([3,4,2,5,15,3,9,3,1,3,9],9,3)"
   ]
  },
  {
   "cell_type": "code",
   "execution_count": 30,
   "id": "7ee03d4c-a210-4ee9-8da9-c804d21d0daf",
   "metadata": {
    "tags": []
   },
   "outputs": [
    {
     "name": "stdout",
     "output_type": "stream",
     "text": [
      "The store needs to restock 7 times.\n"
     ]
    }
   ],
   "source": [
    "# Sample run 3\n",
    "analyzeScenario([8,3,2,6,9,3,5,2,9,10],9,5)"
   ]
  },
  {
   "cell_type": "markdown",
   "id": "8ecfee96-90d7-49d3-a2de-e143428b0e1d",
   "metadata": {},
   "source": [
    "## Exercise 4.3: Demand Estimation with $n$ Substitutable Products\n",
    "\n",
    "This exercise generalizes Exercise 3.3 to $n$ products, where $n$ is any positive integer.\n",
    "\n",
    "Write a function called `demand` with two input arguments:\n",
    "\n",
    "- `prices`: a list of $n$ prices, one for each product. \n",
    "- `values`: a list in which each element represents a customer's valuations for the $n$ products. The valuations is a list of length $n$, which corresponds to the customer's willingness to pay for each of the $n$ products.\n",
    "\n",
    "The function should return a list of length $n$ representing the number of each product sold. You should assume that each customer:\n",
    "\n",
    "- Does not purchase anything if his/her valuation for each product is strictly less than its price.\n",
    "- Otherwise, purchase the product in which the difference between his/her valuation and the price is the largest. When there is a tie, the customer will purchase the product with the smaller index. \n",
    "\n",
    "For example, if `prices=[10,8,12]`, then\n",
    "\n",
    "- A customer with valuations `[9,7,11]` purchases nothing.\n",
    "- A customer with valuations `[10,8,12]` purchases product 1.\n",
    "- A customer with valuations `[9,8,12]` purchases product 2.\n",
    "- A customer with valuations `[9,8,13]` purchases product 3.\n",
    "\n",
    "**Sample run 1:**\n",
    "\n",
    "```python\n",
    "prices=[10,8,12]\n",
    "values=[[9,7,11],[10,8,12],[9,8,12],[9,8,13]]\n",
    "ans=demand(prices,values)\n",
    "for i in range(len(prices)):\n",
    "    print(f'Demand for product {i+1}:',ans[i])\n",
    "```\n",
    "\n",
    "**Correct output:**\n",
    "\n",
    "```\n",
    "Demand for product 1: 1\n",
    "Demand for product 2: 1\n",
    "Demand for product 3: 1\n",
    "```\n",
    "\n",
    "**Sample run 2:**\n",
    "\n",
    "```python\n",
    "prices=[20,15,30]\n",
    "values=[[30,30,20],[40,10,15],[18,13,29],[40,30,50],[10,30,50],[10,10,10],[20,15,30]]\n",
    "ans=demand(prices,values)\n",
    "for i in range(len(prices)):\n",
    "    print(f'Demand for product {i+1}:',ans[i])\n",
    "   ```\n",
    "   \n",
    "**Correct output:**\n",
    "\n",
    "```\n",
    "Demand for product 1: 3\n",
    "Demand for product 2: 1\n",
    "Demand for product 3: 1\n",
    "```\n",
    "\n",
    "**Solve this problem by applying the four steps of algorithmic thinking.**"
   ]
  },
  {
   "cell_type": "markdown",
   "id": "e64ffbfc-9cb7-4901-b0d5-52f4480bceb8",
   "metadata": {},
   "source": [
    "**Step 1. Understand** \n",
    "- the function has the objective to calculate the demand for each product with general total product input\n"
   ]
  },
  {
   "cell_type": "markdown",
   "id": "ab347dd9-96e1-4001-890f-d21d99fe2449",
   "metadata": {},
   "source": [
    "**Step 2. Decompose**\n",
    "- since  we require a general total product type input, we need to prepare a list that will store the total purchase of each product\n",
    "- substract each value from values variable againts each of value in prices\n",
    "- finding the max value of the subtraction result of values and prices\n",
    "- if the max value >= -> add 1 purchase in the product purchase for product with max value from substraction result\n"
   ]
  },
  {
   "cell_type": "markdown",
   "id": "91b5c999-ad42-4faf-a00e-1b39d9cb1b26",
   "metadata": {},
   "source": [
    "**Step 3. Analyze** (Write code fragments in separate code cells to implement the trickiest steps)"
   ]
  },
  {
   "cell_type": "code",
   "execution_count": 31,
   "id": "b599b254-899b-4c3e-a258-8b032751483f",
   "metadata": {
    "tags": []
   },
   "outputs": [
    {
     "data": {
      "text/plain": [
       "[0, 0, 0]"
      ]
     },
     "execution_count": 31,
     "metadata": {},
     "output_type": "execute_result"
    }
   ],
   "source": [
    "# testing list for storing product purchase of each product\n",
    "product_purchase = [0]*3\n",
    "product_purchase"
   ]
  },
  {
   "cell_type": "code",
   "execution_count": 32,
   "id": "8cd82257-9ef0-40c5-a436-c2ea9b48d1c2",
   "metadata": {
    "tags": []
   },
   "outputs": [
    {
     "data": {
      "text/plain": [
       "[10, 15, -10]"
      ]
     },
     "execution_count": 32,
     "metadata": {},
     "output_type": "execute_result"
    }
   ],
   "source": [
    "# testing list comprehension that will perform substraction of each product value and price value\n",
    "prices=[20,15,30]\n",
    "values=[[30,30,20]]\n",
    "\n",
    "subs = [x - y for x,y  in zip(values[0], prices)]\n",
    "subs"
   ]
  },
  {
   "cell_type": "code",
   "execution_count": 33,
   "id": "52d7fa3d-bead-413c-8a2c-5e473776d5cb",
   "metadata": {
    "tags": []
   },
   "outputs": [
    {
     "name": "stdout",
     "output_type": "stream",
     "text": [
      "[10, 15, -10]\t15\t1\n",
      "[0, 0, 0]\t0\t0\n"
     ]
    }
   ],
   "source": [
    "# testing the logic of max value to find the product to purchase\n",
    "prices=[20,15,30]\n",
    "values=[[30,30,20]]\n",
    "\n",
    "subs = [x - y for x,y  in zip(values[0], prices)]\n",
    "max_value = max(subs)\n",
    "product = subs.index(max_value)\n",
    "\n",
    "print(f'{subs}\\t{max_value}\\t{product}')\n",
    "\n",
    "prices=[20,15,30]\n",
    "values=[[20,15,30]]\n",
    "\n",
    "subs = [x - y for x,y  in zip(values[0], prices)]\n",
    "max_value = max(subs)\n",
    "product = subs.index(max_value)\n",
    "\n",
    "print(f'{subs}\\t{max_value}\\t{product}')"
   ]
  },
  {
   "cell_type": "markdown",
   "id": "c5a35b26-60a5-4ec0-884d-d4eda05627f8",
   "metadata": {},
   "source": [
    "**Step 4. Synthesize** (Combine your code fragments from Step 3, but do so in an incremental fashion and print intermediate results)"
   ]
  },
  {
   "cell_type": "code",
   "execution_count": 34,
   "id": "e42bf003-fe73-4a63-a5af-e84100ad72b2",
   "metadata": {
    "tags": []
   },
   "outputs": [
    {
     "name": "stdout",
     "output_type": "stream",
     "text": [
      "Values\t\tPrices\t\tSubs\t\tMax Value\tProduct Purchase\n",
      "[30, 30, 20]\t[20, 15, 30]\t[10, 15, -10]\t15\t\t[0, 1, 0]\n",
      "[40, 10, 15]\t[20, 15, 30]\t[20, -5, -15]\t20\t\t[1, 1, 0]\n",
      "[18, 13, 29]\t[20, 15, 30]\t[-2, -2, -1]\t-1\t\t[1, 1, 0]\n",
      "[40, 30, 50]\t[20, 15, 30]\t[20, 15, 20]\t20\t\t[2, 1, 0]\n",
      "[10, 30, 50]\t[20, 15, 30]\t[-10, 15, 20]\t20\t\t[2, 1, 1]\n",
      "[10, 10, 10]\t[20, 15, 30]\t[-10, -5, -20]\t-5\t\t[2, 1, 1]\n",
      "[20, 15, 30]\t[20, 15, 30]\t[0, 0, 0]\t0\t\t[3, 1, 1]\n"
     ]
    }
   ],
   "source": [
    "# Version for debugging: with intermediate printing and no function encapsulation\n",
    "\n",
    "prices=[20,15,30]\n",
    "values=[[30,30,20],[40,10,15],[18,13,29],[40,30,50],[10,30,50],[10,10,10],[20,15,30]]\n",
    "\n",
    "product_purchase = [0]*len(prices)\n",
    "\n",
    "print(f'Values\\t\\tPrices\\t\\tSubs\\t\\tMax Value\\tProduct Purchase')\n",
    "\n",
    "for i in range(len(values)):   \n",
    "    subs = [x - y for x,y  in zip(values[i], prices)]\n",
    "    max_value = max(subs)\n",
    "    product = subs.index(max_value)\n",
    "    \n",
    "    if max_value >= 0:\n",
    "        product_purchase[product] += 1\n",
    "        \n",
    "    print(f'{values[i]}\\t{prices}\\t{subs}\\t{max_value}\\t\\t{product_purchase}')\n",
    "       \n",
    "# for i in range(len(product_purchase)):\n",
    "#     print(f'Demand for product {i+1}: {product_purchase[i]}')\n",
    "    # print(temp_0, temp_1)\n"
   ]
  },
  {
   "cell_type": "code",
   "execution_count": 35,
   "id": "dd7bf2f7-d70c-4a06-873f-ff840607f006",
   "metadata": {
    "tags": []
   },
   "outputs": [],
   "source": [
    "# Final code: removing intermediate printing and encapuslating in a function\n",
    "def demand(prices, values):\n",
    "    product_purchase = [0]*len(prices)\n",
    "\n",
    "    for i in range(len(values)):   \n",
    "        subs = [x - y for x,y  in zip(values[i], prices)]\n",
    "        max_value = max(subs)\n",
    "        product = subs.index(max_value)\n",
    "    \n",
    "        if max_value >= 0:\n",
    "            product_purchase[product] += 1\n",
    "        \n",
    "    return product_purchase\n"
   ]
  },
  {
   "cell_type": "code",
   "execution_count": 36,
   "id": "af1ed63c-7fd3-4d8f-b719-48ecf1b63b35",
   "metadata": {
    "tags": []
   },
   "outputs": [
    {
     "name": "stdout",
     "output_type": "stream",
     "text": [
      "Demand for product 1 : 1\n",
      "Demand for product 2 : 1\n",
      "Demand for product 3 : 1\n"
     ]
    }
   ],
   "source": [
    "# Sample run 1\n",
    "prices=[10,8,12]\n",
    "values=[[9,7,11],[10,8,12],[9,8,12],[9,8,13]]\n",
    "ans=demand(prices,values)\n",
    "for i in range(len(prices)):\n",
    "    print('Demand for product',i+1,':',ans[i])"
   ]
  },
  {
   "cell_type": "code",
   "execution_count": 37,
   "id": "d53cb89d-357e-4657-930f-1f58b65338a6",
   "metadata": {
    "tags": []
   },
   "outputs": [
    {
     "name": "stdout",
     "output_type": "stream",
     "text": [
      "Demand for product 1 : 3\n",
      "Demand for product 2 : 1\n",
      "Demand for product 3 : 1\n"
     ]
    }
   ],
   "source": [
    "# Sample run 2\n",
    "prices=[20,15,30]\n",
    "values=[[30,30,20],[40,10,15],[18,13,29],[40,30,50],[10,30,50],[10,10,10],[20,15,30]]\n",
    "ans=demand(prices,values)\n",
    "for i in range(len(prices)):\n",
    "    print('Demand for product',i+1,':',ans[i])"
   ]
  },
  {
   "cell_type": "code",
   "execution_count": 38,
   "id": "2a173663-8bb6-4e66-ab32-9fabe5a6eab7",
   "metadata": {
    "tags": []
   },
   "outputs": [
    {
     "name": "stdout",
     "output_type": "stream",
     "text": [
      "Demand for product 1 : 1\n",
      "Demand for product 2 : 1\n",
      "Demand for product 3 : 0\n",
      "Demand for product 4 : 2\n"
     ]
    }
   ],
   "source": [
    "# Sample run 3\n",
    "prices=[10,8,12,8]\n",
    "values=[[9,7,11,12],[10,8,12,8],[9,8,12,5],[9,8,13,12]]\n",
    "ans=demand(prices,values)\n",
    "for i in range(len(prices)):\n",
    "    print('Demand for product',i+1,':',ans[i])"
   ]
  },
  {
   "cell_type": "markdown",
   "id": "8e41b36b-0c9e-4000-85a6-5f39767afe81",
   "metadata": {},
   "source": [
    "## Exercise 4.4: Simulating Availabilities of Hospital Beds\n",
    "\n",
    "One challenge in health care operations is to forecast the number of hospital beds that are available at a given time, since patients admitted in the past may stay for several days and the number of beds are limited. If no more beds are available, then incoming patients may need to be turned away.\n",
    "\n",
    "Write a function called `admissionSimulation` with three input arguments:\n",
    "\n",
    "- `demandList`: a list of positive integers representing the number of incoming patients desiring a hospital bed in each day. (The first number corresponds to day 0, the second number to day 1, and so on.)\n",
    "- `beds`: a positive integer representing the total number of hospital beds available.\n",
    "- `stay`: a positive integer representing the number of days each admitted patient will stay. If `stay=1`, then every admitted patient leaves before any incoming patients arrive the next day. If `stay=2`, then each patient admitted on day $t$ will occupy a bed also for day $t+1$, and leave before incoming patients arrive on day $t+2$.\n",
    "\n",
    "The function should return a list `admissionRecord`, corresponding to the number of incoming patients admitted on each day. \n",
    "\n",
    "**Sample run 1:**\n",
    "\n",
    "```python\n",
    "demandList=[1,2,1,0,2,3]\n",
    "beds=2\n",
    "stay=2\n",
    "admissionRecord=admissionSimulation(demandList,beds,stay)\n",
    "print(f'Day\\tDemand\\tAdmitted')\n",
    "for i in range(len(demandList)):\n",
    "    print(f'{i}\\t{demandList[i]}\\t{admissionRecord[i]}')\n",
    "```\n",
    "\n",
    "**Correct output:**\n",
    "\n",
    "```\n",
    "Day\t  Demand   Admitted\n",
    "0\t    1\t    1\n",
    "1\t    2\t    1\n",
    "2\t    1\t    1\n",
    "3\t    0\t    0\n",
    "4\t    2\t    2\n",
    "5\t    3\t    0\n",
    "```\n",
    "\n",
    "**Sample run 2:**\n",
    "\n",
    "```python\n",
    "demandList=[5,8,6,8,4,4,8,6,1]\n",
    "beds=7\n",
    "stay=3\n",
    "admissionRecord=admissionSimulation(demandList,beds,stay)\n",
    "print(f'Day\\tDemand\\tAdmitted')\n",
    "for i in range(len(demandList)):\n",
    "    print(f'{i}\\t{demandList[i]}\\t{admissionRecord[i]}')\n",
    "```\n",
    "\n",
    "**Correct output:**\n",
    "\n",
    "```\n",
    "Day\t  Demand   Admitted\n",
    "0\t    5\t    5\n",
    "1\t    8\t    2\n",
    "2\t    6\t    0\n",
    "3\t    8\t    5\n",
    "4\t    4\t    2\n",
    "5\t    4\t    0\n",
    "6\t    8\t    5\n",
    "7\t    6\t    2\n",
    "8\t    1\t    0\n",
    "```\n",
    "\n",
    "**Sample run 3:**\n",
    "\n",
    "```python\n",
    "# Sample run 3\n",
    "demandList=[5,8,6,4,4,4,8,1,3]\n",
    "beds=7\n",
    "stay=3\n",
    "admissionRecord=admissionSimulation(demandList,beds,stay)\n",
    "print(f'Day\\tDemand\\tAdmitted')\n",
    "for i in range(len(demandList)):\n",
    "    print(f'{i}\\t{demandList[i]}\\t{admissionRecord[i]}')\n",
    "```\n",
    "\n",
    "**Correct output:**\n",
    "\n",
    "```\n",
    "Day      Demand   Admitted\n",
    "0\t    5    \t5\n",
    "1\t    8\t    2\n",
    "2\t    6\t    0\n",
    "3\t    4\t    4\n",
    "4\t    4\t    3\n",
    "5\t    4\t    0\n",
    "6\t    8\t    4\n",
    "7\t    1\t    1\n",
    "8\t    3\t    2\n",
    "```\n",
    "\n",
    "**Hint:** In Step 2, you want to create a table. The above tables are insufficient to carry through the logic, as you also need to keep track of the number of discharges at the beginning of each day, as well as the number of available beds before new patients arrive.\n",
    "\n",
    "**Solve this problem by applying the four steps of algorithmic thinking.**"
   ]
  },
  {
   "cell_type": "markdown",
   "id": "64ca91eb-ecbe-4f29-8fb3-70c596fec0af",
   "metadata": {},
   "source": [
    "**Step 1. Understand**\n",
    "- the objective of the function is to retrieve the admission record list referring to demand of each day, bed capacity, and how long the stay of the patients\n",
    "\n",
    "\n",
    "\n"
   ]
  },
  {
   "cell_type": "markdown",
   "id": "852b58ed-d648-4f46-b6a5-fc5703d90979",
   "metadata": {},
   "source": [
    "**Step 2. Decompose** (Write your instructions in this Markdown cell)\n",
    "- check bed capacity over the demand\n",
    "- total demand = demand t and demand t-n\n",
    "- if beds >= total demand -> admitted = total demand\n",
    "- else -> admitted = beds"
   ]
  },
  {
   "cell_type": "markdown",
   "id": "bc43c516-1816-46c8-9eae-69ed465e6907",
   "metadata": {},
   "source": [
    "**Step 3. Analyze** (Write code fragments in separate code cells to implement the trickiest steps)"
   ]
  },
  {
   "cell_type": "code",
   "execution_count": 39,
   "id": "bca8fe98-440b-4faa-a505-80244c8ac563",
   "metadata": {
    "tags": []
   },
   "outputs": [
    {
     "name": "stdout",
     "output_type": "stream",
     "text": [
      "Vacant after Use\n",
      "0\n",
      "0\n",
      "5\n",
      "2\n"
     ]
    }
   ],
   "source": [
    "# testing list comprehension for the vacant after use\n",
    "\n",
    "demandList=[5,8,6,4]\n",
    "beds=7\n",
    "stay=3\n",
    "\n",
    "# day; admit\n",
    "record_list = []\n",
    "\n",
    "print(f'Vacant after Use')\n",
    "# print(f'Day\\tDemand\\tAdmitted\\tBed')\n",
    "\n",
    "\n",
    "for day in range(len(demandList)):\n",
    "    if beds >= demandList[day]:\n",
    "        admitted = demandList[day]\n",
    "    else:\n",
    "        admitted = beds\n",
    "    \n",
    "    record_list.append([day, admitted])\n",
    "    \n",
    "    vacant_after_use = sum([x[1] for x in record_list if (x[0] == day + 1 - stay)])\n",
    "    \n",
    "    beds = beds + vacant_after_use - admitted\n",
    "    \n",
    "    print(f'{vacant_after_use}')\n"
   ]
  },
  {
   "cell_type": "markdown",
   "id": "602773ff-018a-4f37-aa00-67cf07fccdc5",
   "metadata": {},
   "source": [
    "**Step 4. Synthesize** (Combine your code fragments from Step 3, but do so in an incremental fashion and print intermediate results)"
   ]
  },
  {
   "cell_type": "code",
   "execution_count": 40,
   "id": "3123b378-f68b-4dcd-863d-cc469f9fca5f",
   "metadata": {
    "tags": []
   },
   "outputs": [
    {
     "name": "stdout",
     "output_type": "stream",
     "text": [
      "Day\tDemand\tAdmitted\n",
      "0\t5\t5\n",
      "1\t8\t2\n",
      "2\t6\t0\n",
      "3\t4\t4\n",
      "4\t4\t3\n",
      "5\t4\t0\n",
      "6\t8\t4\n",
      "7\t1\t1\n",
      "8\t3\t2\n"
     ]
    }
   ],
   "source": [
    "# Version for debugging: with intermediate printing and no function encapsulation\n",
    "demandList=[5,8,6,4,4,4,8,1,3]\n",
    "beds=7\n",
    "stay=3\n",
    "\n",
    "# day; admit\n",
    "record_list = []\n",
    "\n",
    "print(f'Day\\tDemand\\tAdmitted')\n",
    "# print(f'Day\\tDemand\\tAdmitted\\tBed')\n",
    "\n",
    "\n",
    "for day in range(len(demandList)):\n",
    "    if beds >= demandList[day]:\n",
    "        admitted = demandList[day]\n",
    "    else:\n",
    "        admitted = beds\n",
    "    \n",
    "    record_list.append([day, admitted])\n",
    "    \n",
    "    vacant_after_use = sum([x[1] for x in record_list if (x[0] == day + 1 - stay)])\n",
    "    \n",
    "    beds = beds + vacant_after_use - admitted\n",
    "    \n",
    "    print(f'{day}\\t{demandList[day]}\\t{admitted}')\n",
    "    # print(f'{day}\\t{demandList[day]}\\t{admitted}\\t\\t{beds}')"
   ]
  },
  {
   "cell_type": "code",
   "execution_count": 41,
   "id": "f811511f-39e6-40e3-8b00-7c7db6ce5e66",
   "metadata": {
    "tags": []
   },
   "outputs": [],
   "source": [
    "# Final code: removing intermediate printing and encapuslating in a function\n",
    "\n",
    "def admissionSimulation(demandList, beds, stay):\n",
    "    \n",
    "    # day; admitted\n",
    "    record_list = []\n",
    "\n",
    "    for day in range(len(demandList)):\n",
    "        \n",
    "        # if beds >= demandList[day]:\n",
    "        #     admitted = demandList[day]\n",
    "        # else:\n",
    "        #     admitted = beds\n",
    "        \n",
    "        admitted = min(demandList[day], beds)\n",
    "    \n",
    "        record_list.append([day, admitted])\n",
    "    \n",
    "        vacant_after_use = sum([x[1] for x in record_list if (x[0] == day + 1 - stay)])\n",
    "    \n",
    "        beds = beds + vacant_after_use - admitted\n",
    "    \n",
    "    return [x[1] for x in record_list]\n",
    "    "
   ]
  },
  {
   "cell_type": "code",
   "execution_count": 42,
   "id": "92d7f605-cb57-42cd-9e9d-7cd36f2d4832",
   "metadata": {
    "tags": []
   },
   "outputs": [
    {
     "name": "stdout",
     "output_type": "stream",
     "text": [
      "Day\tDemand\tAdmitted\n",
      "0\t1\t1\n",
      "1\t2\t1\n",
      "2\t1\t1\n",
      "3\t0\t0\n",
      "4\t2\t2\n",
      "5\t3\t0\n"
     ]
    }
   ],
   "source": [
    "# Sample run 1\n",
    "demandList=[1,2,1,0,2,3]\n",
    "beds=2\n",
    "stay=2\n",
    "admissionRecord=admissionSimulation(demandList,beds,stay)\n",
    "print(f'Day\\tDemand\\tAdmitted')\n",
    "for i in range(len(demandList)):\n",
    "    print(f'{i}\\t{demandList[i]}\\t{admissionRecord[i]}')"
   ]
  },
  {
   "cell_type": "code",
   "execution_count": 43,
   "id": "27a3aa8d-dfd6-47b4-85af-08f350547a55",
   "metadata": {
    "tags": []
   },
   "outputs": [
    {
     "name": "stdout",
     "output_type": "stream",
     "text": [
      "Day\tDemand\tAdmitted\n",
      "0\t5\t5\n",
      "1\t8\t2\n",
      "2\t6\t0\n",
      "3\t8\t5\n",
      "4\t4\t2\n",
      "5\t4\t0\n",
      "6\t8\t5\n",
      "7\t6\t2\n",
      "8\t1\t0\n"
     ]
    }
   ],
   "source": [
    "# Sample run 2\n",
    "demandList=[5,8,6,8,4,4,8,6,1]\n",
    "beds=7\n",
    "stay=3\n",
    "admissionRecord=admissionSimulation(demandList,beds,stay)\n",
    "print(f'Day\\tDemand\\tAdmitted')\n",
    "for i in range(len(demandList)):\n",
    "    print(f'{i}\\t{demandList[i]}\\t{admissionRecord[i]}')"
   ]
  },
  {
   "cell_type": "code",
   "execution_count": 44,
   "id": "7286c7eb-d36e-444f-a69a-dc074aaf9982",
   "metadata": {
    "tags": []
   },
   "outputs": [
    {
     "name": "stdout",
     "output_type": "stream",
     "text": [
      "Day\tDemand\tAdmitted\n",
      "0\t5\t5\n",
      "1\t8\t2\n",
      "2\t6\t0\n",
      "3\t4\t4\n",
      "4\t4\t3\n",
      "5\t4\t0\n",
      "6\t8\t4\n",
      "7\t1\t1\n",
      "8\t3\t2\n"
     ]
    }
   ],
   "source": [
    "# Sample run 3\n",
    "demandList=[5,8,6,4,4,4,8,1,3]\n",
    "beds=7\n",
    "stay=3\n",
    "admissionRecord=admissionSimulation(demandList,beds,stay)\n",
    "print(f'Day\\tDemand\\tAdmitted')\n",
    "for i in range(len(demandList)):\n",
    "    print(f'{i}\\t{demandList[i]}\\t{admissionRecord[i]}')"
   ]
  },
  {
   "cell_type": "markdown",
   "id": "37436e0b-ae3a-4cee-90e7-3de198b58616",
   "metadata": {},
   "source": [
    "## Exercise 4.5: Health Insurance Selection \n",
    "\n",
    "This question asks you to create a function to help individuals select the most cost effective health insurance given the terms of each plan and the individual's estimated health expenditures. \n",
    "\n",
    "**Write a function called \"bestPlan\" with two input arguments:**\n",
    "\n",
    "- `planInfo`: a dictionary in which the index is the name of a plan and the value is a list of 3 non-negative numbers. The first number is the annual premium of this plan, the second number is the annual deductible, and the third number is the proportion of expenditures (beyond the deductible) reimbursed by the plan.\n",
    "- `expenditure`: a non-negative number representing the individual's total health care spending without any health insurance.\n",
    "\n",
    "**The function should return (not print) the name of the best plan for the individual**, where best is defined as having the lowest total cost, as given by \n",
    "\n",
    "$$\\text{Total cost}=\\text{Premium} + \\text{Expenditure} - \\text{Reimbursements},$$\n",
    "\n",
    "where $\\text{Reimbursements}$ is equal to the proportion reimbursed multiplied by the reimbursable amount, and the reimbursable amount is equal to the amount by which the expenditures exceeds the deductible. \n",
    "\n",
    "For example, if $\\text{Premium}=2000$, $\\text{Proportion reimbursed}=0.9$, $\\text{Deductible}=200$, and $\\text{Expenditure}=100$, then the reimbursable amount is 0, and $\\text{Total cost}=2000+100-0=2100$. \n",
    "\n",
    "However, if $\\text{Expenditure}=10000$, then the reimbursable amount is $10000-200=9800$, and $\\text{Total cost}=2000+10000-(9800)\\times0.9=3180$. If there are multiple plans tied for the lowest total cost, then the function can return any of them. \n",
    "\n",
    "For example, if \n",
    "```python\n",
    "planInfo={'BlueCross PPO':[3000,0,0.95],'Anthem HMO':[1200,100,0.8],'Cigna EPO':[2400,1000,0.98],'No Insurance':[0,0,0]}\n",
    "```\n",
    "Then,\n",
    "\n",
    "- ```bestPlan(planInfo,1500)``` should return `'No Insurance'`.\n",
    "- ```bestPlan(planInfo,1700)``` should return `'Anthem HMO'`.\n",
    "- ```bestPlan(planInfo,11000)``` should return `'Anthem HMO'`.\n",
    "- ```bestPlan(planInfo,12000)``` should return `'BlueCross PPO'`.\n",
    "- ```bestPlan(planInfo,13000)``` should return `'Cigna EPO'`.\n",
    "- ```bestPlan(planInfo,100000)``` should return `'Cigna EPO'`.\n",
    "\n",
    "**Apply the four steps of algorithmic thinking to solve this problem.**"
   ]
  },
  {
   "cell_type": "markdown",
   "id": "2d55b80c-1d76-4ecc-82a2-c960ea4b77d6",
   "metadata": {},
   "source": [
    "**Step 1. Understand** (Write your summary in this Markdown cell)\n",
    "\n",
    "\n",
    "\n"
   ]
  },
  {
   "cell_type": "markdown",
   "id": "f1c18ac8-75cd-41e9-a083-5b9fd2711a99",
   "metadata": {},
   "source": [
    "**Step 2. Decompose** \n",
    "- creating the calculation for referring to the aforementioned formula\n",
    "- creating a looping to get the insurance with minimum cost\n"
   ]
  },
  {
   "cell_type": "markdown",
   "id": "0042b181-7288-4336-9317-6ca6c793eb84",
   "metadata": {},
   "source": [
    "**Step 3. Analyze** "
   ]
  },
  {
   "cell_type": "code",
   "execution_count": 45,
   "id": "d4706be4-eb51-4922-98a1-b1250e3512a7",
   "metadata": {
    "tags": []
   },
   "outputs": [
    {
     "name": "stdout",
     "output_type": "stream",
     "text": [
      "3075.0\n"
     ]
    }
   ],
   "source": [
    "# BlueCross PPO\n",
    "print(3000 + 1500 - (0.95*(1500 - 0)))"
   ]
  },
  {
   "cell_type": "code",
   "execution_count": 46,
   "id": "7857c37d-d4f3-4c34-a120-6483282dfe98",
   "metadata": {
    "tags": []
   },
   "outputs": [
    {
     "name": "stdout",
     "output_type": "stream",
     "text": [
      "1580.0\n"
     ]
    }
   ],
   "source": [
    "# Anthem HMO\n",
    "print(1200 + 1500 - (0.8*(1500 - 100)))"
   ]
  },
  {
   "cell_type": "code",
   "execution_count": 47,
   "id": "5a7c6d60-0089-47d4-87bd-d818ba403e77",
   "metadata": {
    "tags": []
   },
   "outputs": [
    {
     "name": "stdout",
     "output_type": "stream",
     "text": [
      "3410.0\n"
     ]
    }
   ],
   "source": [
    "# Cigna EPO\n",
    "print(2400 + 1500 - (0.98*(1500 - 1000)))"
   ]
  },
  {
   "cell_type": "code",
   "execution_count": 48,
   "id": "c72c32bd-82f4-4b1f-8fb1-207b601514c0",
   "metadata": {
    "tags": []
   },
   "outputs": [
    {
     "name": "stdout",
     "output_type": "stream",
     "text": [
      "1500\n"
     ]
    }
   ],
   "source": [
    "# No insurance\n",
    "print(0 + 1500 - (0*(1500 - 0)))"
   ]
  },
  {
   "cell_type": "markdown",
   "id": "10a338ef-fc57-44a3-8290-cd858aba59f0",
   "metadata": {},
   "source": [
    "premium, annual deductible, proportion of expenditure"
   ]
  },
  {
   "cell_type": "code",
   "execution_count": 49,
   "id": "66a621f5-7a82-4ec3-b744-3cc5a3410702",
   "metadata": {
    "tags": []
   },
   "outputs": [],
   "source": [
    "planInfo={'BlueCross PPO':[3000,0,0.95],'Anthem HMO':[1200,100,0.8],'Cigna EPO':[2400,1000,0.98],'No Insurance':[0,0,0]}"
   ]
  },
  {
   "cell_type": "code",
   "execution_count": 50,
   "id": "f21e1561-961f-4dfc-86bb-5d30cfc1adf7",
   "metadata": {
    "tags": []
   },
   "outputs": [
    {
     "data": {
      "text/plain": [
       "{'BlueCross PPO': [3000, 0, 0.95],\n",
       " 'Anthem HMO': [1200, 100, 0.8],\n",
       " 'Cigna EPO': [2400, 1000, 0.98],\n",
       " 'No Insurance': [0, 0, 0]}"
      ]
     },
     "execution_count": 50,
     "metadata": {},
     "output_type": "execute_result"
    }
   ],
   "source": [
    "planInfo"
   ]
  },
  {
   "cell_type": "markdown",
   "id": "c3c9a917-6919-4f38-b81d-164d95e4010a",
   "metadata": {},
   "source": [
    "**Step 4. Synthesize**"
   ]
  },
  {
   "cell_type": "code",
   "execution_count": 51,
   "id": "d6ea4700-edf4-4e10-a3e7-c95ee4cdd887",
   "metadata": {
    "tags": []
   },
   "outputs": [
    {
     "data": {
      "text/plain": [
       "'Cigna EPO'"
      ]
     },
     "execution_count": 51,
     "metadata": {},
     "output_type": "execute_result"
    }
   ],
   "source": [
    "# Version for debugging: with intermediate printing and no function encapsulation\n",
    "minimum_cost = 99999999\n",
    "expenditure = 100000\n",
    "best_insurance = ''\n",
    "\n",
    "for key in planInfo:\n",
    "    total_cost = planInfo[key][0] + expenditure - (planInfo[key][2]*(expenditure - planInfo[key][1]))\n",
    "    if total_cost < minimum_cost:\n",
    "        minimum_cost = total_cost\n",
    "        best_insurance = key\n",
    "\n",
    "best_insurance"
   ]
  },
  {
   "cell_type": "code",
   "execution_count": 52,
   "id": "e6f247ba-9fc1-4ac9-bbad-079af6e051ac",
   "metadata": {
    "tags": []
   },
   "outputs": [],
   "source": [
    "# Final code\n",
    "def bestPlan(planInfo, expenditure):\n",
    "    minimum_cost = 99999999\n",
    "    best_insurance = ''\n",
    "\n",
    "    for key in planInfo:\n",
    "        total_cost = planInfo[key][0] + expenditure - (planInfo[key][2]*(expenditure - planInfo[key][1]))\n",
    "        if total_cost < minimum_cost:\n",
    "            minimum_cost = total_cost\n",
    "            best_insurance = key\n",
    "    \n",
    "    return best_insurance"
   ]
  },
  {
   "cell_type": "code",
   "execution_count": 53,
   "id": "db73b3c6-c347-429a-bb8d-c1b70ce0219c",
   "metadata": {
    "tags": []
   },
   "outputs": [
    {
     "data": {
      "text/plain": [
       "'No Insurance'"
      ]
     },
     "execution_count": 53,
     "metadata": {},
     "output_type": "execute_result"
    }
   ],
   "source": [
    "# Test code\n",
    "planInfo={'BlueCross PPO':[3000,0,0.95],'Anthem HMO':[1200,100,0.8],'Cigna EPO':[2400,1000,0.98],'No Insurance':[0,0,0]}\n",
    "bestPlan(planInfo,1500)"
   ]
  },
  {
   "cell_type": "code",
   "execution_count": 54,
   "id": "5336667f-9312-4ac1-af6e-02b030b7a27a",
   "metadata": {
    "tags": []
   },
   "outputs": [
    {
     "data": {
      "text/plain": [
       "'Anthem HMO'"
      ]
     },
     "execution_count": 54,
     "metadata": {},
     "output_type": "execute_result"
    }
   ],
   "source": [
    "bestPlan(planInfo,1700)"
   ]
  },
  {
   "cell_type": "code",
   "execution_count": 55,
   "id": "1eaf39ad-4fdf-4bc8-b537-eec65126d0e5",
   "metadata": {
    "tags": []
   },
   "outputs": [
    {
     "data": {
      "text/plain": [
       "'Anthem HMO'"
      ]
     },
     "execution_count": 55,
     "metadata": {},
     "output_type": "execute_result"
    }
   ],
   "source": [
    "bestPlan(planInfo,11000)"
   ]
  },
  {
   "cell_type": "code",
   "execution_count": 56,
   "id": "0d535426-315a-463b-a385-b00f599dc154",
   "metadata": {
    "tags": []
   },
   "outputs": [
    {
     "data": {
      "text/plain": [
       "'BlueCross PPO'"
      ]
     },
     "execution_count": 56,
     "metadata": {},
     "output_type": "execute_result"
    }
   ],
   "source": [
    "bestPlan(planInfo,12000)"
   ]
  },
  {
   "cell_type": "code",
   "execution_count": 57,
   "id": "a00282e0-db00-4fc7-bc7d-f848425d5306",
   "metadata": {
    "tags": []
   },
   "outputs": [
    {
     "data": {
      "text/plain": [
       "'Cigna EPO'"
      ]
     },
     "execution_count": 57,
     "metadata": {},
     "output_type": "execute_result"
    }
   ],
   "source": [
    "bestPlan(planInfo,13000)"
   ]
  },
  {
   "cell_type": "code",
   "execution_count": 58,
   "id": "bdba8154-84ef-4e4e-96ab-01af73f336f2",
   "metadata": {
    "tags": []
   },
   "outputs": [
    {
     "data": {
      "text/plain": [
       "'Cigna EPO'"
      ]
     },
     "execution_count": 58,
     "metadata": {},
     "output_type": "execute_result"
    }
   ],
   "source": [
    "bestPlan(planInfo,100000)"
   ]
  },
  {
   "cell_type": "markdown",
   "id": "543213a7-bfa4-4c20-a2ec-b5e5a6b2d034",
   "metadata": {},
   "source": [
    "**For Exercise 4.6 and 4.7, you do not have to write out the four steps, but you should still apply algorithmic thinking when solving these problems.**\n",
    "\n",
    "## Exercise 4.6: Meeting Scheduling\n",
    "\n",
    "This question asks you to create a tool to obtain the best times to schedule a meeting given the availabilities of all people interested. The tool outputs the time slot(s) that the most number of people can make. \n",
    "\n",
    "**Write a function called `getBestTimes` with one input argument:**\n",
    "\n",
    "- `availabilities`: a dictionary in which the key is the name of a person and the value is the list of all time slots that the person can make. Each time slot is represented by a string containing the date and the starting time. You can assume that each time slot has the same length so that only the start time matters. Moreover, the strings encoding the start times are formatted in a consistent way so that different strings represent different time slots, while equal strings represent the same time slot.\n",
    "\n",
    "**The function should return (not print) a dictionary where the keys are the best time slots (i.e. the slots the most number of people can make) and the value is the list of people who can make that time slot.** In other words, if there are two time slots, say A and B, that 4 people can make, and for each of the remaining time slots, at most 3 people can make it, then the dictionary should contain the time slots A and B as keys and the values should be the people who can make each time slot. \n",
    "\n",
    "**Your returned dictionary must contain all of the optimal time slots. However, the order in which time slots appear in the dictionary does not matter. Moreover, the order names appear in the list of people who can make each time slot does not matter.** See the sample outputs for illustrations. "
   ]
  },
  {
   "cell_type": "code",
   "execution_count": 59,
   "id": "9ea1210c-5a77-4e95-b131-50439066134b",
   "metadata": {
    "tags": []
   },
   "outputs": [],
   "source": [
    "time_dict = {'Alice':['Tue 9am','Tue 9:30am', 'Tue 2pm','Wed 11am'],\\\n",
    "             'Bob':['Tue 11am','Tue 11:30am','Tue 1:30pm','Tue 2pm']}"
   ]
  },
  {
   "cell_type": "code",
   "execution_count": 60,
   "id": "1f2935a8-bd28-40b2-93fe-4d5369c186ff",
   "metadata": {
    "tags": []
   },
   "outputs": [],
   "source": [
    "time_dict={}\n",
    "time_dict['Alice']=['Tue 9am','Tue 9:30am', 'Tue 2pm','Wed 11am']\n",
    "time_dict['Bob']=['Tue 11am','Tue 11:30am','Tue 1:30pm','Tue 2pm', 'Wed 11am']\n",
    "time_dict['Charlie']=['Wed 11am','Thu 11am','Fri 11am']\n",
    "time_dict['Dylan']=['Mon 9am','Mon 2pm','Tue 9am','Tue 2pm','Wed 9am']"
   ]
  },
  {
   "cell_type": "code",
   "execution_count": 61,
   "id": "e32edb93-3b07-4fff-880c-b662b786fe5a",
   "metadata": {
    "tags": []
   },
   "outputs": [
    {
     "name": "stdout",
     "output_type": "stream",
     "text": [
      "{'Tue 9am': 2}\n",
      "2\n",
      "{'Tue 9am': 2, 'Tue 9:30am': 1}\n",
      "2\n",
      "{'Tue 9am': 2, 'Tue 9:30am': 1, 'Tue 2pm': 3}\n",
      "3\n",
      "{'Tue 9am': 2, 'Tue 9:30am': 1, 'Tue 2pm': 3, 'Wed 11am': 3}\n",
      "3\n",
      "{'Tue 9am': 2, 'Tue 9:30am': 1, 'Tue 2pm': 3, 'Wed 11am': 3, 'Tue 11am': 1}\n",
      "3\n",
      "{'Tue 9am': 2, 'Tue 9:30am': 1, 'Tue 2pm': 3, 'Wed 11am': 3, 'Tue 11am': 1, 'Tue 11:30am': 1}\n",
      "3\n",
      "{'Tue 9am': 2, 'Tue 9:30am': 1, 'Tue 2pm': 3, 'Wed 11am': 3, 'Tue 11am': 1, 'Tue 11:30am': 1, 'Tue 1:30pm': 1}\n",
      "3\n",
      "{'Tue 9am': 2, 'Tue 9:30am': 1, 'Tue 2pm': 3, 'Wed 11am': 3, 'Tue 11am': 1, 'Tue 11:30am': 1, 'Tue 1:30pm': 1}\n",
      "3\n",
      "{'Tue 9am': 2, 'Tue 9:30am': 1, 'Tue 2pm': 3, 'Wed 11am': 3, 'Tue 11am': 1, 'Tue 11:30am': 1, 'Tue 1:30pm': 1}\n",
      "3\n",
      "{'Tue 9am': 2, 'Tue 9:30am': 1, 'Tue 2pm': 3, 'Wed 11am': 3, 'Tue 11am': 1, 'Tue 11:30am': 1, 'Tue 1:30pm': 1}\n",
      "3\n",
      "{'Tue 9am': 2, 'Tue 9:30am': 1, 'Tue 2pm': 3, 'Wed 11am': 3, 'Tue 11am': 1, 'Tue 11:30am': 1, 'Tue 1:30pm': 1, 'Thu 11am': 1}\n",
      "3\n",
      "{'Tue 9am': 2, 'Tue 9:30am': 1, 'Tue 2pm': 3, 'Wed 11am': 3, 'Tue 11am': 1, 'Tue 11:30am': 1, 'Tue 1:30pm': 1, 'Thu 11am': 1, 'Fri 11am': 1}\n",
      "3\n",
      "{'Tue 9am': 2, 'Tue 9:30am': 1, 'Tue 2pm': 3, 'Wed 11am': 3, 'Tue 11am': 1, 'Tue 11:30am': 1, 'Tue 1:30pm': 1, 'Thu 11am': 1, 'Fri 11am': 1, 'Mon 9am': 1}\n",
      "3\n",
      "{'Tue 9am': 2, 'Tue 9:30am': 1, 'Tue 2pm': 3, 'Wed 11am': 3, 'Tue 11am': 1, 'Tue 11:30am': 1, 'Tue 1:30pm': 1, 'Thu 11am': 1, 'Fri 11am': 1, 'Mon 9am': 1, 'Mon 2pm': 1}\n",
      "3\n",
      "{'Tue 9am': 2, 'Tue 9:30am': 1, 'Tue 2pm': 3, 'Wed 11am': 3, 'Tue 11am': 1, 'Tue 11:30am': 1, 'Tue 1:30pm': 1, 'Thu 11am': 1, 'Fri 11am': 1, 'Mon 9am': 1, 'Mon 2pm': 1}\n",
      "3\n",
      "{'Tue 9am': 2, 'Tue 9:30am': 1, 'Tue 2pm': 3, 'Wed 11am': 3, 'Tue 11am': 1, 'Tue 11:30am': 1, 'Tue 1:30pm': 1, 'Thu 11am': 1, 'Fri 11am': 1, 'Mon 9am': 1, 'Mon 2pm': 1}\n",
      "3\n",
      "{'Tue 9am': 2, 'Tue 9:30am': 1, 'Tue 2pm': 3, 'Wed 11am': 3, 'Tue 11am': 1, 'Tue 11:30am': 1, 'Tue 1:30pm': 1, 'Thu 11am': 1, 'Fri 11am': 1, 'Mon 9am': 1, 'Mon 2pm': 1, 'Wed 9am': 1}\n",
      "3\n"
     ]
    }
   ],
   "source": [
    "test = time_dict['Alice'] + time_dict['Bob'] + time_dict['Charlie'] + time_dict['Dylan']\n",
    "\n",
    "test_dict = {}\n",
    "max_value = 0\n",
    "\n",
    "for i in test:\n",
    "    test_dict[i] = test.count(i)\n",
    "    max_value = max(max_value, test.count(i))\n",
    "    print(test_dict)\n",
    "    print(max_value)"
   ]
  },
  {
   "cell_type": "code",
   "execution_count": 62,
   "id": "81a6d1ab-e34c-4a6f-96a0-2b0e0aabe6fc",
   "metadata": {
    "tags": []
   },
   "outputs": [
    {
     "data": {
      "text/plain": [
       "{'Tue 2pm': 3, 'Wed 11am': 3}"
      ]
     },
     "execution_count": 62,
     "metadata": {},
     "output_type": "execute_result"
    }
   ],
   "source": [
    "best_time = {key:value for key, value in test_dict.items() if value == max_value}\n",
    "best_time"
   ]
  },
  {
   "cell_type": "code",
   "execution_count": 63,
   "id": "8186ec4b-6044-435f-95ff-8446c11b8d4b",
   "metadata": {
    "tags": []
   },
   "outputs": [
    {
     "data": {
      "text/plain": [
       "{'Tue 2pm': ['Alice', 'Bob', 'Dylan'], 'Wed 11am': ['Alice', 'Bob', 'Charlie']}"
      ]
     },
     "execution_count": 63,
     "metadata": {},
     "output_type": "execute_result"
    }
   ],
   "source": [
    "final_dict = {}\n",
    "\n",
    "for key1 in best_time:\n",
    "    temp = []\n",
    "    for key2 in time_dict:\n",
    "        if key1 in time_dict[key2]:\n",
    "            temp.append(key2)\n",
    "            final_dict[key1] = temp\n",
    "final_dict"
   ]
  },
  {
   "cell_type": "code",
   "execution_count": 64,
   "id": "1d16300d-c195-4c16-b945-f57b7b6d395c",
   "metadata": {
    "tags": []
   },
   "outputs": [
    {
     "data": {
      "text/plain": [
       "{'Tue 2pm': ['Alice', 'Bob', 'Dylan'], 'Wed 11am': ['Alice', 'Bob', 'Charlie']}"
      ]
     },
     "execution_count": 64,
     "metadata": {},
     "output_type": "execute_result"
    }
   ],
   "source": [
    "time_dict={}\n",
    "time_dict['Alice']=['Tue 9am','Tue 9:30am', 'Tue 2pm','Wed 11am']\n",
    "time_dict['Bob']=['Tue 11am','Tue 11:30am','Tue 1:30pm','Tue 2pm', 'Wed 11am']\n",
    "time_dict['Charlie']=['Wed 11am','Thu 11am','Fri 11am']\n",
    "time_dict['Dylan']=['Mon 9am','Mon 2pm','Tue 9am','Tue 2pm','Wed 9am']\n",
    "\n",
    "test = []\n",
    "\n",
    "for key in time_dict:\n",
    "    test += time_dict[key]\n",
    "\n",
    "test_dict = {}\n",
    "max_value = 0\n",
    "\n",
    "for i in test:\n",
    "    test_dict[i] = test.count(i)\n",
    "    max_value = max(max_value, test.count(i))\n",
    "    \n",
    "final_dict = {}\n",
    "\n",
    "best_time = {key:value for key, value in test_dict.items() if value == max_value}\n",
    "\n",
    "for key1 in best_time:\n",
    "    temp = []\n",
    "    for key2 in time_dict:\n",
    "        if key1 in time_dict[key2]:\n",
    "            temp.append(key2)\n",
    "            final_dict[key1] = temp\n",
    "final_dict"
   ]
  },
  {
   "cell_type": "code",
   "execution_count": 65,
   "id": "7e53c7ad-543e-4f44-913c-5d31a48cbf72",
   "metadata": {
    "tags": []
   },
   "outputs": [],
   "source": [
    "# Write your function here. \n",
    "def getBestTimes(availabilities):\n",
    "    availabilities_list = []\n",
    "\n",
    "    for key in availabilities:\n",
    "        availabilities_list += availabilities[key]\n",
    "\n",
    "    max_dict = {}\n",
    "    max_value = 0\n",
    "\n",
    "    for i in availabilities_list:\n",
    "        max_dict[i] = availabilities_list.count(i)\n",
    "        max_value = max(max_value, availabilities_list.count(i))\n",
    "\n",
    "    final_dict = {}\n",
    "\n",
    "    best_time = {key:value for key, value in max_dict.items() if value == max_value}\n",
    "\n",
    "    for key1 in best_time:\n",
    "        temp = []\n",
    "        for key2 in availabilities:\n",
    "            if key1 in availabilities[key2]:\n",
    "                temp.append(key2)\n",
    "                final_dict[key1] = temp\n",
    "    \n",
    "    return final_dict\n"
   ]
  },
  {
   "cell_type": "code",
   "execution_count": 66,
   "id": "a143cf7d-7153-4e44-9a11-264133586e96",
   "metadata": {
    "tags": []
   },
   "outputs": [
    {
     "data": {
      "text/plain": [
       "{'Tue 2pm': ['Alice', 'Bob']}"
      ]
     },
     "execution_count": 66,
     "metadata": {},
     "output_type": "execute_result"
    }
   ],
   "source": [
    "# Sample run 1\n",
    "best=getBestTimes({'Alice':['Tue 9am','Tue 9:30am', 'Tue 2pm','Wed 11am'],\\\n",
    "             'Bob':['Tue 11am','Tue 11:30am','Tue 1:30pm','Tue 2pm']})\n",
    "best"
   ]
  },
  {
   "cell_type": "code",
   "execution_count": 67,
   "id": "1b958644-1af7-451b-839b-c5f4c17b6b84",
   "metadata": {
    "tags": []
   },
   "outputs": [
    {
     "data": {
      "text/plain": [
       "{'Tue 2pm': ['Alice', 'Bob'], 'Wed 11am': ['Alice', 'Bob']}"
      ]
     },
     "execution_count": 67,
     "metadata": {},
     "output_type": "execute_result"
    }
   ],
   "source": [
    "# Sample run 2\n",
    "getBestTimes({'Alice':['Tue 9am','Tue 9:30am', 'Tue 2pm','Wed 11am'],\\\n",
    "             'Bob':['Tue 11am','Tue 11:30am','Tue 1:30pm','Tue 2pm', 'Wed 11am']})"
   ]
  },
  {
   "cell_type": "code",
   "execution_count": 68,
   "id": "f9f8b0d2-9690-45b0-9e38-f71514dc84d5",
   "metadata": {
    "tags": []
   },
   "outputs": [
    {
     "data": {
      "text/plain": [
       "{'Tue 2pm': ['Alice', 'Bob', 'Dylan'], 'Wed 11am': ['Alice', 'Bob', 'Charlie']}"
      ]
     },
     "execution_count": 68,
     "metadata": {},
     "output_type": "execute_result"
    }
   ],
   "source": [
    "# Sample run 3\n",
    "availabilities={}\n",
    "availabilities['Alice']=['Tue 9am','Tue 9:30am', 'Tue 2pm','Wed 11am']\n",
    "availabilities['Bob']=['Tue 11am','Tue 11:30am','Tue 1:30pm','Tue 2pm', 'Wed 11am']\n",
    "availabilities['Charlie']=['Wed 11am','Thu 11am','Fri 11am']\n",
    "availabilities['Dylan']=['Mon 9am','Mon 2pm','Tue 9am','Tue 2pm','Wed 9am']\n",
    "getBestTimes(availabilities)"
   ]
  },
  {
   "cell_type": "code",
   "execution_count": 69,
   "id": "91fdf95d-705a-40d7-bd30-01082f64bbac",
   "metadata": {
    "tags": []
   },
   "outputs": [
    {
     "name": "stdout",
     "output_type": "stream",
     "text": [
      "Best time slots:\n",
      "\t5/12 9am\tAvailable: ['Jack', 'Jill', 'Jenna']\n",
      "\t5/13 2pm\tAvailable: ['Jack', 'Jason', 'Juan']\n",
      "\t5/12 3pm\tAvailable: ['Jason', 'Jenna', 'Juan']\n"
     ]
    }
   ],
   "source": [
    "# Sample run 4\n",
    "d={}\n",
    "d['Jack']=['5/12 9am','5/12 11am','5/12 12pm','5/13 2pm','5/13 3pm']\n",
    "d['Jill']=['5/12 8am','5/12 9am','5/12 10am','5/13 8am','5/13 9am', '5/13 10am']\n",
    "d['Jason']=['5/12 2pm','5/12 3pm','5/12 4pm','5/13 10am','5/13 2pm']\n",
    "d['Jenna']=['5/11 9pm','5/12 9am','5/12 3pm','5/12 9pm','5/13 12pm']\n",
    "d['Juan']=['5/12 2pm','5/12 3pm','5/13 2pm','5/13 3pm']\n",
    "best=getBestTimes(d)\n",
    "print('Best time slots:')\n",
    "for time in best:\n",
    "    print(f'\\t{time}\\tAvailable:',best[time])"
   ]
  },
  {
   "cell_type": "markdown",
   "id": "8c590544-59c5-4506-be8a-004afc9474aa",
   "metadata": {},
   "source": [
    "## Exercise 4.7: Longest Period without Rain\n",
    "\n",
    "This question asks you to make a tool to help a roofing company plan its work given a forecast of whether it will rain in a period of consecutive days. Write a function called `analyzeForecast` with one input argument:\n",
    "\n",
    "- `forecast`: a list of 1's and 0's indicating whether it will rain on a given day. Each 1 indicates that it will rain on that day and 0 indicates that it will not. The first entry of the list corresponds to Day 0, the second entry to Day 1, etc.\n",
    "\n",
    "The function should return two numbers:\n",
    "\n",
    "- `maxDryPeriod`: the longest number of consecutive days without rain in this given period. \n",
    "- `startDay`: the first position in the list that begins a consecutive sequence of 0's of length `maxDryPeriod`. If `maxDryPeriod` is 0, then it doesn't matter what you return for `startDay`.\n",
    "\n",
    "\n",
    "\n",
    "**Sample run 1:**\n",
    "\n",
    "```python\n",
    "maxDryPeriod,startDay=analyzeForecast([1,1,0,0,0,0,1,1,0,0,1,0,0,0])\n",
    "print(f'maxDryPeriod={maxDryPeriod} startDay={startDay}')\n",
    "```\n",
    "\n",
    "Correct output:\n",
    "\n",
    "```\n",
    "maxDryPeriod=4 startDay=2\n",
    "```\n",
    "\n",
    "**Sample run 2:**\n",
    "\n",
    "```python\n",
    "maxDryPeriod,startDay=analyzeForecast([0,0,0,0,1,1,1,0,0,0,0,0,0,0])\n",
    "print(f'maxDryPeriod={maxDryPeriod} startDay={startDay}')\n",
    "```\n",
    "\n",
    "Correct output:\n",
    "\n",
    "```\n",
    "maxDryPeriod=7 startDay=7\n",
    "```\n",
    "\n",
    "**Sample run 3:**\n",
    "\n",
    "```python\n",
    "maxDryPeriod,startDay=analyzeForecast([0,1,0,0,1,1,1,0,0,0,1,0,0,0])\n",
    "print(f'maxDryPeriod={maxDryPeriod} startDay={startDay}')\n",
    "```\n",
    "\n",
    "Correct output\n",
    "\n",
    "```\n",
    "maxDryPeriod=3 startDay=7\n",
    "```"
   ]
  },
  {
   "cell_type": "markdown",
   "id": "916637dc-2609-4482-961f-fb846d8c7a97",
   "metadata": {},
   "source": [
    "**Sample Solutions:**\n",
    "\n",
    "One way of solving the problem is to keep track of the length of the current dry period as in the table below:\n",
    "\n",
    "|Day |Rain? |  Length of Current Dry Period| \n",
    "|--|--|--|\n",
    "|0|1 |0|\n",
    "|1|1 |0|\n",
    "|2|0 |1|\n",
    "|3|0  |2|\n",
    "|4|0|3|\n",
    "|5|0 |4 |\n",
    "|6|1 |0 |\n",
    "|7|1 |0 |\n",
    "|8| 0 |1|\n",
    "|9| 0 | 2|\n",
    "|10| 1| 0 |\n",
    "|11| 0 |1|\n",
    "|12| 0 |2|\n",
    "|13|0 | 3|\n",
    "\n",
    "In the above table, the first column correspond to the positions of the list. The second column is the corresponding value in the list `forecast`. The last column is 0 whenever the current day is wet, and increments by 1 whenever the current day is dry. The desired \"maxDryPeriod\" is the maximum entry in the last column, and the desired \"startDay\" is equal to `t-maxDryPeriod+1` where `t` is the first \"Day\" in which the last column attains the value \"maxDryPeriod\". In the above example, \"maxDryPeriod\" is 4 and \"t\" is 5, so \"startPosition\" is 2."
   ]
  },
  {
   "cell_type": "code",
   "execution_count": 70,
   "id": "e9fc863a-d8c7-487c-b838-67f176693607",
   "metadata": {
    "tags": []
   },
   "outputs": [
    {
     "name": "stdout",
     "output_type": "stream",
     "text": [
      "Day\tRain?\tLength of Current Dry Period\n",
      "0\t0\t1\n",
      "1\t1\t0\n",
      "2\t0\t1\n",
      "3\t0\t2\n",
      "4\t1\t0\n",
      "5\t1\t0\n",
      "6\t1\t0\n",
      "7\t0\t1\n",
      "8\t0\t2\n",
      "9\t0\t3\n",
      "10\t1\t0\n",
      "11\t0\t1\n",
      "12\t0\t2\n",
      "13\t0\t3\n",
      "maxDryPeriod=3 startDay=7\n"
     ]
    }
   ],
   "source": [
    "# Version for debugging, with with intermediate print statements\n",
    "# list = [start_day, end_day, length]\n",
    "\n",
    "forecast = [0,1,0,0,1,1,1,0,0,0,1,0,0,0]\n",
    "\n",
    "dry_length = 0\n",
    "max_value = 0\n",
    "max_record = []\n",
    "\n",
    "print(f'Day\\tRain?\\tLength of Current Dry Period')\n",
    "\n",
    "for day in range(len(forecast)):\n",
    "    if forecast[day] == 0:\n",
    "        dry_length += 1\n",
    "    elif forecast[day] == 1:\n",
    "        dry_length = 0\n",
    "    \n",
    "    if dry_length > max_value:\n",
    "        max_value = dry_length\n",
    "        max_record = [day, max_value]\n",
    "        \n",
    "    print(f'{day}\\t{forecast[day]}\\t{dry_length}')\n",
    "\n",
    "print(f'maxDryPeriod={max_record[1]} startDay={max_record[0] - max_record[1]+1}')\n",
    "        "
   ]
  },
  {
   "cell_type": "code",
   "execution_count": 71,
   "id": "4c415a08-a9d0-4223-ad24-46692ef99871",
   "metadata": {
    "tags": []
   },
   "outputs": [],
   "source": [
    "# Final code\n",
    "\n",
    "def analyzeForecast(forecast):\n",
    "    dry_length = 0\n",
    "    max_value = 0\n",
    "    max_record = []\n",
    "\n",
    "    for day in range(len(forecast)):\n",
    "        if forecast[day] == 0:\n",
    "            dry_length += 1\n",
    "        elif forecast[day] == 1:\n",
    "            dry_length = 0\n",
    "\n",
    "        if dry_length > max_value:\n",
    "            max_value = dry_length\n",
    "            max_record = [day, max_value]\n",
    "    \n",
    "    return max_record[1],  max_record[0] - max_record[1]+1\n"
   ]
  },
  {
   "cell_type": "code",
   "execution_count": 72,
   "id": "0b3921ed-2483-4ec9-8339-92c50e7a7e47",
   "metadata": {
    "tags": []
   },
   "outputs": [
    {
     "name": "stdout",
     "output_type": "stream",
     "text": [
      "maxDryPeriod=4 startDay=2\n"
     ]
    }
   ],
   "source": [
    "maxDryPeriod,startDay=analyzeForecast([1,1,0,0,0,0,1,1,0,0,1,0,0,0])\n",
    "print(f'maxDryPeriod={maxDryPeriod} startDay={startDay}')"
   ]
  },
  {
   "cell_type": "code",
   "execution_count": 73,
   "id": "f9cec566-2aae-4c91-a4b2-bc3cf8d5530c",
   "metadata": {
    "tags": []
   },
   "outputs": [
    {
     "name": "stdout",
     "output_type": "stream",
     "text": [
      "maxDryPeriod=7 startDay=7\n"
     ]
    }
   ],
   "source": [
    "maxDryPeriod,startDay=analyzeForecast([0,0,0,0,1,1,1,0,0,0,0,0,0,0])\n",
    "print(f'maxDryPeriod={maxDryPeriod} startDay={startDay}')"
   ]
  },
  {
   "cell_type": "code",
   "execution_count": 74,
   "id": "5f10b070-3169-4f8a-8feb-36763da748f6",
   "metadata": {
    "tags": []
   },
   "outputs": [
    {
     "name": "stdout",
     "output_type": "stream",
     "text": [
      "maxDryPeriod=3 startDay=7\n"
     ]
    }
   ],
   "source": [
    "maxDryPeriod,startDay=analyzeForecast([0,1,0,0,1,1,1,0,0,0,1,0,0,0])\n",
    "print(f'maxDryPeriod={maxDryPeriod} startDay={startDay}')"
   ]
  }
 ],
 "metadata": {
  "kernelspec": {
   "display_name": "Python 3 (ipykernel)",
   "language": "python",
   "name": "python3"
  },
  "language_info": {
   "codemirror_mode": {
    "name": "ipython",
    "version": 3
   },
   "file_extension": ".py",
   "mimetype": "text/x-python",
   "name": "python",
   "nbconvert_exporter": "python",
   "pygments_lexer": "ipython3",
   "version": "3.11.4"
  }
 },
 "nbformat": 4,
 "nbformat_minor": 5
}
