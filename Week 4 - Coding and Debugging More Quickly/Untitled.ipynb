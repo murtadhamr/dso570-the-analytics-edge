{
 "cells": [
  {
   "cell_type": "code",
   "execution_count": 3,
   "id": "99bf5716-be34-4ca0-bc9c-7464371d4310",
   "metadata": {
    "tags": []
   },
   "outputs": [
    {
     "data": {
      "text/plain": [
       "True"
      ]
     },
     "execution_count": 3,
     "metadata": {},
     "output_type": "execute_result"
    }
   ],
   "source": [
    "len([1]) == 1"
   ]
  },
  {
   "cell_type": "code",
   "execution_count": 4,
   "id": "6670c4da-6003-4fbc-a708-0519c340c219",
   "metadata": {
    "tags": []
   },
   "outputs": [
    {
     "data": {
      "text/plain": [
       "89"
      ]
     },
     "execution_count": 4,
     "metadata": {},
     "output_type": "execute_result"
    }
   ],
   "source": [
    "n = 10\n",
    "\n",
    "fibonacci = [0, 1]\n",
    "\n",
    "while n > 0:\n",
    "    temp = fibonacci[-1] + fibonacci [-2]\n",
    "    fibonacci.append(temp)\n",
    "    n -= 1\n",
    "\n",
    "fibonacci[-1]"
   ]
  },
  {
   "cell_type": "code",
   "execution_count": 27,
   "id": "ada92d73-1a9e-4324-8ef3-bb44e070b218",
   "metadata": {
    "tags": []
   },
   "outputs": [
    {
     "data": {
      "text/plain": [
       "True"
      ]
     },
     "execution_count": 27,
     "metadata": {},
     "output_type": "execute_result"
    }
   ],
   "source": [
    "n = 10\n",
    "\n",
    "list(str(n))\n",
    "\n",
    "[int(x)**2 for x in list(str(n))]\n",
    "\n",
    "sum([int(x)**2 for x in list(str(n))])\n",
    "\n",
    "total = 0\n",
    "check_list = []\n",
    "verdict = True\n",
    "\n",
    "while total != 1:\n",
    "    total = sum([int(x)**2 for x in list(str(n))])\n",
    "    n = total\n",
    "    if total in check_list:\n",
    "        verdict = False\n",
    "        break\n",
    "    else:\n",
    "        check_list.append(total)\n",
    "        \n",
    "verdict"
   ]
  },
  {
   "cell_type": "code",
   "execution_count": 91,
   "id": "2de8a412-f4cf-4a4a-a7c0-f4fc17bf5570",
   "metadata": {},
   "outputs": [
    {
     "name": "stdout",
     "output_type": "stream",
     "text": [
      "i\tx\ty\tz\ta\tb\n",
      "0\t-\t0\t-\t0\t0\n",
      "1\t6\t6\t9\t0\t6\n",
      "2\t8\t14\t9\t1\t5\n",
      "3\t4\t9\t9\t1\t0\n",
      "4\t6\t6\t9\t0\t6\n",
      "5\t10\t16\t9\t1\t7\n"
     ]
    }
   ],
   "source": [
    "x = [6,8,4,6,10]\n",
    "z = [9,9,9,9,9]\n",
    "print(f'i\\tx\\ty\\tz\\ta\\tb')\n",
    "y = [0]\n",
    "a = [0]\n",
    "b = [0]\n",
    "for i in range(len(x)+1):\n",
    "    if i==0:\n",
    "        print(f'{i}\\t-\\t{y[i]}\\t-\\t{a[i]}\\t{b[i]}')\n",
    "    else:\n",
    "        y.append(x[i-1]+b[-1])\n",
    "        if y[-1]>=z[-1]:\n",
    "            a.append(1)\n",
    "        else:\n",
    "            a.append(0)\n",
    "        if a[i] == 1:\n",
    "            b.append(y[-1]-z[-1])\n",
    "        else:\n",
    "            b.append(y[i])\n",
    "        print(f'{i}\\t{x[i-1]}\\t{y[i]}\\t{z[i-1]}\\t{a[i]}\\t{b[i]}')\n",
    "           "
   ]
  },
  {
   "cell_type": "code",
   "execution_count": 49,
   "id": "c6e61b3c-a0ed-42d3-9857-07b579fb1ce0",
   "metadata": {
    "tags": []
   },
   "outputs": [
    {
     "name": "stdout",
     "output_type": "stream",
     "text": [
      "x\ty\tz\ta\tb\n",
      "-\t0\t-\t0\t0\n",
      "6\t0\t9\n",
      "8\t6\t9\n",
      "4\t8\t9\n",
      "6\t4\t9\n",
      "10\t6\t9\n"
     ]
    }
   ],
   "source": [
    "process([6,8,4,6,10],[9,9,9,9,9])"
   ]
  }
 ],
 "metadata": {
  "kernelspec": {
   "display_name": "Python 3 (ipykernel)",
   "language": "python",
   "name": "python3"
  },
  "language_info": {
   "codemirror_mode": {
    "name": "ipython",
    "version": 3
   },
   "file_extension": ".py",
   "mimetype": "text/x-python",
   "name": "python",
   "nbconvert_exporter": "python",
   "pygments_lexer": "ipython3",
   "version": "3.11.4"
  }
 },
 "nbformat": 4,
 "nbformat_minor": 5
}
