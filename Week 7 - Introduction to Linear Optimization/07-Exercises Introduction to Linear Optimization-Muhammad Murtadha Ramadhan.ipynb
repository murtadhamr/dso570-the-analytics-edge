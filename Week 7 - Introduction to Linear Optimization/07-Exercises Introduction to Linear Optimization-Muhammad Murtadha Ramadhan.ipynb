{
 "cells": [
  {
   "cell_type": "markdown",
   "id": "6cce4469-b3b0-4fcb-918c-6500506b951d",
   "metadata": {},
   "source": [
    "# Exercises for Week 7: Introduction to Linear Optimization\n"
   ]
  },
  {
   "cell_type": "markdown",
   "id": "e6e6f83b-4aa4-40e5-b9ea-90782df0a384",
   "metadata": {},
   "source": [
    "## Grading Scheme:\n",
    "Important: This Jupyter notebook needs to be completed and submitted via Blackboard before the due date to receive a non-zero grade.\n",
    "\n",
    "- 5: Every question is completed and the solution is essentially correct. This means that the math formulation correctly models the given problem and the code outputs the correct results. However, it is okay if the code returns another optimal solution that is equally good. \n",
    "- 4: Almost complete, but certain questions are blank, the code there does not run, or the output is clearly incorrect. For math formulations, this would be if the formulation is seriously flawed. \n",
    "- 3: This score will not be assigned, as everyone should strive to get 4 or 5.\n",
    "- 2: Not close to complete, but at least 50% complete.\n",
    "- 1: At least 10% complete, but less than 50% complete\n",
    "- 0: Less than 10% complete, or response is identical to someone else's, indicating plagiarism.\n",
    "\n",
    "A perfect score is 5. Note that your code does not need to be absolutely perfect to receive a 5, but you need to complete every question and ensure that the outputs are correct on all of the sample runs included here. Furthermore, you should double check that your math formulations make sense, by plugging in concrete numbers and verifying that the constraints are satisfied. \n",
    "\n",
    "These exercises are intended to be completed in 6-8 hours, including the individual-work time in class. You should budget at least this much time before the due date."
   ]
  },
  {
   "cell_type": "markdown",
   "id": "1ca0304c-e2f0-482b-b663-6100643a6eea",
   "metadata": {},
   "source": [
    "## Name: Muhammad Murtadha Ramadhan"
   ]
  },
  {
   "cell_type": "markdown",
   "id": "8fb6184f-8e7f-4233-bf56-11c011ac3c59",
   "metadata": {},
   "source": [
    "## Exercise 7.1: Testing your Gurobi Installation\n",
    "\n",
    "Run the following code cell from the illustrative example at the beginning of Week 7, to see if it obtains the desired output."
   ]
  },
  {
   "cell_type": "code",
   "execution_count": 1,
   "id": "fbf0e626-d51f-4a01-aaf9-bd99da46bcf7",
   "metadata": {
    "tags": []
   },
   "outputs": [
    {
     "name": "stdout",
     "output_type": "stream",
     "text": [
      "Set parameter Username\n",
      "Academic license - for non-commercial use only - expires 2024-10-04\n",
      "Minimum # of books: 4.0\n",
      "Books to include:  [2, 3, 4, 9]\n"
     ]
    }
   ],
   "source": [
    "# Code to test your Gurobi installation\n",
    "B=range(1,11)\n",
    "G=['Literary','Sci-Fi','Romance','Thriller']\n",
    "booksInGenre={'Literary':[1,4,5,9],'Sci-Fi':[2,7,9],'Romance':[3,4,6,10],'Thriller':[2,3,8]}\n",
    "q={'Literary':2,'Sci-Fi':2,'Romance':2,'Thriller':2}\n",
    "\n",
    "from gurobipy import Model,GRB\n",
    "mod=Model()\n",
    "x=mod.addVars(B,vtype=GRB.BINARY)\n",
    "mod.setObjective(sum(x[b] for b in B))\n",
    "for g in G:\n",
    "    mod.addConstr(sum(x[b] for b in booksInGenre[g])>=q[g])\n",
    "mod.setParam('OutputFlag',False)\n",
    "mod.optimize()\n",
    "print('Minimum # of books:',mod.objval)\n",
    "print('Books to include: ',[b for b in B if x[b].x==1])"
   ]
  },
  {
   "cell_type": "markdown",
   "id": "851d26db-23fc-4ca6-937e-7f42bf8161c1",
   "metadata": {},
   "source": [
    "## Exercise 7.2: Numerically Solving the GTC Production Planning LP\n",
    "\n",
    "Numerically solve the linear program from the in-class exercise using Gurobi. You may follow the \"template\" code for LP from last session, which is given immediately before the in-class exercise. Ignore the log \n",
    "that Gurobi prints out."
   ]
  },
  {
   "cell_type": "code",
   "execution_count": 2,
   "id": "000a1ed3-dfa1-483c-9b8d-027c777ec394",
   "metadata": {},
   "outputs": [],
   "source": [
    "# Sample Output (Only pay attention to the last two rows)\n",
    "# It's fine if your code returns a different solution with the same objective value."
   ]
  },
  {
   "cell_type": "code",
   "execution_count": 3,
   "id": "e349f572-64b3-4317-84ff-2e9036257465",
   "metadata": {},
   "outputs": [
    {
     "name": "stdout",
     "output_type": "stream",
     "text": [
      "Gurobi Optimizer version 10.0.2 build v10.0.2rc0 (mac64[arm])\n",
      "\n",
      "CPU model: Apple M2\n",
      "Thread count: 8 physical cores, 8 logical processors, using up to 8 threads\n",
      "\n",
      "Optimize a model with 5 rows, 2 columns and 8 nonzeros\n",
      "Model fingerprint: 0x38ed76ab\n",
      "Coefficient statistics:\n",
      "  Matrix range     [3e-01, 2e+00]\n",
      "  Objective range  [1e-01, 1e-01]\n",
      "  Bounds range     [0e+00, 0e+00]\n",
      "  RHS range        [9e+03, 3e+04]\n",
      "Presolve removed 2 rows and 0 columns\n",
      "Presolve time: 0.00s\n",
      "Presolved: 3 rows, 2 columns, 6 nonzeros\n",
      "\n",
      "Iteration    Objective       Primal Inf.    Dual Inf.      Time\n",
      "       0    3.5100000e+03   3.375000e+03   0.000000e+00      0s\n",
      "       3    2.5050000e+03   0.000000e+00   0.000000e+00      0s\n",
      "\n",
      "Solved in 3 iterations and 0.00 seconds (0.00 work units)\n",
      "Optimal objective  2.505000000e+03\n",
      "\n",
      "Optimal profit: 2505.0\n",
      "Optimal production plan: X=7500.0 Y=13500.0\n"
     ]
    }
   ],
   "source": [
    "# Write your code here\n",
    "from gurobipy import Model, GRB\n",
    "mod=Model()\n",
    "X=mod.addVar()\n",
    "Y=mod.addVar()\n",
    "mod.setObjective(0.1*X+0.13*Y,sense=GRB.MAXIMIZE)\n",
    "# steel\n",
    "mod.addConstr(1.5*X+Y<=27000)\n",
    "# mold\n",
    "mod.addConstr(X+Y<=21000)\n",
    "# assembly\n",
    "mod.addConstr(0.3*X+0.5*Y<=9000)\n",
    "# demand wrench\n",
    "mod.addConstr(X<=16000)\n",
    "# demand plier\n",
    "mod.addConstr(Y<=15000)\n",
    "mod.optimize()\n",
    "print(f'\\nOptimal profit:',mod.objVal)\n",
    "print(f'Optimal production plan: X={X.x} Y={Y.x}')"
   ]
  },
  {
   "cell_type": "markdown",
   "id": "bfb269f5-8b10-4f51-92e6-cdb7d947eef4",
   "metadata": {
    "tags": []
   },
   "source": [
    "## Exercise 7.3: Typesetting the GTC Production Planning LP\n",
    "\n",
    "Typeset the GTC Production Planning LP from the In-Class Exercise in the following Markdown cell using Latex. "
   ]
  },
  {
   "cell_type": "markdown",
   "id": "a4097d69-d9df-4634-a118-869d7e5674ee",
   "metadata": {},
   "source": [
    "## Exercise 7.3: Typesetting the GTC Production Planning LP\n",
    "\n",
    "Typeset the GTC Production Planning LP from the In-Class Exercise in the following Markdown cell using Latex. "
   ]
  },
  {
   "cell_type": "markdown",
   "id": "e277eb3a-9304-43e5-b329-45b3b65f4241",
   "metadata": {},
   "source": [
    "**Decision Variables**\n",
    "\n",
    "- $X$ = the amount of Wrenches to product per day\n",
    "- $Y$ = the amount of Pliers to product per day\n",
    "\n",
    "\n",
    "**Objective:**\n",
    "$$\\text{Maximize:} \\qquad 0.1X + 0.13Y$$\n",
    "\n",
    "\n",
    "**Constraints:**\n",
    "$$\\begin{aligned}\n",
    "\\text{(Steel)} && 1.5X+Y & \\le 27000 \\\\\n",
    "\\text{(Molding)} && X + Y & \\le 21000 \\\\\n",
    "\\text{(Assembly)} && 0.3X + 0.5Y & \\le 9000 \\\\\n",
    "\\text{(Demand for Wrenches)} && X & \\le 16000 \\\\\n",
    "\\text{(Demand for Pliers)} && Y & \\le 15000 \\\\\n",
    "\\text{(Non-Negativity)} && X, Y & \\ge 0 \\\\\n",
    "\\end{aligned}$$\n",
    "\n",
    "\n",
    "\n",
    "\n",
    "\n",
    "\n",
    "\n",
    "\n"
   ]
  },
  {
   "cell_type": "markdown",
   "id": "299aa9f3-871b-4bd1-a0cc-41cfcf33e9bf",
   "metadata": {},
   "source": [
    "## Exercise 7.4: Production Planning\n",
    "\n",
    "The Magnetron Company manufactures and markets microwave ovens. Currently, the company produces two models: full-size and compact. Production is limited by the amount of labor available in the general assembly and electronic assembly departments, as well as by the demand for each model. Each full-size oven requires 2 hours of general assembly and 2 hours of electronic assembly, whereas each compact oven requires 1 hour of general assembly and 3 hours of electronic assembly. In the current production period, there are 500 hours of general assembly labor available and 800 hours of electronic assembly labor available. \n",
    "\n",
    "In additional, the company estimates that it can sell at most 220 full-size ovens and 180 compact ovens in the current production period. The earnings contribution per oven is 120 dollars for a full-size oven and 130 dollars for a compact oven. The company would like to find an earnings-maximizing production plan for the current production period. \n",
    "\n",
    "**a)** Succintly describe the decision, objective and constraints in English."
   ]
  },
  {
   "cell_type": "markdown",
   "id": "de773fca-f438-4b97-8d07-44c7fbdb6099",
   "metadata": {},
   "source": [
    "**Decision:** \n",
    "<br>How many microwaves per each type to manufacture\n",
    "\n",
    "**Objective:**\n",
    "<br> Maximize the production earning for the current production period\n",
    "\n",
    "**Constraints:** \n",
    "<br> 1. In the current production period, there are 500 hours of general assembly labor available and 800 hours of electronic assembly labor available\n",
    "<br> # hour of general assembly for full-size microwave + # hour of general assembly for compact microwave <= 500\n",
    "<br> # hour of electronic assembly for full-size microwave + # hour of electronic assembly for compact microwave <= 800\n",
    "<br>\n",
    "<br> 2. The company estimates that it can sell at most 220 full-size ovens and 180 compact ovens in the current production period\n",
    "<br> # full-size microwave that can be sold at most <= 220\n",
    "<br> # compact microwave that can be sold at most <= 180\n"
   ]
  },
  {
   "cell_type": "markdown",
   "id": "32b1b3fd-13f1-4a72-bb87-966ddbc153c0",
   "metadata": {},
   "source": [
    "**b)** Translate the above English description into a concrete formulation of a linear optimization problem."
   ]
  },
  {
   "cell_type": "markdown",
   "id": "a91ee36d-626b-4d75-984f-52053adee074",
   "metadata": {},
   "source": [
    "**Decision variables:** \n",
    "- $X$ = the amount of full-size microwave produced for the current production planning\n",
    "- $Y$ = the amount of compact microwave produced for the current production planning\n",
    "\n",
    "**Objective:**\n",
    "$$\\text{Maximize:} \\qquad 120X+130Y$$\n",
    "\n",
    "\n",
    "\n",
    "**Constraints:**\n",
    "$$\\begin{aligned}\n",
    "\\text{(# Hours of general assembly)} && 2X+Y & \\le 500 \\\\\n",
    "\\text{(# Hours of electronic assembly)} && 2X+3Y & \\le 800 \\\\\n",
    "\\text{(# Full-size microwave)} && X & \\le 220 \\\\\n",
    "\\text{(# Compact microwave)} && Y & \\le 180 \\\\\n",
    "\\text{(Non-Negativity)} && X, Y & \\ge 0 \\\\\n",
    "\\end{aligned}$$\n",
    "\n",
    "\n",
    "\n"
   ]
  },
  {
   "cell_type": "markdown",
   "id": "4d86a35d-ba43-4486-acff-707472d20017",
   "metadata": {},
   "source": [
    "**c)** Solve your formulation numerically using Gurobi."
   ]
  },
  {
   "cell_type": "code",
   "execution_count": 4,
   "id": "288cfe44-b5b4-49e1-82ba-021fd27038cd",
   "metadata": {
    "tags": []
   },
   "outputs": [],
   "source": [
    "# Sample Output (Only pay attention to the last three rows)\n",
    "# It's fine if your code returns a different solution with the same objective value."
   ]
  },
  {
   "cell_type": "code",
   "execution_count": 5,
   "id": "5a39dd5f-b83a-4bc7-8ccc-e84fcb3c6e20",
   "metadata": {},
   "outputs": [
    {
     "name": "stdout",
     "output_type": "stream",
     "text": [
      "Gurobi Optimizer version 10.0.2 build v10.0.2rc0 (mac64[arm])\n",
      "\n",
      "CPU model: Apple M2\n",
      "Thread count: 8 physical cores, 8 logical processors, using up to 8 threads\n",
      "\n",
      "Optimize a model with 4 rows, 2 columns and 6 nonzeros\n",
      "Model fingerprint: 0x3281681c\n",
      "Coefficient statistics:\n",
      "  Matrix range     [1e+00, 3e+00]\n",
      "  Objective range  [1e+02, 1e+02]\n",
      "  Bounds range     [0e+00, 0e+00]\n",
      "  RHS range        [2e+02, 8e+02]\n",
      "Presolve removed 2 rows and 0 columns\n",
      "Presolve time: 0.00s\n",
      "Presolved: 2 rows, 2 columns, 4 nonzeros\n",
      "\n",
      "Iteration    Objective       Primal Inf.    Dual Inf.      Time\n",
      "       0    6.5000000e+04   1.237500e+02   0.000000e+00      0s\n",
      "       2    4.0500000e+04   0.000000e+00   0.000000e+00      0s\n",
      "\n",
      "Solved in 2 iterations and 0.00 seconds (0.00 work units)\n",
      "Optimal objective  4.050000000e+04\n",
      "\n",
      "Optimal Solution\n",
      "Maximum earnings 40500.0\n",
      "F=175.0 C=150.0\n"
     ]
    }
   ],
   "source": [
    "# Write your code here\n",
    "from gurobipy import Model, GRB\n",
    "mod=Model()\n",
    "X=mod.addVar()\n",
    "Y=mod.addVar()\n",
    "mod.setObjective(120*X+130*Y,sense=GRB.MAXIMIZE)\n",
    "mod.addConstr(2*X+Y<=500)\n",
    "mod.addConstr(2*X+3*Y<=800)\n",
    "mod.addConstr(X<=220)\n",
    "mod.addConstr(Y<=180)\n",
    "mod.optimize()\n",
    "print('\\nOptimal Solution')\n",
    "print(f'Maximum earnings',mod.objVal)\n",
    "print(f'F={X.x} C={Y.x}')"
   ]
  },
  {
   "cell_type": "markdown",
   "id": "d96755b1-56b6-48f6-9783-7297c9266ab2",
   "metadata": {},
   "source": [
    "## Exercise 7.5: Portfolio Planning\n",
    "\n",
    "An investor would like to construct an optimal portfolio consisting of five possible funds. (A portfolio consists of a certain amount of money in each fund.) The five funds and their respective fund categories, risk levels, and percentage annual returns are shown below. \n",
    "\n",
    "| Fund | Category | Risk Level | Percentage Annual Return |\n",
    "|--|--|--|--|\n",
    "| A | Money Market | 1 | 4.50\\% |\n",
    "| B | Money Market | 2 | 5.62 \\% |\n",
    "| C | Bond | 2 | 6.80\\% |\n",
    "| D | Bond | 3 | 10.15\\% |\n",
    "| E | Aggressive Growth | 5 | 20.60\\% |\n",
    "\n",
    "The risk level of each fund is rated on a scale of 1 to 5, where 1 is very conservative and 5 is very risky. The investor would like to maximize the total monetary amount earned subject to the following restrictions: \n",
    "\n",
    "1. The average risk level of the entire investment should not exceed 2.5. (The average here is weighted by the amount of money in each fund. For example, if the entire investment consists of 7500 in C and 1000 in D, then the average risk level is $(7500 \\times 2 + 1000 \\times 3)/(7500+1000) \\approx 2.12$.)\n",
    "\n",
    "2. At least 30\\% of the money invested should be placed in money market funds.\n",
    "\n",
    "3. At most 2,000 dollars should be invested in the aggressive growth fund.\n",
    "\n",
    "4. The total amount of initial investment should be between 5,000 and 10,000 dollars (inclusive).\n",
    "\n",
    "**a)** Succintly describe the decision, objective and constraints in English."
   ]
  },
  {
   "cell_type": "markdown",
   "id": "17536385-e8c1-4117-8add-2c7e9192a8aa",
   "metadata": {},
   "source": [
    "**Decision:** \n",
    "<br> How much money to invest in each fund\n",
    "\n",
    "**Objective:**\n",
    "<br> Maximize the total monetary amount earned from the planned portfolio\n",
    "\n",
    "**Constraints:**\n",
    "<br> 1. The average risk level of the entire investment should not exceed 2.5.\n",
    "<br> (invested money in fund A * risk level fund A + invested money in fund B * risk level fund B + invested money in fund C * risk level fund C + invested money in fund D * risk level fund D + invested money in fund E * risk level fund E)/(invested money in fund A + invested money in fund B + invested money in fund C + invested money in fund D + invested money in fund E) <= 2.5\n",
    "<br>\n",
    "<br> 2. At least 30% of the money invested should be placed in money market funds.\n",
    "<br> (invested money in fund A + invested money in fund B)/(invested money in fund A + invested money in fund B + invested money in fund C + invested money in fund D + invested money in fund E) >= 30%\n",
    "<br>\n",
    "<br> 3. At most 2,000 dollars should be invested in the aggressive growth fund.\n",
    "<br> invested money in fund E <= 2000\n",
    "<br>\n",
    "<br> 4. The total amount of initial investment should be between 5,000 and 10,000 dollars (inclusive).\n",
    "<br> invested money in fund A + invested money in fund B + invested money in fund C + invested money in fund D + invested money in fund E >= 5000\n",
    "<br> invested money in fund A + invested money in fund B + invested money in fund C + invested money in fund D + invested money in fund E <= 10000"
   ]
  },
  {
   "cell_type": "markdown",
   "id": "9ed6e646-7f9d-4eb9-9c53-dc799d6f2051",
   "metadata": {},
   "source": [
    "**b)** Translate the above English description into a concrete formulation of a linear optimization problem. **Note that you must transform all non-linear constraints into a linear form (see Section 7.3).**"
   ]
  },
  {
   "cell_type": "markdown",
   "id": "280b3143-e638-4e09-84de-836da662ab16",
   "metadata": {},
   "source": [
    "**Decision Variables:**\n",
    "- $A$: the amount of money invested in fund A\n",
    "- $B$: the amount of money invested in fund B\n",
    "- $C$: the amount of money invested in fund C\n",
    "- $D$: the amount of money invested in fund E\n",
    "- $E$: the amount of money invested in fund E\n",
    "\n",
    "**Objective:**\n",
    "$$\\text{Maximize:} \\qquad 0.045A + 0.062B + 0.068C + 0.1015D + 0.2060E$$ \n",
    "\n",
    "\n",
    "**Constraints:**\n",
    "$$\\begin{aligned}\n",
    "\\text{(Average risk level)} && (A+2B+2C+3D+5E)-2.5(A+B+C+D+E) & \\le 0 \\\\\n",
    "\\text{(Minimum allocation proportion in money market fund)} && (A + B) - 0.3(A + B + C + D + E) & \\ge 0 \\\\\n",
    "\\text{(Maximum invested in aggressive growth fund)} && E & \\le 2000 \\\\\n",
    "\\text{(Total invested money threshold)} && A + B + C + D + E & \\ge 5000 \\\\\n",
    "\\text{(Total invested money threshold)} && A + B + C + D + E & \\le 10000 \\\\\n",
    "\\text{(Non-Negativity)} && A, B, C, D, E & \\ge 0 \\\\\n",
    "\\end{aligned}$$"
   ]
  },
  {
   "cell_type": "markdown",
   "id": "f9e77342-35e6-4c1b-89a8-2831b2ef52e7",
   "metadata": {},
   "source": [
    "**c)** Solve your formulation numerically using Gurobi."
   ]
  },
  {
   "cell_type": "code",
   "execution_count": 6,
   "id": "b5347ce1-9584-4047-a17f-8c6d89c178b2",
   "metadata": {
    "tags": []
   },
   "outputs": [],
   "source": [
    "# Sample Output (Only pay attention to the last three rows)\n",
    "# It's fine if your code returns a different solution with the same objective value."
   ]
  },
  {
   "cell_type": "code",
   "execution_count": 7,
   "id": "0dcdd382-412c-40cb-a3a8-978dff777a6a",
   "metadata": {},
   "outputs": [
    {
     "name": "stdout",
     "output_type": "stream",
     "text": [
      "Gurobi Optimizer version 10.0.2 build v10.0.2rc0 (mac64[arm])\n",
      "\n",
      "CPU model: Apple M2\n",
      "Thread count: 8 physical cores, 8 logical processors, using up to 8 threads\n",
      "\n",
      "Optimize a model with 5 rows, 5 columns and 21 nonzeros\n",
      "Model fingerprint: 0xe368f647\n",
      "Coefficient statistics:\n",
      "  Matrix range     [3e-01, 2e+00]\n",
      "  Objective range  [4e-02, 2e-01]\n",
      "  Bounds range     [0e+00, 0e+00]\n",
      "  RHS range        [2e+03, 1e+04]\n",
      "Presolve removed 2 rows and 0 columns\n",
      "Presolve time: 0.00s\n",
      "Presolved: 3 rows, 5 columns, 15 nonzeros\n",
      "\n",
      "Iteration    Objective       Primal Inf.    Dual Inf.      Time\n",
      "       0    2.0600000e+03   4.312500e+03   0.000000e+00      0s\n",
      "       4    9.6975000e+02   0.000000e+00   0.000000e+00      0s\n",
      "\n",
      "Solved in 4 iterations and 0.00 seconds (0.00 work units)\n",
      "Optimal objective  9.697500000e+02\n",
      "\n",
      "Optimal Solution\n",
      "Maximum monetary amount earned 969.75\n",
      "A=4500.0 B=0.0 C=0.0 D=3500.0 E=2000.0\n"
     ]
    }
   ],
   "source": [
    "# Write your code here\n",
    "from gurobipy import Model, GRB\n",
    "\n",
    "# perc_return = []\n",
    "\n",
    "mod=Model()\n",
    "A=mod.addVar()\n",
    "B=mod.addVar()\n",
    "C=mod.addVar()\n",
    "D=mod.addVar()\n",
    "E=mod.addVar()\n",
    "mod.setObjective(A*0.045 + B*0.062 + C*0.068 + D*0.1015 + E*0.2060,sense=GRB.MAXIMIZE)\n",
    "mod.addConstr((A*1 + B*2 + C*2 + D*3 + E*5)-(A+B+C+D+E)*2.5 <= 0)\n",
    "mod.addConstr((A+B) - (A+B+C+D+E)*0.3 >= 0)\n",
    "mod.addConstr(E<=2000)\n",
    "mod.addConstr(A+B+C+D+E>=5000)\n",
    "mod.addConstr(A+B+C+D+E<=10000)\n",
    "mod.optimize()\n",
    "print('\\nOptimal Solution')\n",
    "print(f'Maximum monetary amount earned',mod.objVal)\n",
    "print(f'A={A.x} B={B.x} C={C.x} D={D.x} E={E.x}')\n"
   ]
  }
 ],
 "metadata": {
  "kernelspec": {
   "display_name": "Python 3 (ipykernel)",
   "language": "python",
   "name": "python3"
  },
  "language_info": {
   "codemirror_mode": {
    "name": "ipython",
    "version": 3
   },
   "file_extension": ".py",
   "mimetype": "text/x-python",
   "name": "python",
   "nbconvert_exporter": "python",
   "pygments_lexer": "ipython3",
   "version": "3.11.4"
  }
 },
 "nbformat": 4,
 "nbformat_minor": 5
}
