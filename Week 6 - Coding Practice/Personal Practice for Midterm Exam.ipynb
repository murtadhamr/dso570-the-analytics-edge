{
 "cells": [
  {
   "cell_type": "code",
   "execution_count": 13,
   "id": "54896a9a-dc5a-43d9-845f-ca7af34a16f6",
   "metadata": {
    "tags": []
   },
   "outputs": [],
   "source": [
    "from numpy.random import default_rng\n",
    "def simulateDemand(n):\n",
    "    rng = default_rng()\n",
    "    p = 0.3\n",
    "    t = 0\n",
    "    demand = []\n",
    "    \n",
    "    for i in range(n):\n",
    "        is_promotion = rng.binomial(1, p)\n",
    "        if is_promotion == 1:\n",
    "            demand.append(rng.normal(800+100*t, 100))\n",
    "            t = 0\n",
    "        else:\n",
    "            demand.append(rng.normal(500, 100))\n",
    "            t += 1\n",
    "    return demand"
   ]
  },
  {
   "cell_type": "code",
   "execution_count": 17,
   "id": "c1a9e16f-1f98-48dc-8320-874d5a757806",
   "metadata": {
    "tags": []
   },
   "outputs": [
    {
     "data": {
      "image/png": "[encoded data removed]",
      "text/plain": [
       "<Figure size 600x200 with 1 Axes>"
      ]
     },
     "metadata": {},
     "output_type": "display_data"
    }
   ],
   "source": [
    "import pandas as pd\n",
    "import matplotlib.pyplot as plt\n",
    "pd.Series(simulateDemand(36))\\\n",
    ".plot(title='Simulated demand for 36 months',figsize=(6,2))\n",
    "plt.show()"
   ]
  },
  {
   "cell_type": "code",
   "execution_count": 31,
   "id": "d009e3ed-aacb-4875-bb68-bf10675b7abd",
   "metadata": {
    "tags": []
   },
   "outputs": [],
   "source": [
    "def simulateSupply(demand, z):\n",
    "    discarded = 0\n",
    "    lost_sales = 0\n",
    "    unit_ordered = []\n",
    "    begin_inv = z\n",
    "    \n",
    "    for month in range(len(demand)):\n",
    "        if month <= 1:\n",
    "            unit_ordered.append(min(begin_inv, demand[month]))\n",
    "            # print(begin_inv)\n",
    "        else:\n",
    "            begin_inv = min(unit_ordered[-1] + unit_ordered[-2], z)\n",
    "            discarded += (z-begin_inv)\n",
    "            if begin_inv < demand[month]:\n",
    "                lost_sales += (demand[month] - begin_inv)\n",
    "                unit_ordered.append(z)\n",
    "            else:\n",
    "                unit_ordered.append(begin_inv - demand[month])\n",
    "            # print(begin_inv)\n",
    "            \n",
    "    return lost_sales, discarded"
   ]
  },
  {
   "cell_type": "code",
   "execution_count": 28,
   "id": "9227d892-05ab-463c-84b4-e65f923a0318",
   "metadata": {
    "tags": []
   },
   "outputs": [
    {
     "name": "stdout",
     "output_type": "stream",
     "text": [
      "100\n",
      "100\n",
      "70\n",
      "90\n",
      "100\n"
     ]
    }
   ],
   "source": [
    "simulateSupply([30,40,20,100,120],100)"
   ]
  },
  {
   "cell_type": "code",
   "execution_count": 30,
   "id": "3fe2bf0a-2458-4051-aaa5-1eec38001337",
   "metadata": {
    "tags": []
   },
   "outputs": [
    {
     "name": "stdout",
     "output_type": "stream",
     "text": [
      "100\n",
      "100\n",
      "totalLost=30 totalDiscarded=40\n"
     ]
    }
   ],
   "source": [
    "totalLost,totalDiscarded=simulateSupply([30,40,20,100,120],100)\n",
    "print(f'totalLost={totalLost} totalDiscarded={totalDiscarded}')"
   ]
  },
  {
   "cell_type": "code",
   "execution_count": 44,
   "id": "86f06083-b58f-4ec7-b5c4-709cf8368154",
   "metadata": {
    "tags": []
   },
   "outputs": [
    {
     "name": "stdout",
     "output_type": "stream",
     "text": [
      "1 2\n",
      "2 3\n"
     ]
    }
   ],
   "source": [
    "locations = {'a': [1, 2], 'b':[2, 3]}\n",
    "for key, value in locations.items():\n",
    "    print(value[0], value[1])"
   ]
  },
  {
   "cell_type": "code",
   "execution_count": 60,
   "id": "758eaf76-e55c-4ce7-a482-d5946995e389",
   "metadata": {
    "tags": []
   },
   "outputs": [],
   "source": [
    "def closest_dispatch(locations, origin, destination):\n",
    "    closest_driver = ''\n",
    "    closest_distance = 999999\n",
    "    pickup_distance = 0\n",
    "    dropoff_distance = 0\n",
    "    travel_distance = 0\n",
    "    \n",
    "    for key, value in locations.items():\n",
    "        pickup_distance = abs(value[0] - origin[0]) + abs(value[1] - origin[1])\n",
    "        dropoff_distance = abs(origin[0] - destination[0]) + abs(origin[1] - destination[1])\n",
    "        if pickup_distance < closest_distance:\n",
    "            travel_distance = pickup_distance + dropoff_distance\n",
    "            closest_distance = pickup_distance\n",
    "            closest_driver = key\n",
    "            \n",
    "        # print(f'Closest driver: {closest_driver} \\tTravel distance: {closest_distance}')\n",
    "            \n",
    "            \n",
    "    return closest_driver, travel_distance"
   ]
  },
  {
   "cell_type": "code",
   "execution_count": 61,
   "id": "e4206a93-3c0e-4ef3-b73a-b6bbb4709aa2",
   "metadata": {
    "tags": []
   },
   "outputs": [
    {
     "name": "stdout",
     "output_type": "stream",
     "text": [
      "Closest driver: Alice \tTravel distance: 64\n"
     ]
    }
   ],
   "source": [
    "locations={'Alice':[10,30],'Bob':[20,5],'Charles':[-10,10]}\n",
    "closest,movement=closest_dispatch(locations,[10,13],[10,60])\n",
    "print(f'Closest driver: {closest} \\tTravel distance: {movement}')"
   ]
  },
  {
   "cell_type": "code",
   "execution_count": 70,
   "id": "bce0c478-5556-4a48-b983-e76019af0b4a",
   "metadata": {
    "tags": []
   },
   "outputs": [
    {
     "data": {
      "text/html": [
       "<div>\n",
       "<style scoped>\n",
       "    .dataframe tbody tr th:only-of-type {\n",
       "        vertical-align: middle;\n",
       "    }\n",
       "\n",
       "    .dataframe tbody tr th {\n",
       "        vertical-align: top;\n",
       "    }\n",
       "\n",
       "    .dataframe thead th {\n",
       "        text-align: right;\n",
       "    }\n",
       "</style>\n",
       "<table border=\"1\" class=\"dataframe\">\n",
       "  <thead>\n",
       "    <tr style=\"text-align: right;\">\n",
       "      <th></th>\n",
       "      <th>a</th>\n",
       "      <th>b</th>\n",
       "      <th>c</th>\n",
       "      <th>d</th>\n",
       "    </tr>\n",
       "  </thead>\n",
       "  <tbody>\n",
       "    <tr>\n",
       "      <th>0</th>\n",
       "      <td>1</td>\n",
       "      <td>2</td>\n",
       "      <td>3</td>\n",
       "      <td>4</td>\n",
       "    </tr>\n",
       "    <tr>\n",
       "      <th>1</th>\n",
       "      <td>100</td>\n",
       "      <td>200</td>\n",
       "      <td>300</td>\n",
       "      <td>400</td>\n",
       "    </tr>\n",
       "    <tr>\n",
       "      <th>2</th>\n",
       "      <td>1000</td>\n",
       "      <td>2000</td>\n",
       "      <td>3000</td>\n",
       "      <td>4000</td>\n",
       "    </tr>\n",
       "  </tbody>\n",
       "</table>\n",
       "</div>"
      ],
      "text/plain": [
       "      a     b     c     d\n",
       "0     1     2     3     4\n",
       "1   100   200   300   400\n",
       "2  1000  2000  3000  4000"
      ]
     },
     "execution_count": 70,
     "metadata": {},
     "output_type": "execute_result"
    }
   ],
   "source": [
    "mydict = [{'a': 1, 'b': 2, 'c': 3, 'd': 4},\n",
    "...           {'a': 100, 'b': 200, 'c': 300, 'd': 400},\n",
    "...           {'a': 1000, 'b': 2000, 'c': 3000, 'd': 4000 }]\n",
    "df = pd.DataFrame(mydict)\n",
    "df"
   ]
  },
  {
   "cell_type": "code",
   "execution_count": 73,
   "id": "75c782f4-4800-49fc-b7ab-3548688eafd6",
   "metadata": {
    "tags": []
   },
   "outputs": [
    {
     "data": {
      "text/plain": [
       "0       1\n",
       "1     100\n",
       "2    1000\n",
       "Name: a, dtype: int64"
      ]
     },
     "execution_count": 73,
     "metadata": {},
     "output_type": "execute_result"
    }
   ],
   "source": [
    "df.loc[:, 'a']"
   ]
  }
 ],
 "metadata": {
  "kernelspec": {
   "display_name": "Python 3 (ipykernel)",
   "language": "python",
   "name": "python3"
  },
  "language_info": {
   "codemirror_mode": {
    "name": "ipython",
    "version": 3
   },
   "file_extension": ".py",
   "mimetype": "text/x-python",
   "name": "python",
   "nbconvert_exporter": "python",
   "pygments_lexer": "ipython3",
   "version": "3.11.4"
  }
 },
 "nbformat": 4,
 "nbformat_minor": 5
}
