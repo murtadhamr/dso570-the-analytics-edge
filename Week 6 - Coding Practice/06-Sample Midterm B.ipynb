{
 "cells": [
  {
   "cell_type": "markdown",
   "metadata": {},
   "source": [
    "# Solutions to Sample Midterm B\n",
    "\n",
    "\n",
    "### Learning Objective:\n",
    "\n",
    "- Create Python code to automate a given task.\n",
    "\n",
    "### Instructions:\n",
    "\n",
    "The midterm tests your mastery of skills taught in Weeks 1-5, which culminates in creating simulation models using Python and algorithmic thinking. There are three questions, worth a total of 24 points. The exam is 80 minutes, and is open notes but closed computer. You can bring paper notes or books of any kind, but no computers, tablets, or cell phones are allowed. Before the exam is graded, do not share the questions or your solutions with anyone else, including students of other sections. When you turn in the exam, you must also hand in all scrap paper that you wrote on. Do not use a cell phone, tablet or computer in the classroom before all of the exams are handed in. **Any violation of academic integrity will result in a zero grade for the midterm for everyone involved.**\n",
    "\n",
    "As long as you fulfill all the specifications described in the problem description, it doesn't matter how you solve the problem or how efficient is your code. However, if you cannot solve a problem, you may get partial credits for submitting whatever you have, including any parts of the four steps of algorithmic thinking."
   ]
  },
  {
   "cell_type": "markdown",
   "metadata": {},
   "source": [
    "# Q1. Election Simulator (7 points)\n",
    "\n",
    "This question asks you to write code to simulate the outcome of an election based on a simple probabilistic model estimated from polls data. Assume that there are two political parties, which we refer to as the Democrats and the Republicans. There is a number of regions participating in the election, and each region has a certain number of delegates that can be awarded to one of the two parties. Within each region, the party receiving the most votes will be awarded all of the delegates from that region. Assume also that the number of votes each party receives within each region is drawn from a normal distribution with a given mean and standard deviation. \n",
    "\n",
    "For example, consider the following sample data with four regions. The first two columns denote the mean and standard deviation of the number of votes for Democrats in each region. The next two columns denote the same information for the Republicans. The final column states the number of delegates in each region. A likely outcome of the election is that the Democrats win the first two regions, with a total delegate count of 25, while the republicans win the other two regions, with a total delegate count of 23. Of course, there are other possible outcomes, and the likelihood of each outcome depends on the given means and standard deviations.\n",
    "\n",
    "| ` ` | Dem-Mean | Dem-Std | Rep-Mean | Rep-Std | Delegates |\n",
    "|--|--|--|--|--|--|\n",
    "|**Region A**| 10 | 2 | 8 | 1.5 | 15 |\n",
    "|**Region B**| 8 | 1.5 | 6 | 1 | 10 |\n",
    "|**Region C**| 6 | 1 | 8 | 2 | 13 |\n",
    "|**Region D**| 5 | 1 | 8 | 1 | 10 |\n",
    "\n",
    "Although random samples from a normal distribution will be fractional, you should NOT round the random samples in any way in your simualtion, but you should leave them as fractional numbers with many decimal places. (To interpret this, think of the means and standard deviations in the above table in terms of millions of people.) In the extremely unlikely scenario in which there is an exact tie in the number of votes to all decimal places, you can decide the winner of the region arbitrarily, and it does not matter what you decide. Moreover, ignore the fact that the normal samples can be negative. You should not do anything to alter the samples in this case.\n",
    "\n",
    "**Write a function named `election` with two input arguments:**\n",
    "\n",
    "- `df`: a DataFrame encoding a table of the above format. See the test code below for examples. You may assume that the column names are exactly as in the test code.\n",
    "- `T`: a positive integer denoting the number of simulations to run.\n",
    "\n",
    "**The function should return two lists, each containing T numbers. In the first list, each number corresponds to the number of delegates won by the Democrats in each of the T simulations. The second list is analogous and corresponds to the Republicans.** Note that the first number in each list corresponds to the first simulation, so the sum of those numbers should be equal to the total delegate count in all regions, which is 48 in the above example. The same statement holds for the second number of each list, and so on. See the sample inputs and outputs for examples.\n",
    "\n"
   ]
  },
  {
   "cell_type": "code",
   "execution_count": 1,
   "metadata": {
    "tags": []
   },
   "outputs": [],
   "source": [
    "# Final code\n",
    "import pandas as pd\n",
    "from numpy.random import default_rng\n",
    "def election(df,T):\n",
    "    rng=default_rng()\n",
    "    democrats=[]\n",
    "    republicans=[]\n",
    "    for i in range(T):\n",
    "        dem_delegates=0\n",
    "        rep_delegates=0\n",
    "        for region in df.index:\n",
    "            dem_votes=rng.normal(df.loc[region,'Dem-Mean'],df.loc[region,'Dem-Std'])\n",
    "            rep_votes=rng.normal(df.loc[region,'Rep-Mean'],df.loc[region,'Rep-Std'])\n",
    "            delegates=df.loc[region,'Delegates']\n",
    "            if dem_votes>rep_votes:\n",
    "                dem_delegates+=delegates\n",
    "            else:\n",
    "                rep_delegates+=delegates\n",
    "        democrats.append(dem_delegates)\n",
    "        republicans.append(rep_delegates)\n",
    "    return democrats,republicans"
   ]
  },
  {
   "cell_type": "code",
   "execution_count": 2,
   "metadata": {
    "tags": []
   },
   "outputs": [
    {
     "data": {
      "text/html": [
       "<div>\n",
       "<style scoped>\n",
       "    .dataframe tbody tr th:only-of-type {\n",
       "        vertical-align: middle;\n",
       "    }\n",
       "\n",
       "    .dataframe tbody tr th {\n",
       "        vertical-align: top;\n",
       "    }\n",
       "\n",
       "    .dataframe thead th {\n",
       "        text-align: right;\n",
       "    }\n",
       "</style>\n",
       "<table border=\"1\" class=\"dataframe\">\n",
       "  <thead>\n",
       "    <tr style=\"text-align: right;\">\n",
       "      <th></th>\n",
       "      <th>Dem-Mean</th>\n",
       "      <th>Dem-Std</th>\n",
       "      <th>Rep-Mean</th>\n",
       "      <th>Rep-Std</th>\n",
       "      <th>Delegates</th>\n",
       "    </tr>\n",
       "  </thead>\n",
       "  <tbody>\n",
       "    <tr>\n",
       "      <th>Region A</th>\n",
       "      <td>10</td>\n",
       "      <td>2.0</td>\n",
       "      <td>8</td>\n",
       "      <td>1.5</td>\n",
       "      <td>15</td>\n",
       "    </tr>\n",
       "    <tr>\n",
       "      <th>Region B</th>\n",
       "      <td>8</td>\n",
       "      <td>1.5</td>\n",
       "      <td>6</td>\n",
       "      <td>1.0</td>\n",
       "      <td>10</td>\n",
       "    </tr>\n",
       "    <tr>\n",
       "      <th>Region C</th>\n",
       "      <td>6</td>\n",
       "      <td>1.0</td>\n",
       "      <td>8</td>\n",
       "      <td>2.0</td>\n",
       "      <td>13</td>\n",
       "    </tr>\n",
       "    <tr>\n",
       "      <th>Region D</th>\n",
       "      <td>5</td>\n",
       "      <td>1.0</td>\n",
       "      <td>8</td>\n",
       "      <td>1.0</td>\n",
       "      <td>10</td>\n",
       "    </tr>\n",
       "  </tbody>\n",
       "</table>\n",
       "</div>"
      ],
      "text/plain": [
       "          Dem-Mean  Dem-Std  Rep-Mean  Rep-Std  Delegates\n",
       "Region A        10      2.0         8      1.5         15\n",
       "Region B         8      1.5         6      1.0         10\n",
       "Region C         6      1.0         8      2.0         13\n",
       "Region D         5      1.0         8      1.0         10"
      ]
     },
     "execution_count": 2,
     "metadata": {},
     "output_type": "execute_result"
    }
   ],
   "source": [
    "# Example of an input DataFrame\n",
    "import pandas as pd\n",
    "df=pd.DataFrame([[10,2,8,1.5,15],\\\n",
    "                 [8, 1.5,6,1,10],\\\n",
    "                 [6, 1,  8,2,13],\\\n",
    "                 [5, 1,  8,1,10]],\\\n",
    "                index=['Region A','Region B','Region C','Region D'],\\\n",
    "                columns=['Dem-Mean','Dem-Std','Rep-Mean','Rep-Std','Delegates'])\n",
    "df"
   ]
  },
  {
   "cell_type": "code",
   "execution_count": 3,
   "metadata": {
    "tags": []
   },
   "outputs": [
    {
     "name": "stdout",
     "output_type": "stream",
     "text": [
      "Democrat   # of Delegates: [25, 38, 25, 15, 25, 25, 10, 15, 25, 25]\n",
      "Republican # of Delegates: [23, 10, 23, 33, 23, 23, 38, 33, 23, 23]\n"
     ]
    }
   ],
   "source": [
    "# Sample run 1\n",
    "dem,rep=election(df,10)\n",
    "print('Democrat   # of Delegates:',dem)\n",
    "print('Republican # of Delegates:',rep)"
   ]
  },
  {
   "cell_type": "code",
   "execution_count": 4,
   "metadata": {},
   "outputs": [
    {
     "name": "stdout",
     "output_type": "stream",
     "text": [
      "Democrat   # of Delegates: [25, 25, 25, 25, 25, 25, 25, 25, 25, 25]\n",
      "Republican # of Delegates: [23, 23, 23, 23, 23, 23, 23, 23, 23, 23]\n"
     ]
    }
   ],
   "source": [
    "# Sample input 2 (All standard deviatsion changed to 0.01 to reduce randomness)\n",
    "df2=pd.DataFrame([[10,0.01,8,0.01,15],\\\n",
    "                 [8, 0.01,6,0.01,10],\\\n",
    "                 [6, 0.01,8,0.01,13],\\\n",
    "                 [5, 0.01,8,0.01,10]],\\\n",
    "                index=['Region A','Region B','Region C','Region D'],\\\n",
    "                columns=['Dem-Mean','Dem-Std','Rep-Mean','Rep-Std','Delegates'])\n",
    "dem,rep=election(df2,10)\n",
    "print('Democrat   # of Delegates:',dem)\n",
    "print('Republican # of Delegates:',rep)"
   ]
  },
  {
   "cell_type": "code",
   "execution_count": 5,
   "metadata": {
    "tags": []
   },
   "outputs": [
    {
     "name": "stdout",
     "output_type": "stream",
     "text": [
      "Chance of a Democratic majority: 0.3\n"
     ]
    }
   ],
   "source": [
    "# Sample input 3\n",
    "data=pd.DataFrame([[20,4,24,6,15],[12,3,10,2,9],[10,2,13,2,8]],\\\n",
    "                  columns=['Dem-Mean','Dem-Std','Rep-Mean','Rep-Std','Delegates'])\n",
    "dem,rep=election(data,1000)\n",
    "import pandas as pd\n",
    "dem,rep=pd.Series(dem),pd.Series(rep)\n",
    "print('Chance of a Democratic majority:',round((dem>rep).mean(),1))"
   ]
  },
  {
   "cell_type": "markdown",
   "metadata": {},
   "source": [
    "## Alternative solutions from students"
   ]
  },
  {
   "cell_type": "code",
   "execution_count": 6,
   "metadata": {},
   "outputs": [],
   "source": [
    "from numpy.random import default_rng\n",
    "import pandas as pd\n",
    "\n",
    "def election(df,T):\n",
    "    rng = default_rng()\n",
    "    dem=[]\n",
    "    rep=[]\n",
    "    a=0\n",
    "    b=0\n",
    "    for i in range(T):\n",
    "        for j in range(len(df.index)):\n",
    "            if rng.normal(df.iloc[j,0],df.iloc[j,1])> rng.normal(df.iloc[j,2],df.iloc[j,3]):\n",
    "                a+=df.iloc[j,4]\n",
    "            else:\n",
    "                b+=df.iloc[j,4]\n",
    "        dem.append(a)\n",
    "        rep.append(b)\n",
    "        a=0\n",
    "        b=0\n",
    "    return (dem,rep)"
   ]
  },
  {
   "cell_type": "code",
   "execution_count": 7,
   "metadata": {},
   "outputs": [],
   "source": [
    "from numpy.random import default_rng\n",
    "import pandas as pd\n",
    "rng = default_rng()\n",
    "\n",
    "def election(df,T):\n",
    "    dem = [0 for i in range(T)]\n",
    "    rep = [0 for i in range(T)]   \n",
    "    for i in range(T):\n",
    "        for reg in df.index:\n",
    "            if rng.normal(df.loc[reg,'Dem-Mean'],df.loc[reg,'Dem-Std']) >= rng.normal(df.loc[reg,'Rep-Mean'],df.loc[reg,'Rep-Std']):\n",
    "                dem[i] += df.loc[reg,'Delegates']\n",
    "            else:\n",
    "                rep[i] += df.loc[reg,'Delegates']\n",
    "    return dem,rep"
   ]
  },
  {
   "cell_type": "markdown",
   "metadata": {},
   "source": [
    "# Q2. Waiting Time Simulator (8 points)\n",
    "\n",
    "This question asks you to create a tool to estimate the average time customers wait outside a store before being allowed to enter. The store has set a limit on the maximum number of customers that can be inside the store at any given time. Once this limit is reached, customers must queue outside the store until some customers exit, at which point the store will admit as many customers as possible while observing the maximum occupancy limit. You are to simulate the queueing dynamics and use a certain mathematical formula called Little's Law to estimate the average waiting time. \n",
    "\n",
    "**Write a function called `waiting_time` with three input arguments:**\n",
    "\n",
    "- `arrivalsList`: a list of non-negative integers corresponding to the number of new customers lining up to enter the store in each minute. For simplicity, assume that all of the arriving customers show up exactly at the beginning of the minute. \n",
    "- `n`: the maximum occupancy limit. This is the maximum number of people allowed inside the store at any given time.\n",
    "- `k`: the number of minutes each customer stays inside the store after being admitted. For simplicity, assume that every customer stays the same amount of time. If k=2, then every customer who is admitted is assumed to be inside the store for exactly 2 minutes before exiting.\n",
    "\n",
    "**The function should return the average waiting time customers spend outside the store before being admitted, rounded to two decimal places.** For example, suppose that `arrivalsList=[5,9,14,5,3,0,9,20,30,0,0]`, $n=15$ and $k=2$, the queuing dynamics can be described by the following table. Note that the number of people who exit is exactly the same as the number of people admitted $k$ minutes ago. Moreover, the occupancy changes from minute to minute based on the difference between the number of admits and the number of exits. On the other hand, the queue changes from minute to minute based on the difference between the number of arrivals and the number of admits. \n",
    "\n",
    "|Minute|Arrivals|Exit|Admitted|Occupancy|Queue|\n",
    "|--|--|--|--|--|--|\n",
    "|0|5|0|5|5|0|\n",
    "|1|9|0|9|14|0|\n",
    "|2|14|5|6|15|8|\n",
    "|3|5|9|9|15|4|\n",
    "|4|3|6|6|15|1|\n",
    "|5|0|9|1|7|0|\n",
    "|6|9|6|9|10|0|\n",
    "|7|20|1|6|15|14|\n",
    "|8|30|9|9|15|35|\n",
    "|9|0|6|6|15|29|\n",
    "|10|0|9|9|15|20|\n",
    "|**Total**|**95**|` `|` `|` `|**111**|\n",
    "\n",
    "$$\\text{Av. Wait Time} = \\frac{\\text{Total Queue}}{\\text{Total Arrivals}} \\times \\text{1 min} = \\frac{111}{95}\\times \\text{1 min} \\approx \\text{1.17 minutes}$$\n",
    "\n",
    "See the sample inputs and outputs for more examples."
   ]
  },
  {
   "cell_type": "code",
   "execution_count": 8,
   "metadata": {},
   "outputs": [],
   "source": [
    "# Final Solution\n",
    "def waiting_time(arrivalsList,n,k):\n",
    "    occupancy=0\n",
    "    admittedList=[]\n",
    "    queue=0\n",
    "    totalQueue=0\n",
    "    #print('Minute\\tArriv.\\tExit\\tAdmit.\\tOcc.\\tQueue')\n",
    "    for minute in range(len(arrivalsList)):\n",
    "        arrivals=arrivalsList[minute]\n",
    "        if minute<k:\n",
    "            exit=0\n",
    "        else:\n",
    "            exit=admittedList[minute-k]\n",
    "        capacity=n-occupancy+exit\n",
    "        admitted=min(capacity,arrivals+queue)\n",
    "        admittedList.append(admitted)\n",
    "        occupancy+=admitted-exit\n",
    "        queue+=arrivals-admitted\n",
    "        totalQueue+=queue\n",
    "        #print(f'{minute}\\t{arrivals}\\t{exit}\\t{admitted}\\t{occupancy}\\t{queue}')\n",
    "    #print(f'\\t{sum(arrivalsList)}\\t\\t\\t\\t{totalQueue}')\n",
    "    return round(totalQueue/sum(arrivalsList),2)"
   ]
  },
  {
   "cell_type": "code",
   "execution_count": 9,
   "metadata": {},
   "outputs": [
    {
     "data": {
      "text/plain": [
       "1.17"
      ]
     },
     "execution_count": 9,
     "metadata": {},
     "output_type": "execute_result"
    }
   ],
   "source": [
    "# Sample run 1\n",
    "arrivalsList=[5,9,14,5,3,0,9,20,30,0,0]\n",
    "waiting_time(arrivalsList,15,2)"
   ]
  },
  {
   "cell_type": "code",
   "execution_count": 10,
   "metadata": {},
   "outputs": [
    {
     "name": "stdout",
     "output_type": "stream",
     "text": [
      "Occupancy limit = 10\tWait time = 3.23 min.\n"
     ]
    }
   ],
   "source": [
    "# Sample run 2\n",
    "arrivalsList=[5,9,14,5,3,0,9,20,30,0,0]\n",
    "print(f'Occupancy limit = 10\\tWait time = {waiting_time(arrivalsList,10,3)} min.')"
   ]
  },
  {
   "cell_type": "code",
   "execution_count": 11,
   "metadata": {},
   "outputs": [
    {
     "name": "stdout",
     "output_type": "stream",
     "text": [
      "Occupancy limit = 50\tWait time = 0.09 min.\n"
     ]
    }
   ],
   "source": [
    "# Sample run 3\n",
    "arrivalsList=[5,9,14,5,3,0,9,20,30,0,0]\n",
    "print(f'Occupancy limit = 50\\tWait time = {waiting_time(arrivalsList,50,3)} min.')"
   ]
  },
  {
   "cell_type": "markdown",
   "metadata": {},
   "source": [
    "# Alternative solutions from students"
   ]
  },
  {
   "cell_type": "code",
   "execution_count": 12,
   "metadata": {},
   "outputs": [],
   "source": [
    "def waiting_time(arrivalsList, n, k):\n",
    "    queue = [0]\n",
    "    admitted = [0]\n",
    "    for i in range(len(arrivalsList)):\n",
    "        admitted.append(min(n - sum(admitted[-min(i+1,k-1):]),arrivalsList[i]+queue[-1]))\n",
    "        queue.append(queue[-1]+arrivalsList[i]-admitted[-1])\n",
    "    return round(sum(queue)/sum(arrivalsList), 2)"
   ]
  },
  {
   "cell_type": "code",
   "execution_count": 13,
   "metadata": {},
   "outputs": [],
   "source": [
    "def waiting_time(arrivals, n, k):\n",
    "    capacity = {}\n",
    "    admit = {}\n",
    "    demand = {}\n",
    "    for _ in range(len(arrivals)):\n",
    "        leave = admit.get(_ - k, 0)\n",
    "        capacity[_] = capacity.get(_ - 1, n) + leave\n",
    "        demand[_] = demand.get(_ - 1, 0) + arrivals[_]\n",
    "        admit[_] = min(capacity[_], demand[_])\n",
    "        capacity[_] = capacity[_] - admit[_]\n",
    "        demand[_] = demand[_] - admit[_]\n",
    "    return round(sum(demand.values()) / sum(arrivals), 2)"
   ]
  },
  {
   "cell_type": "code",
   "execution_count": 14,
   "metadata": {},
   "outputs": [],
   "source": [
    "def waiting_time(arrivalsList,n,k):\n",
    "    capacity=n\n",
    "    queue=0\n",
    "    i=1\n",
    "    admittedList=[0]\n",
    "    totalQueue=0\n",
    "    totalArrivals=0\n",
    "    for arrivals in arrivalsList:\n",
    "        if i>=k:\n",
    "            exit=admittedList[i-k]\n",
    "        else:\n",
    "            exit=0\n",
    "        capacity+=exit-admittedList[-1]\n",
    "        demand=queue+arrivals\n",
    "        admitted=min(demand,capacity)\n",
    "        admittedList.append(admitted)\n",
    "        queue=demand-admitted\n",
    "        totalQueue+=queue\n",
    "        totalArrivals+=arrivals\n",
    "        i+=1\n",
    "    return round(totalQueue/totalArrivals,2)"
   ]
  },
  {
   "cell_type": "markdown",
   "metadata": {},
   "source": [
    "# Q3. Job Decision Simulator (9 points)\n",
    "\n",
    "This question asks you to write Python code to simulate the responses of a given student to a series of job offers based on the timing of the offers and the student's personal preferences. Some job offers are acceptable to her and others are unacceptable, and among the acceptable offers, she may like some better than others. Every job offer has a deadline, and if she does not accept an offer by the deadline, then the offer expires. The student is very risk averse, meaning that she never lets an acceptable job offer expire without having another offer in hand that she likes at least as much. More precisely, assume that the student always responds to job offers based on the following rules:\n",
    "\n",
    "- She turns down unacceptable offers immediately.\n",
    "- She holds on to the first acceptable job offer that she receives. (Here, \"holding on\" to an offer does not necessarily mean that she will eventually accept the offer, but it means that she does not turn it down unless she gets another offer at least as good.) \n",
    "- At any time, she would hold on to at most one offer, which is her favorite acceptable offer received so far. If she receives a new acceptable offer while already holding on to an offer, she would compare the two and hold on to the offer she likes better, while turning down the other. If she likes the new offer equally as much as her favorite offer received so far, then she holds on to the one with the later deadline to respond, while turning down the one with the earlier deadline. If both of these favorite offers have the same deadline to respond, then she holds on to the one received earlier, while turning down the one received later.\n",
    "- For the favorite offer that she is holding on to, if by the end of the last day to respond to this offer, the offer is still her favorite (i.e. she has not turned it down for something else), then she will accept this offer, at which point she is required to turn down all future offers since her acceptance of an offer cannot be reneged.\n",
    "\n",
    "\n",
    "**Write a function called `job_decision` with two input arguments:**\n",
    "\n",
    "- `offers`: a list in which each item corresponds to a job offer, and the order of the items corresponds to the order by which she receives the offers. Each job offer is represented by a list of three objects, `[offer_date,job_name,days_to_respond]`. The first object, `offer_date`, is an integer representing the day she receives the offer. The second object, `job_name`, is a string which serves as an unique identifier for the job. The third object, `days_to_respond`, is a positive integer indicating how many days she has to respond to the offer. For simplicity, assume that every offer is received on the morning of a day, and the deadline is always in the evening. example, if `offer_date=5` and `days_to_respond=3`, then she receives the offer on the morning of Day 5, and she must respond to the offer by the evening of Day 8 (because 5+3=8). You may assume that the offers are sorted so that those with earlier offer dates appear earlier in the list.\n",
    "- `utility`: a dictionary in which the key is the unique identifier of a job (i.e. the same as `job_name` above), and the value is how much she likes the offer, with higher values corresponding to jobs she likes better. If two jobs have the same value, then she likes the two jobs equally. All of the entries in this dictionary are jobs she find acceptable, and if a job is not in the dictionary, then it means she does not find that job acceptable.\n",
    "\n",
    "**The function should return a string denoting the unique identifier (i.e. `job_name`) of the offer she accepts.** If none of the offers are acceptable to her, then the function should return the empty string `''`. See the sample inputs and outputs below for examples."
   ]
  },
  {
   "cell_type": "code",
   "execution_count": 15,
   "metadata": {},
   "outputs": [],
   "source": [
    "# Final code\n",
    "def job_decision(offers,utility):\n",
    "    favorite_job=''\n",
    "    for offer in offers:\n",
    "        #print('New offer:',offer)\n",
    "        offer_date,job_name,days_to_respond=offer\n",
    "        deadline=offer_date+days_to_respond\n",
    "        if job_name not in utility:\n",
    "            #print('\\tTurn down because not acceptable')\n",
    "            continue\n",
    "        if favorite_job=='':\n",
    "            favorite_job=job_name\n",
    "            key_deadline=deadline\n",
    "            #print('\\tReceived an acceptable offer')\n",
    "        else:\n",
    "            if offer_date>key_deadline:\n",
    "                #print('\\tOffer is too late. Already off the job market')\n",
    "                break\n",
    "            if utility[job_name]>utility[favorite_job] or \\\n",
    "            (utility[job_name]==utility[favorite_job] and deadline>key_deadline):\n",
    "                favorite_job=job_name\n",
    "                key_deadline=deadline\n",
    "                #print('\\tUpdated to favorite job')\n",
    "    return favorite_job"
   ]
  },
  {
   "cell_type": "code",
   "execution_count": 16,
   "metadata": {},
   "outputs": [
    {
     "name": "stdout",
     "output_type": "stream",
     "text": [
      "The student chose Google.\n"
     ]
    }
   ],
   "source": [
    "# Sample input 1\n",
    "# She first holds on to the Intel offer, then Amazon (better than Intel), then Google (later deadline than Amazon).\n",
    "offers=[[5,'Intel',3],[8,'Amazon',7],[12,'Disney',3],[15,'Google',2],[15,'Facebook',2]]\n",
    "utility={'Intel':5,'Amazon':8,'Google':8,'Facebook':8}\n",
    "print(f'The student chose {job_decision(offers,utility)}.')"
   ]
  },
  {
   "cell_type": "code",
   "execution_count": 17,
   "metadata": {},
   "outputs": [
    {
     "name": "stdout",
     "output_type": "stream",
     "text": [
      "The student chose Intel.\n"
     ]
    }
   ],
   "source": [
    "# Sample input 2\n",
    "# She first holds on to the Intel offer, but nothing as good appears by Day 8, so she accepts Intel.\n",
    "offers=[[5,'Intel',3],[9,'Amazon',7],[12,'Disney',3],[15,'Google',2],[15,'Facebook',2]]\n",
    "utility={'Intel':5,'Amazon':9.5,'Google':10,'Facebook':10}\n",
    "print(f'The student chose {job_decision(offers,utility)}.')"
   ]
  },
  {
   "cell_type": "code",
   "execution_count": 18,
   "metadata": {},
   "outputs": [
    {
     "name": "stdout",
     "output_type": "stream",
     "text": [
      "The student chose Facebook.\n"
     ]
    }
   ],
   "source": [
    "# Sample input 3\n",
    "# She first holds on to Amazon, then to Google, then to Facebook (each has later deadline than the previous.)\n",
    "offers=[[5,'Intel',3],[8,'Amazon',7],[12,'Disney',3],[15,'Google',1],[15,'Facebook',2]]\n",
    "utility2={'Amazon':8,'Google':8,'Facebook':8}\n",
    "print(f'The student chose {job_decision(offers,utility2)}.')"
   ]
  },
  {
   "cell_type": "code",
   "execution_count": 19,
   "metadata": {},
   "outputs": [
    {
     "name": "stdout",
     "output_type": "stream",
     "text": [
      "The student chose Amazon.\n"
     ]
    }
   ],
   "source": [
    "# Sample input 4\n",
    "# She first holds on to Amazon, and by Day 15, there's no offer that is as good with later deadline.\n",
    "offers=[[5,'Intel',3],[8,'Amazon',7],[12,'Disney',3],[13,'Google',2],[16,'Facebook',2]]\n",
    "utility2={'Amazon':8,'Google':8,'Facebook':8}\n",
    "print(f'The student chose {job_decision(offers,utility2)}.')"
   ]
  },
  {
   "cell_type": "code",
   "execution_count": 20,
   "metadata": {},
   "outputs": [
    {
     "data": {
      "text/plain": [
       "''"
      ]
     },
     "execution_count": 20,
     "metadata": {},
     "output_type": "execute_result"
    }
   ],
   "source": [
    "# Sample input 5\n",
    "# None of the offers are acceptable to her\n",
    "offers3=[[8,'Amazon',7],[12,'Disney',3],[13,'Google',2],[17,'Facebook',2]]\n",
    "utility3={'Apple':100, 'Intel': 80}\n",
    "job_decision(offers3,utility3)"
   ]
  },
  {
   "cell_type": "markdown",
   "metadata": {},
   "source": [
    "## Alternative solutions from students"
   ]
  },
  {
   "cell_type": "code",
   "execution_count": 21,
   "metadata": {},
   "outputs": [],
   "source": [
    "def job_decision(offers,utility):\n",
    "    ddl = 0\n",
    "    util = 0\n",
    "    job_name = ''\n",
    "    for offer in offers:\n",
    "        if offer[1] in utility.keys():\n",
    "            if offer[0] > ddl and ddl != 0:\n",
    "                    break\n",
    "            if utility[offer[1]] > util:\n",
    "                util = utility[offer[1]]\n",
    "                ddl = offer[0]+offer[2]\n",
    "                job_name = offer[1]\n",
    "            elif utility[offer[1]] == util:\n",
    "                if offer[0]+offer[2] > ddl:\n",
    "                    ddl = offer[0]+offer[2]\n",
    "                    job_name = offer[1]\n",
    "    return job_name"
   ]
  },
  {
   "cell_type": "code",
   "execution_count": 22,
   "metadata": {},
   "outputs": [],
   "source": [
    "def job_decision(offers, utility):\n",
    "    best_offer = [0,'',100000]\n",
    "    best_util = 0\n",
    "    for offer in offers:\n",
    "        if offer[0] > best_offer[0] + best_offer[2]:\n",
    "            return best_offer[1]\n",
    "        best_expire = best_offer[0] + best_offer[2]\n",
    "        util = utility.get(offer[1], -1)\n",
    "        this_expire = offer[0] + offer[2]\n",
    "        if (util > best_util) or (util == best_util and this_expire > best_expire):\n",
    "            best_offer = offer\n",
    "            best_util = util\n",
    "    return best_offer[1]"
   ]
  },
  {
   "cell_type": "code",
   "execution_count": 23,
   "metadata": {
    "tags": []
   },
   "outputs": [],
   "source": [
    "def job_decision(offers, utility):\n",
    "    consider = []\n",
    "    for offer in offers:\n",
    "        if offer[1] in utility.keys():\n",
    "            consider.append(offer)\n",
    "    if len(consider) == 0:\n",
    "        return ''\n",
    "    else:\n",
    "        for i in range(len(consider)-1):\n",
    "            deadline_0 = consider[0][0] + consider[0][2]\n",
    "            if consider[1][0] > deadline_0:\n",
    "                return consider[0][1]\n",
    "                break\n",
    "            else:\n",
    "                if utility[consider[1][1]] > utility[consider[0][1]]:\n",
    "                    consider.pop(0)\n",
    "                elif utility[consider[1][1]] == utility[consider[0][1]]:\n",
    "                    if consider[1][0] + consider[1][2] > deadline_0:\n",
    "                        consider.pop(0)\n",
    "                    elif consider[1][0] + consider[1][2] == deadline_0:\n",
    "                        consider.pop(1)\n",
    "                else:\n",
    "                    consider.pop(1)\n",
    "            if len(consider) == 1:\n",
    "                return consider[0][1]\n",
    "                break"
   ]
  }
 ],
 "metadata": {
  "kernelspec": {
   "display_name": "Python 3 (ipykernel)",
   "language": "python",
   "name": "python3"
  },
  "language_info": {
   "codemirror_mode": {
    "name": "ipython",
    "version": 3
   },
   "file_extension": ".py",
   "mimetype": "text/x-python",
   "name": "python",
   "nbconvert_exporter": "python",
   "pygments_lexer": "ipython3",
   "version": "3.11.4"
  }
 },
 "nbformat": 4,
 "nbformat_minor": 4
}
