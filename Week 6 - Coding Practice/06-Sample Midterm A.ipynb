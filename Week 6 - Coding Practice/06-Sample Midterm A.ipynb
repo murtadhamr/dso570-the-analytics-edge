{
 "cells": [
  {
   "cell_type": "markdown",
   "metadata": {},
   "source": [
    "# Solutions to Sample Midterm A\n",
    "\n",
    "\n",
    "### Learning Objective:\n",
    "\n",
    "- Create Python code to automate a given task.\n",
    "\n",
    "### Instructions:\n",
    "\n",
    "The midterm tests your mastery of skills taught in Weeks 1-5, which culminates in creating simulation models using Python and algorithmic thinking. There are three questions, worth a total of 24 points. The exam is 80 minutes, and is open notes but closed computer. You can bring paper notes or books of any kind, but no computers, tablets, or cell phones are allowed. Before the exam is graded, do not share the questions or your solutions with anyone else, including students of other sections. When you turn in the exam, you must also hand in all scrap paper that you wrote on. Do not use a cell phone, tablet or computer in the classroom before all of the exams are handed in. **Any violation of academic integrity will result in a zero grade for the midterm for everyone involved.**\n",
    "\n",
    "As long as you fulfill all the specifications described in the problem description, it doesn't matter how you solve the problem or how efficient is your code. However, if you cannot solve a problem, you may get partial credits for submitting whatever you have, including any parts of the four steps of algorithmic thinking."
   ]
  },
  {
   "cell_type": "markdown",
   "metadata": {},
   "source": [
    "***Note: All three questions are motivated by the issue of procuring toilet paper, which was a challenging problem in many parts of the world at the beginning of COVID-19.***\n",
    "\n",
    "\n",
    "# Q1. Estimating Household Demand for Toilet Paper (7 Points)\n",
    "\n",
    "Suppose your household has $k$ persons. When a person is healthy, the amount of toilet paper used by the person in a given day is distributed uniformly between 5 and 10 sheets, independent of other persons and independent of other days. (Note that it is possible that a person uses a fractional number of sheets.) However, when a person is sick, the parameters of the uniform distribution are 20 and 40 sheets respectively. Assume for simplicity that on any given day, a person is sick with probability $p$ and healthy with probability $1-p$, and health is independent across days and across persons. \n",
    "\n",
    "**Write a function \"demand_estimate\" with the following input arguments:**\n",
    "\n",
    "- **days**: the number of days to simulate demand. You can assume that this is a positive integer. \n",
    "- **k** (default value 1): the number of persons in your household. You can assume that this is a positive integer.\n",
    "- **p** (default value .02): the probability of being sick on a given day. You can assume that this is a number between 0 and 1.\n",
    "\n",
    "**Your function should return one number representing one random sample of the total amount of toilet paper used by your household during the given period of days.** See the sample outputs below for illustrations."
   ]
  },
  {
   "cell_type": "code",
   "execution_count": 1,
   "metadata": {
    "tags": []
   },
   "outputs": [],
   "source": [
    "# Final Solution\n",
    "from numpy.random import default_rng\n",
    "def demand_estimate(days,k=1,p=.02):\n",
    "    rng=default_rng()\n",
    "    total=0\n",
    "    for i in range(days):\n",
    "        sick=rng.binomial(k,p)\n",
    "        for j in range(sick):\n",
    "            total+=rng.uniform(20,40)\n",
    "        for j in range(k-sick):\n",
    "            total+=rng.uniform(5,10)\n",
    "    return total"
   ]
  },
  {
   "cell_type": "code",
   "execution_count": 2,
   "metadata": {},
   "outputs": [
    {
     "data": {
      "text/plain": [
       "48.609976093943594"
      ]
     },
     "execution_count": 2,
     "metadata": {},
     "output_type": "execute_result"
    }
   ],
   "source": [
    "# Test code 1\n",
    "demand_estimate(7)"
   ]
  },
  {
   "cell_type": "code",
   "execution_count": 15,
   "metadata": {
    "tags": []
   },
   "outputs": [
    {
     "data": {
      "image/png": "[encoded data removed]",
      "text/plain": [
       "<Figure size 600x200 with 1 Axes>"
      ]
     },
     "metadata": {},
     "output_type": "display_data"
    },
    {
     "name": "stdout",
     "output_type": "stream",
     "text": [
      "Mean: 114.81 \tStd: 16.08\n"
     ]
    }
   ],
   "source": [
    "# Test code 2\n",
    "import pandas as pd\n",
    "import matplotlib.pyplot as plt\n",
    "estimates=pd.Series([demand_estimate(7, 2, 0.03) for i in range(10000)])\n",
    "estimates.plot(kind='hist',title='Weekly demand from 10000 simulations',bins=100,figsize=(6,2))\n",
    "plt.show()\n",
    "print(f'Mean: {estimates.mean():.2f} \\tStd: {estimates.std():.2f}')"
   ]
  },
  {
   "cell_type": "markdown",
   "metadata": {},
   "source": [
    "# Q2. Simulating the Availability of Toilet Paper (8 Points)\n",
    "\n",
    "Suppose a certain retail store receives $s$ packages of toilet paper from the store's sole supplier every Monday morning before the store opens. Packages of toilet paper are sold on a first-come-first-serve basis at a fixed price, and the store opens for business every day. This question asks you to estimate the availability of toilet paper given a forecast of daily demand.\n",
    "\n",
    "**Write a function called \"supply_simulation\" with the following input arguments:**\n",
    "\n",
    "- **demand**: a list specifying the number of packages of toilet paper that would be sold each day if the store had infinite supply. You may assume that every number in the list is non-negative, and that the list represents a sequence of consecutive days in which the day at position 0 is a Monday.\n",
    "- **s**: a positive integer representing the number of packages of toilet paper the store receives every Monday before the store opens. This supply is immediately made available to shoppers when the store opens. \n",
    "\n",
    "You may assume that before Day 0, the store has zero inventory carried over from the past. In general, unsold packages can be carried over to the future with no limits on storage capacity. If the store has insufficient inventory to serve all demand in a day, the unserved customers buy from somewhere else.\n",
    "\n",
    "**Your function should return two numbers:**\n",
    "\n",
    "- **served_proportion**: The proportion of demand that is served. This is the total number of packages sold divided by the total demand during the given period.\n",
    "- **good_days_proportion**: The proportion of days in which all demand is served. Define a day to be \"good\" if all demand for that day is served. The desired number is the number of good days divided by the total number of days in the given period.\n",
    "\n",
    "**Hint**: You can determine if a day is a Monday by checking the remainder of the position when divided by 7. Since position 0 is a Monday, then position `t` is a Monday if and only if the remainder of `t` when divided by 7 is 0. In other words, position `t` corresponds to a Monday if and only if `t%7==0` evaluates to True.\n",
    "\n",
    "See the sample outputs below for illustrations."
   ]
  },
  {
   "cell_type": "code",
   "execution_count": 4,
   "metadata": {
    "tags": []
   },
   "outputs": [],
   "source": [
    "# Final Solution\n",
    "def supply_simulation(demand,s):\n",
    "    inventory=0\n",
    "    total_served=0\n",
    "    good_days=0\n",
    "    num_days=len(demand)\n",
    "    for day in range(num_days):\n",
    "        if day%7==0:\n",
    "            inventory+=s\n",
    "        served=min(inventory,demand[day])\n",
    "        if served==demand[day]:\n",
    "            good_days+=1\n",
    "        total_served+=served\n",
    "        inventory-=served\n",
    "    served_proportion=total_served/sum(demand)\n",
    "    good_days_proportion=good_days/num_days\n",
    "    return served_proportion,good_days_proportion"
   ]
  },
  {
   "cell_type": "code",
   "execution_count": 5,
   "metadata": {
    "tags": []
   },
   "outputs": [
    {
     "name": "stdout",
     "output_type": "stream",
     "text": [
      "Proportion of total demand that is served:  0.5614035087719298\n",
      "Proportion of days in which all demand is served:  0.5\n"
     ]
    }
   ],
   "source": [
    "# Test code 1\n",
    "s,g=supply_simulation([20,35,60,20,10,30,50,30,20,10],100)\n",
    "print('Proportion of total demand that is served: ',s)\n",
    "print('Proportion of days in which all demand is served: ',g)"
   ]
  },
  {
   "cell_type": "code",
   "execution_count": 6,
   "metadata": {
    "tags": []
   },
   "outputs": [
    {
     "data": {
      "text/plain": [
       "(1.0, 1.0)"
      ]
     },
     "execution_count": 6,
     "metadata": {},
     "output_type": "execute_result"
    }
   ],
   "source": [
    "# Test code 2\n",
    "demand=([10]*7)+([20]*3)\n",
    "supply_simulation(demand,70)"
   ]
  },
  {
   "cell_type": "code",
   "execution_count": 7,
   "metadata": {
    "tags": []
   },
   "outputs": [
    {
     "data": {
      "text/plain": [
       "(0.65, 0.6)"
      ]
     },
     "execution_count": 7,
     "metadata": {},
     "output_type": "execute_result"
    }
   ],
   "source": [
    "# Test code 3\n",
    "demand=([20]*10)\n",
    "supply_simulation(demand,70)"
   ]
  },
  {
   "cell_type": "markdown",
   "metadata": {},
   "source": [
    "# Q3. Distance Travelled to Buy Toilet Paper (9 Points)\n",
    "\n",
    "Suppose that you are on a quest to buy toilet paper for your household. There is a list of stores that you plan to visit in a given order, and you will come home as soon as you find a store that has toilet paper in stock. The question asks you to build a simulation model of the total distance you travel on your quest.\n",
    "\n",
    "**Write a function called \"travel_distance\" with the following input arguments:**\n",
    "\n",
    "- **locations**: a list in which each element represents the location of a distinct retails store, given as a two-element list of the x and y coordinates. For example, if the list is `[[3,4],[-3,4],[-8,6]]`, then the first store you plan to visit is at location $(x,y)=(3,4)$, the second store at $(-3,4)$, and the third store at $(-8,6)$. Assume that your home is located at $(x,y)=(0,0)$. \n",
    "- **probabilities**: a list of numbers between 0 and 1 (inclusive). You can assume that the length of this list is the same as the length of the list \"locations\", and each element represents the probability that the corresponding store has toilet paper in stock. \n",
    "\n",
    "For simplicity, assume that you travel the minimum distance between any two points, so that the distance between coordinates $(x_1, y_1)$ and $(x_2,y_2)$ is $\\sqrt{(x_1-x_2)^2+(y_1-y_2)^2}$. Moreover, whether toilet paper is in stock is independent across stores. To do square roots, you can do for example:\n",
    "\n",
    "```python\n",
    "import math\n",
    "math.sqrt(5)\n",
    "```\n",
    "\n",
    "**Your function should return one number, which is the total distance travelled on your trip, starting from home and counting all distances travelled until you return to home.** When you find that toilet paper is not in stock at a store, you travel directly to the next store. You return to home only after you have found toilet paper, or after you have gone through all of the stores (in which case you return home empty handed). See the sample outputs for illustrations. Note that the returned number is deterministic if all probabilities are either 0 or 1 (as in test codes 1-4), but should be random otherwise (as in test code 5)."
   ]
  },
  {
   "cell_type": "code",
   "execution_count": 8,
   "metadata": {
    "tags": []
   },
   "outputs": [],
   "source": [
    "# Final Solution\n",
    "import math\n",
    "from numpy.random import default_rng\n",
    "def distance(point1,point2):\n",
    "    return math.sqrt((point1[0]-point2[0])**2+(point1[1]-point2[1])**2)\n",
    "\n",
    "def travel_distance(locations, probabilities):\n",
    "    rng=default_rng()\n",
    "    home=[0,0]\n",
    "    n=len(locations)\n",
    "    total_distance=0\n",
    "    last_point=home\n",
    "    for i in range(n):\n",
    "        current_point=locations[i]\n",
    "        prob=probabilities[i]\n",
    "        total_distance+=distance(last_point,current_point)\n",
    "        if rng.binomial(1,prob) or i==n-1:\n",
    "            total_distance+=distance(current_point,home)\n",
    "            break\n",
    "        last_point=current_point\n",
    "    return total_distance"
   ]
  },
  {
   "cell_type": "code",
   "execution_count": 9,
   "metadata": {
    "tags": []
   },
   "outputs": [
    {
     "data": {
      "text/plain": [
       "16.0"
      ]
     },
     "execution_count": 9,
     "metadata": {},
     "output_type": "execute_result"
    }
   ],
   "source": [
    "# Test code 1\n",
    "travel_distance([[3,4],[-3,4],[-8,6]],[0,1,1])"
   ]
  },
  {
   "cell_type": "code",
   "execution_count": 10,
   "metadata": {
    "tags": []
   },
   "outputs": [
    {
     "name": "stdout",
     "output_type": "stream",
     "text": [
      "10.0\n"
     ]
    }
   ],
   "source": [
    "# Test code 2\n",
    "print(travel_distance([[3,4],[-3,4],[-8,6]],[1,1,0]))"
   ]
  },
  {
   "cell_type": "code",
   "execution_count": 11,
   "metadata": {
    "tags": []
   },
   "outputs": [
    {
     "data": {
      "text/plain": [
       "26.385164807134505"
      ]
     },
     "execution_count": 11,
     "metadata": {},
     "output_type": "execute_result"
    }
   ],
   "source": [
    "# Test code 3\n",
    "travel_distance([[3,4],[-3,4],[-8,6]],[0,0,0])"
   ]
  },
  {
   "cell_type": "code",
   "execution_count": 14,
   "metadata": {
    "tags": []
   },
   "outputs": [
    {
     "data": {
      "image/png": "[encoded data removed]",
      "text/plain": [
       "<Figure size 600x200 with 1 Axes>"
      ]
     },
     "metadata": {},
     "output_type": "display_data"
    },
    {
     "name": "stdout",
     "output_type": "stream",
     "text": [
      "Mean: 35.54\n",
      "Standard deviation: 26.34\n"
     ]
    }
   ],
   "source": [
    "# Test code 4\n",
    "locations=[[3,2],[5,4],[7,-1],[5,-8],[-5,-4],[-6,2],[-8,4],[-20,10]]\n",
    "probabilities=[0.1,0.3,0.2,0.2,0.1,0.05,0.2,0.05]\n",
    "import pandas as pd\n",
    "import matplotlib.pyplot as plt\n",
    "distances=pd.Series([travel_distance(locations,probabilities) for i in range(10000)])\n",
    "distances.plot(kind='hist',bins=30,title='Distribution of travel distance',figsize=(6,2))\n",
    "plt.show()\n",
    "print('Mean:',round(distances.mean(),2))\n",
    "print('Standard deviation:',round(distances.std(),2))"
   ]
  }
 ],
 "metadata": {
  "kernelspec": {
   "display_name": "Python 3 (ipykernel)",
   "language": "python",
   "name": "python3"
  },
  "language_info": {
   "codemirror_mode": {
    "name": "ipython",
    "version": 3
   },
   "file_extension": ".py",
   "mimetype": "text/x-python",
   "name": "python",
   "nbconvert_exporter": "python",
   "pygments_lexer": "ipython3",
   "version": "3.11.4"
  }
 },
 "nbformat": 4,
 "nbformat_minor": 4
}
